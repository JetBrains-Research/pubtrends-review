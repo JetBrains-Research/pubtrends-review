{
 "cells": [
  {
   "cell_type": "markdown",
   "metadata": {},
   "source": [
    "# Training&Evaluation of a developed algorithm\n",
    "\n",
    "In this python notebook you can try several possible architectures and train&evaluate them."
   ]
  },
  {
   "cell_type": "markdown",
   "metadata": {},
   "source": [
    "0. Utilities"
   ]
  },
  {
   "cell_type": "code",
   "execution_count": 1,
   "metadata": {},
   "outputs": [],
   "source": [
    "import sys\n",
    "import logging\n",
    "logging.basicConfig(level=logging.INFO, format='%(asctime)s %(levelname)s: %(message)s')\n",
    "from tqdm.auto import tqdm\n",
    "import pandas as pd\n",
    "\n",
    "# Used memory analysis utility\n",
    "def sizeof_fmt(num, suffix='B'):\n",
    "    for unit in ['','Ki','Mi','Gi','Ti','Pi','Ei','Zi']:\n",
    "        if abs(num) < 1024.0:\n",
    "            return \"%3.1f %s%s\" % (num, unit, suffix)\n",
    "        num /= 1024.0\n",
    "    return \"%.1f %s%s\" % (num, 'Yi', suffix)\n",
    "\n",
    "# Print all allocated variables\n",
    "def print_mem_usage():\n",
    "    for name, size in sorted(((name, sys.getsizeof(value)) for name, value in globals().items()),\n",
    "                             key= lambda x: x[1],\n",
    "                             reverse=True)[:10]:\n",
    "        print(\"Global {:>30}: {:>8}\".format(name, sizeof_fmt(size)))    \n",
    "    for name, size in sorted(((name, sys.getsizeof(value)) for name, value in locals().items()),\n",
    "                             key= lambda x: x[1],\n",
    "                             reverse=True)[:10]:\n",
    "        print(\"Local {:>30}: {:>8}\".format(name, sizeof_fmt(size)))"
   ]
  },
  {
   "cell_type": "code",
   "execution_count": 2,
   "metadata": {},
   "outputs": [
    {
     "name": "stdout",
     "output_type": "stream",
     "text": [
      "True\n"
     ]
    }
   ],
   "source": [
    "import torch\n",
    "\n",
    "# Check CUDA is available\n",
    "print(torch.cuda.is_available())"
   ]
  },
  {
   "cell_type": "markdown",
   "metadata": {},
   "source": [
    "1. Create a `Summarizer`&`Classifier` class.\n",
    "\n",
    "It has several options to set up: \n",
    "* with or without features (right now without features works better), \n",
    "* `BERT` or `roberta` as basis (no big difference), \n",
    "\n",
    "You can also choose `frozen_strategy`:\n",
    "* `froze_all` in case you don't want to improve bert layers but only the summarization layer, \n",
    "* `unfroze_last4` -- modifies bert weights and still training not very slow, \n",
    "* `unfroze_all` -- the training is slow, the results may better though"
   ]
  },
  {
   "cell_type": "code",
   "execution_count": 18,
   "metadata": {},
   "outputs": [],
   "source": [
    "import os\n",
    "import torch.nn as nn\n",
    "import torch\n",
    "import numpy as np\n",
    "from transformers import BertModel, RobertaModel\n",
    "from collections import namedtuple\n",
    "from transformers import BertTokenizer, RobertaTokenizer\n",
    "from pysrc.review.train.preprocess import parse_sents, standardize, greedy_selection\n",
    "from pathlib import Path\n",
    "\n",
    "import pysrc.review.config as cfg\n",
    "from pysrc.review.utils import get_ids_mask\n",
    "\n",
    "\n",
    "SpecToken = namedtuple('SpecToken', ['tkn', 'idx'])\n",
    "ConvertToken2Id = lambda tokenizer, tkn: tokenizer.convert_tokens_to_ids([tkn])[0]\n",
    "\n",
    "\n",
    "class Summarizer(nn.Module):\n",
    "\n",
    "    enc_output: torch.Tensor\n",
    "    rouges_values: np.array = np.zeros(4)\n",
    "    dec_ids_mask: torch.Tensor\n",
    "    encdec_ids_mask: torch.Tensor\n",
    "\n",
    "    def __init__(self, model_type, article_len, with_features=False, num_features=10):\n",
    "        super(Summarizer, self).__init__()\n",
    "\n",
    "        self.article_len = article_len\n",
    "\n",
    "        if model_type == 'bert':\n",
    "            self.backbone, self.tokenizer, BOS, EOS, PAD = self.initialize_bert()\n",
    "        elif model_type == 'roberta':\n",
    "            self.backbone, self.tokenizer, BOS, EOS, PAD = self.initialize_roberta()\n",
    "        else:\n",
    "            raise Exception(f\"Wrong model_type argument: {model_type}\")\n",
    "            \n",
    "        if with_features:\n",
    "            self.features = nn.Sequential(nn.Linear(num_features, 100),\n",
    "                                          nn.ReLU(),\n",
    "                                          nn.Linear(100, 100),\n",
    "                                          nn.ReLU(),\n",
    "                                          nn.Linear(100, 50))\n",
    "        else:\n",
    "            self.features = None\n",
    "\n",
    "        self.PAD = SpecToken(PAD, ConvertToken2Id(self.tokenizer, PAD))\n",
    "        self.artBOS = SpecToken(BOS, ConvertToken2Id(self.tokenizer, BOS))\n",
    "        self.artEOS = SpecToken(EOS, ConvertToken2Id(self.tokenizer, EOS))\n",
    "\n",
    "        # add special tokens tokenizer\n",
    "        self.tokenizer.add_special_tokens({'additional_special_tokens': [\"<sum>\", \"</sent>\", \"</sum>\"]})\n",
    "        self.vocab_size = len(self.tokenizer)\n",
    "        self.sumBOS = SpecToken(\"<sum>\", ConvertToken2Id(self.tokenizer, \"<sum>\"))\n",
    "        self.sumEOS = SpecToken(\"</sent>\", ConvertToken2Id(self.tokenizer, \"</sent>\"))\n",
    "        self.sumEOA = SpecToken(\"</sum>\", ConvertToken2Id(self.tokenizer, \"</sum>\"))\n",
    "        self.backbone.resize_token_embeddings(200 + self.vocab_size)\n",
    "\n",
    "        # tokenizer\n",
    "        self.tokenizer.PAD = self.PAD\n",
    "        self.tokenizer.artBOS = self.artBOS\n",
    "        self.tokenizer.artEOS = self.artEOS\n",
    "        self.tokenizer.sumBOS = self.sumBOS\n",
    "        self.tokenizer.sumEOS = self.sumEOS\n",
    "        self.tokenizer.sumEOA = self.sumEOA\n",
    "        self.vocab_size = len(self.tokenizer)\n",
    "\n",
    "        # initialize backbone emb pulling\n",
    "        def backbone_forward(input_ids, input_mask, input_segment, input_pos):\n",
    "            return self.backbone(\n",
    "                input_ids=input_ids,\n",
    "                attention_mask=input_mask,\n",
    "                token_type_ids=input_segment,\n",
    "                position_ids=input_pos,\n",
    "            )\n",
    "        self.encoder = lambda *args: backbone_forward(*args)[0]\n",
    "\n",
    "        # initialize decoder\n",
    "        if not with_features:\n",
    "            self.decoder = Classifier(cfg.d_hidden)\n",
    "        else:\n",
    "            self.decoder = Classifier(cfg.d_hidden + 50)\n",
    "\n",
    "    def expand_posembs_ifneed(self):\n",
    "        print(self.backbone.config.max_position_embeddings, self.article_len)\n",
    "        if self.article_len > self.backbone.config.max_position_embeddings:\n",
    "            print(\"OK\")\n",
    "            old_maxlen = self.backbone.config.max_position_embeddings\n",
    "            old_w = self.backbone.embeddings.position_embeddings.weight\n",
    "            logging.info(f\"Backbone pos embeddings expanded from {old_maxlen} upto {self.article_len}\")\n",
    "            self.backbone.embeddings.position_embeddings = \\\n",
    "                nn.Embedding(self.article_len, self.backbone.config.hidden_size)\n",
    "            self.backbone.embeddings.position_embeddings.weight[:old_maxlen].data.copy_(old_w)\n",
    "            self.backbone.config.max_position_embeddings = self.article_len\n",
    "        print(self.backbone.config.max_position_embeddings)\n",
    "\n",
    "    @staticmethod\n",
    "    def initialize_bert():\n",
    "        backbone = BertModel.from_pretrained(\n",
    "            \"bert-base-uncased\", output_hidden_states=False\n",
    "        )\n",
    "        tokenizer = BertTokenizer.from_pretrained('bert-base-uncased', do_lower_case=True)\n",
    "\n",
    "        BOS = \"[CLS]\"\n",
    "        EOS = \"[SEP]\"\n",
    "        PAD = \"[PAD]\"\n",
    "        return backbone, tokenizer, BOS, EOS, PAD\n",
    "\n",
    "    @staticmethod\n",
    "    def initialize_roberta():\n",
    "        backbone = RobertaModel.from_pretrained(\n",
    "            'roberta-base', output_hidden_states=False\n",
    "        )\n",
    "        # initialize token type emb, by default roberta doesn't have it\n",
    "        backbone.config.type_vocab_size = 2\n",
    "        backbone.embeddings.token_type_embeddings = nn.Embedding(2, backbone.config.hidden_size)\n",
    "        backbone.embeddings.token_type_embeddings.weight.data.normal_(\n",
    "            mean=0.0, std=backbone.config.initializer_range\n",
    "        )\n",
    "        tokenizer = RobertaTokenizer.from_pretrained('roberta-base', do_lower_case=True)\n",
    "        BOS = \"<s>\"\n",
    "        EOS = \"</s>\"\n",
    "        PAD = \"<pad>\"\n",
    "        return backbone, tokenizer, BOS, EOS, PAD\n",
    "\n",
    "    def save(self, save_filename):\n",
    "        \"\"\" Save model in filename\n",
    "\n",
    "        :param save_filename: str\n",
    "        \"\"\"\n",
    "        if not self.features:\n",
    "            state = {\n",
    "                'encoder_dict': self.backbone.state_dict(),\n",
    "                'decoder_dict': self.decoder.state_dict(),\n",
    "            }\n",
    "        else:\n",
    "            state = {\n",
    "                'encoder_dict': self.backbone.state_dict(),\n",
    "                'decoder_dict': self.decoder.state_dict(),\n",
    "                'features_dict': self.features.state_dict(),\n",
    "            }\n",
    "        models_folder = os.path.abspath(cfg.weights_path)\n",
    "        if not os.path.exists(models_folder):\n",
    "            os.mkdirs(models_folder)\n",
    "        torch.save(state, f\"{models_folder}/{save_filename}.pth\")\n",
    "\n",
    "    def load(self, load_filename):\n",
    "        path = f\"{os.path.abspath(cfg.weights_path)}/{load_filename}.pth\"\n",
    "        state = torch.load(path, map_location=lambda storage, location: storage)\n",
    "        self.backbone.load_state_dict(state['encoder_dict'])\n",
    "        self.decoder.load_state_dict(state['decoder_dict'])\n",
    "        if self.features:\n",
    "            self.features.load_state_dict(state['features_dict'])\n",
    "        \n",
    "\n",
    "    def froze_backbone(self, froze_strategy):\n",
    "\n",
    "        assert froze_strategy in ['froze_all', 'unfroze_last4', 'unfroze_all'],\\\n",
    "            f\"incorrect froze_strategy argument: {froze_strategy}\"\n",
    "\n",
    "        if froze_strategy == 'froze_all':\n",
    "            for name, param in self.backbone.named_parameters():\n",
    "                param.requires_grad_(False)\n",
    "\n",
    "        elif froze_strategy == 'unfroze_last4':\n",
    "            for name, param in self.backbone.named_parameters():\n",
    "                param.requires_grad_(True if (\n",
    "                    'encoder.layer.11' in name or\n",
    "                    'encoder.layer.10' in name or\n",
    "                    'encoder.layer.9' in name or\n",
    "                    'encoder.layer.8' in name\n",
    "                ) else False)\n",
    "\n",
    "        elif froze_strategy == 'unfroze_all':\n",
    "            for param in self.backbone.parameters():\n",
    "                param.requires_grad_(True)\n",
    "\n",
    "    def unfroze_head(self):\n",
    "\n",
    "        for name, param in self.decoder.named_parameters():\n",
    "            param.requires_grad_(True)\n",
    "\n",
    "    @property\n",
    "    def rouge_1(self):\n",
    "        return self.rouges_values[0]\n",
    "\n",
    "    @property\n",
    "    def rouge_2(self):\n",
    "        return self.rouges_values[1]\n",
    "\n",
    "    @property\n",
    "    def rouge_l(self):\n",
    "        return self.rouges_values[2]\n",
    "\n",
    "    @property\n",
    "    def rouge_mean(self):\n",
    "        return self.rouges_values[3]\n",
    "\n",
    "    def forward(self, input_ids, input_mask, input_segment, input_features=None):\n",
    "        \"\"\" Train for 1st stage of model\n",
    "\n",
    "        :param input_ids: torch.Size([batch_size, article_len])\n",
    "        :param input_mask: torch.Size([batch_size, article_len])\n",
    "        :param input_segment: torch.Size([batch_size, article_len])\n",
    "        :return:\n",
    "            logprobs | torch.Size([batch_size, summary_len, vocab_size])\n",
    "        \"\"\"\n",
    "        \n",
    "        cls_mask = (input_ids == self.artBOS.idx)\n",
    "\n",
    "        # position ids | torch.Size([batch_size, article_len])\n",
    "        pos_ids = torch\\\n",
    "            .arange(0, self.article_len, dtype=torch.long, device=input_ids.device)\\\n",
    "            .unsqueeze(0)\\\n",
    "            .repeat(len(input_ids), 1)\n",
    "        # extract bert embeddings | torch.Size([batch_size, article_len, d_bert])\n",
    "        enc_output = self.encoder(input_ids, input_mask, input_segment, pos_ids)\n",
    "        \n",
    "        if self.features:\n",
    "            temp_features = self.features(input_features)\n",
    "            draft_logprobs = self.decoder(torch.cat([enc_output[cls_mask], temp_features], dim=-1))\n",
    "        else:\n",
    "            draft_logprobs = self.decoder(enc_output[cls_mask])\n",
    "\n",
    "        return draft_logprobs\n",
    "\n",
    "    def evaluate(self, input_ids, input_mask, input_segment, input_features=None):\n",
    "        \"\"\" Eval for 1st stage of model\n",
    "\n",
    "        :param input_ids: torch.Size([batch_size, article_len])\n",
    "        :param input_mask: torch.Size([batch_size, article_len])\n",
    "        :param input_segment: torch.Size([batch_size, article_len])\n",
    "        :return:\n",
    "            draft_ids | torch.Size([batch_size, summary_len])\n",
    "        \"\"\"\n",
    "\n",
    "        cls_mask = (input_ids == self.artBOS.idx)\n",
    "\n",
    "        # position ids | torch.Size([batch_size, article_len])\n",
    "        pos_ids = torch\\\n",
    "            .arange(0, self.article_len, dtype=torch.long, device=input_ids.device)\\\n",
    "            .unsqueeze(0)\\\n",
    "            .repeat(len(input_ids), 1)\n",
    "        # extract bert embeddings | torch.Size([batch_size, article_len, d_bert])\n",
    "        enc_output = self.encoder(input_ids, input_mask, input_segment, pos_ids)\n",
    "\n",
    "        ans = []\n",
    "        for eo, cm in zip(enc_output, cls_mask):\n",
    "            if self.features:\n",
    "                scores = self.decoder.evaluate(torch.cat([eo[cm], self.features(input_features)], dim=-1))\n",
    "            else:\n",
    "                scores = self.decoder.evaluate(eo[cm])\n",
    "            ans.append(scores)\n",
    "        return ans\n",
    "\n",
    "\n",
    "class Classifier(nn.Module):\n",
    "    def __init__(self, hidden_size):\n",
    "        super(Classifier, self).__init__()\n",
    "        self.linear1 = nn.Linear(hidden_size, 1)\n",
    "        self.sigmoid = nn.Sigmoid()\n",
    "\n",
    "    def forward(self, x):\n",
    "        x = self.linear1(x).squeeze(-1)\n",
    "        scores = self.sigmoid(x)\n",
    "        return scores\n",
    "\n",
    "    def evaluate(self, x):\n",
    "        x = self.linear1(x).squeeze(-1)\n",
    "        scores = self.sigmoid(x)\n",
    "        return scores"
   ]
  },
  {
   "cell_type": "markdown",
   "metadata": {},
   "source": [
    "2. `train_fun` -- training function for model without features. \\\n",
    "`train_fun_ft` -- training function for model with features."
   ]
  },
  {
   "cell_type": "code",
   "execution_count": 4,
   "metadata": {},
   "outputs": [],
   "source": [
    "from torch.optim.optimizer import Optimizer\n",
    "from tqdm import tqdm\n",
    "import math\n",
    "from pysrc.review.utils import get_enc_lr, get_dec_lr\n",
    "\n",
    "def backward_step(loss: torch.Tensor, optimizer: Optimizer, model: nn.Module, clip: float, amp_enabled: int):\n",
    "    loss.backward()\n",
    "    total_norm = torch.nn.utils.clip_grad_norm_(model.parameters(), clip)\n",
    "    return total_norm\n",
    "\n",
    "def train_fun(model, dataloader, optimizer, scheduler, criter, device, rank, writer, distributed):\n",
    "\n",
    "    # draft, refine\n",
    "    model.train()\n",
    "    model_ref = model.module if distributed else model\n",
    "\n",
    "    pbar = tqdm(enumerate(dataloader), total=len(dataloader), leave=False, disable=rank != 0)\n",
    "    for idx_batch, batch in pbar:\n",
    "        \n",
    "        input_ids, input_mask, input_segment, target_scores = \\\n",
    "            [(x.to(device) if isinstance(x, torch.Tensor) else x) for x in batch]\n",
    "        target_scores = torch.cat(target_scores).to(device)\n",
    "\n",
    "        # forward pass\n",
    "        draft_probs = model(\n",
    "            input_ids, input_mask, input_segment,\n",
    "        )\n",
    "\n",
    "        try:\n",
    "        # loss\n",
    "            loss = criter(\n",
    "                draft_probs,\n",
    "                target_scores,\n",
    "            )\n",
    "        except Exception:\n",
    "            print(idx_batch, draft_probs.shape, target_scores.shape, input_segment)\n",
    "            return\n",
    "\n",
    "        # backward\n",
    "        grad_norm = backward_step(loss, optimizer, model, optimizer.clip_value, amp_enabled=cfg.amp_enabled)\n",
    "        grad_norm = 0 if (math.isinf(grad_norm) or math.isnan(grad_norm)) else grad_norm\n",
    "\n",
    "        # record a loss value\n",
    "        # loss_val += loss.item() * len(input_ids)\n",
    "        pbar.set_description(f\"loss:{loss.item():.2f}\")\n",
    "        writer.add_scalar(f\"Train/loss\", loss.item(), writer.train_step)\n",
    "        writer.add_scalar(\"Train/grad_norm\", grad_norm, writer.train_step)\n",
    "        writer.add_scalar(\"Train/lr_enc\", get_enc_lr(optimizer), writer.train_step)\n",
    "        writer.add_scalar(\"Train/lr_dec\", get_dec_lr(optimizer), writer.train_step)\n",
    "        writer.train_step += 1\n",
    "\n",
    "        # make a gradient step\n",
    "        if (idx_batch + 1) % optimizer.accumulation_interval == 0 or (idx_batch + 1) == len(dataloader):\n",
    "            optimizer.step()\n",
    "            optimizer.zero_grad()\n",
    "        scheduler.step()\n",
    "\n",
    "    # overall loss per epoch\n",
    "    # if distributed:\n",
    "    #     loss_val = distribute(loss_val, device)\n",
    "    # logging.info(f\"mean loss: {loss_val / len(dataloader.dataset):.4f}\", is_print=rank == 0)\n",
    "\n",
    "    # save model, just in case\n",
    "    if rank == 0:\n",
    "        model_ref.save('temp')\n",
    "\n",
    "    return model, optimizer, scheduler, writer\n",
    "\n",
    "def train_fun_ft(model, dataloader, optimizer, scheduler, criter, device, rank, writer, distributed):\n",
    "\n",
    "    # draft, refine\n",
    "    model.train()\n",
    "    model_ref = model.module if distributed else model\n",
    "\n",
    "    pbar = tqdm(enumerate(dataloader), total=len(dataloader), leave=False, disable=rank != 0)\n",
    "    for idx_batch, batch in pbar:\n",
    "        \n",
    "        input_ids, input_mask, input_segment, target_scores, input_features = \\\n",
    "            [(x.to(device) if isinstance(x, torch.Tensor) else x) for x in batch]\n",
    "        target_scores = torch.cat(target_scores).to(device)\n",
    "        input_features = torch.cat(input_features).to(device)\n",
    "        # forward pass\n",
    "        draft_probs = model(\n",
    "            input_ids, input_mask, input_segment, input_features,\n",
    "        )\n",
    "\n",
    "        try:\n",
    "        # loss\n",
    "            loss = criter(\n",
    "                draft_probs,\n",
    "                target_scores,\n",
    "            )\n",
    "        except Exception:\n",
    "            print(idx_batch, draft_probs.shape, target_scores.shape, input_segment)\n",
    "            return\n",
    "\n",
    "        # backward\n",
    "        grad_norm = backward_step(loss, optimizer, model, optimizer.clip_value, amp_enabled=cfg.amp_enabled)\n",
    "        grad_norm = 0 if (math.isinf(grad_norm) or math.isnan(grad_norm)) else grad_norm\n",
    "\n",
    "        # record a loss value\n",
    "        # loss_val += loss.item() * len(input_ids)\n",
    "        pbar.set_description(f\"loss:{loss.item():.2f}\")\n",
    "        writer.add_scalar(f\"Train/loss\", loss.item(), writer.train_step)\n",
    "        writer.add_scalar(\"Train/grad_norm\", grad_norm, writer.train_step)\n",
    "        writer.add_scalar(\"Train/lr_enc\", get_enc_lr(optimizer), writer.train_step)\n",
    "        writer.add_scalar(\"Train/lr_dec\", get_dec_lr(optimizer), writer.train_step)\n",
    "        writer.train_step += 1\n",
    "\n",
    "        # make a gradient step\n",
    "        if (idx_batch + 1) % optimizer.accumulation_interval == 0 or (idx_batch + 1) == len(dataloader):\n",
    "            optimizer.step()\n",
    "            optimizer.zero_grad()\n",
    "        scheduler.step()\n",
    "\n",
    "    # overall loss per epoch\n",
    "    # if distributed:\n",
    "    #     loss_val = distribute(loss_val, device)\n",
    "    # logging.info(f\"mean loss: {loss_val / len(dataloader.dataset):.4f}\", is_print=rank == 0)\n",
    "\n",
    "    # save model, just in case\n",
    "    if rank == 0:\n",
    "        model_ref.save('temp')\n",
    "\n",
    "    return model, optimizer, scheduler, writer"
   ]
  },
  {
   "cell_type": "markdown",
   "metadata": {},
   "source": [
    "3. `load_data` loads all the needed datafiles for building train dataset.\\\n",
    "The several next steps are only should be done if no train/test/val datasets are saved."
   ]
  },
  {
   "cell_type": "code",
   "execution_count": 5,
   "metadata": {},
   "outputs": [],
   "source": [
    "def load_data(root2data, ft):\n",
    "    logging.info('Loading citations_df')\n",
    "    citations_df = pd.read_csv(root2data / \"citations.csv\", sep='\\t')\n",
    "    logging.info(sizeof_fmt(sys.getsizeof(citations_df)))\n",
    "\n",
    "    logging.info('Loading sentences_df')\n",
    "    sentences_df = pd.read_csv(root2data / \"sentences.csv\", sep='\\t')\n",
    "    logging.info(sizeof_fmt(sys.getsizeof(sentences_df)))\n",
    "\n",
    "    logging.info('Loading ref_sents_df')\n",
    "    ref_sents_df = pd.read_csv(root2data / \"ref_sents.csv\", sep='\\t')\n",
    "    logging.info(sizeof_fmt(sys.getsizeof(ref_sents_df)))\n",
    "\n",
    "    logging.info('Loading review_files_df')\n",
    "    review_files_df = pd.read_csv(root2data / \"review_files.csv\", sep='\\t')\n",
    "    logging.info(sizeof_fmt(sys.getsizeof(review_files_df)))\n",
    "\n",
    "    logging.info('Loading reverse_ref_df')\n",
    "    reverse_ref_df = pd.read_csv(root2data / \"reverse_ref.csv\", sep='\\t')\n",
    "    logging.info(sizeof_fmt(sys.getsizeof(reverse_ref_df)))\n",
    "    if not ft:\n",
    "        return citations_df, sentences_df, ref_sents_df, review_files_df, reverse_ref_df\n",
    "\n",
    "    logging.info('Loading abstracts_df')\n",
    "    abstracts_df = pd.read_csv(root2data / \"abstracts.csv\", sep='\\t')\n",
    "    logging.info(sizeof_fmt(sys.getsizeof(abstracts_df)))\n",
    "    \n",
    "    logging.info('Loading filelist_df')\n",
    "    filelist_df = pd.read_csv(root2data / \"filelist.csv\", sep=',')\n",
    "    logging.info(sizeof_fmt(sys.getsizeof(filelist_df)))\n",
    "        \n",
    "    logging.info('Loading figures_df')\n",
    "    figures_df = pd.read_csv(root2data / \"figures.csv\", sep='\\t')\n",
    "    logging.info(sizeof_fmt(sys.getsizeof(figures_df)))\n",
    "        \n",
    "    logging.info('Loading tables_df')\n",
    "    tables_df = pd.read_csv(root2data / \"tables.csv\", sep='\\t')\n",
    "    logging.info(sizeof_fmt(sys.getsizeof(tables_df)))\n",
    "    return citations_df, sentences_df, ref_sents_df, review_files_df, reverse_ref_df, \\\n",
    "        abstracts_df, filelist_df, figures_df, tables_df    "
   ]
  },
  {
   "cell_type": "markdown",
   "metadata": {},
   "source": [
    "4. `get_rouge` function will be needed anyway. You can uncomment `rouge-l`, if you want. "
   ]
  },
  {
   "cell_type": "code",
   "execution_count": 6,
   "metadata": {},
   "outputs": [],
   "source": [
    "from rouge import Rouge\n",
    "\n",
    "ROUGE_METER = Rouge()\n",
    "TOKENIZER = BertTokenizer.from_pretrained('bert-base-uncased', do_lower_case=True)\n",
    "\n",
    "def get_rouge(sent1, sent2):\n",
    "    sent_1 = TOKENIZER.tokenize(sent1)\n",
    "    #print(sent_1)\n",
    "    sent_1 = \" \".join(list(filter(lambda x: x.isalpha() or x in '.!,?', sent_1)))\n",
    "    #print(sent_1)\n",
    "    sent_2 = TOKENIZER.tokenize(sent2)\n",
    "    sent_2 = \" \".join(list(filter(lambda x: x.isalpha() or x in '.!,?', sent_2)))\n",
    "    rouges = ROUGE_METER.get_scores(sent_1, sent_2)[0]\n",
    "    rouges = [rouges[f'rouge-{x}'][\"f\"] for x in ('1', '2')] # , 'l')]\n",
    "    return np.mean(rouges) * 100"
   ]
  },
  {
   "cell_type": "code",
   "execution_count": 7,
   "metadata": {},
   "outputs": [
    {
     "data": {
      "text/plain": [
       "9.090908842975212"
      ]
     },
     "execution_count": 7,
     "metadata": {},
     "output_type": "execute_result"
    }
   ],
   "source": [
    "get_rouge(\"I am scout. True!\", \"No you are not a scout.\")"
   ]
  },
  {
   "cell_type": "markdown",
   "metadata": {},
   "source": [
    "5. Several functions needed to build the datasets. If the datasets alredy exist, do not have to run this cell."
   ]
  },
  {
   "cell_type": "code",
   "execution_count": 8,
   "metadata": {},
   "outputs": [],
   "source": [
    "from unidecode import unidecode\n",
    "from nltk.tokenize import sent_tokenize\n",
    "import re\n",
    "\n",
    "REPLACE_SYMBOLS = {\n",
    "    '—': '-',\n",
    "    '–': '-',\n",
    "    '―': '-',\n",
    "    '…': '...',\n",
    "    '´´': \"´\",\n",
    "    '´´´': \"´´\",\n",
    "    \"''\": \"'\",\n",
    "    \"'''\": \"'\",\n",
    "    \"``\": \"`\",\n",
    "    \"```\": \"`\",\n",
    "    \":\": \" : \",\n",
    "}\n",
    "\n",
    "def parse_sents(data):\n",
    "    sents = sum([sent_tokenize(text) for text in data], [])\n",
    "    sents = [x for x in text if len(x) > 3]\n",
    "    return sents\n",
    "\n",
    "def sent_standardize(sent):\n",
    "    sent = unidecode(sent)\n",
    "    sent = re.sub(r\"\\[(xref_\\w*_\\w\\d*]*)(, xref_\\w*_\\w\\d*)*\\]\", \" \", sent)  # delete [xref,...]\n",
    "    sent = re.sub(r\"\\( (xref_\\w*_\\w\\d*)(; xref_\\w*_\\w\\d*)* \\)\", \" \", sent)  # delete (xref; ...)\n",
    "    sent = re.sub(r\"\\[xref_\\w*_\\w\\d*\\]\", \" \", sent)  # delete [xref]\n",
    "    sent = re.sub(r\"xref_\\w*_\\w\\d*\", \" \", sent)  # delete [[xref]]\n",
    "    for k, v in REPLACE_SYMBOLS.items():\n",
    "        sent = sent.replace(k, v)\n",
    "    return sent.strip()\n",
    "\n",
    "\n",
    "def standardize(text):\n",
    "    return [x for x in (sent_standardize(sent) for sent in text) if len(x) > 3]\n",
    "\n",
    "\n",
    "\n",
    "def preprocess_paper(paper_id, sentences_df, ref_sents_df):\n",
    "    paper = sentences_df[sentences_df['pmid'] == paper_id]['sentence']\n",
    "    paper = standardize(paper)\n",
    "    \n",
    "    ref_sents = ref_sents_df[ref_sents_df['ref_pmid'] == paper_id]['sentence']\n",
    "    ref_sents = standardize(ref_sents)\n",
    "    \n",
    "    if len(paper) < 50:\n",
    "        return None\n",
    "            \n",
    "    if len(paper) > 100:\n",
    "        paper = list(paper[:50]) + list(paper[-50:])\n",
    "    \n",
    "    preprocessed_score = [sum(get_rouge(sent, ref_sent) for ref_sent in ref_sents) / len(ref_sents)\n",
    "                          for sent in paper]\n",
    "    return paper, preprocessed_score\n",
    "\n",
    "def preprocess_paper_with_features(paper_id, sentences_df, ref_sents_df, abstracts_df, \\\n",
    "                                   figures_df, reverse_ref_df, tables_df):\n",
    "    preprocessed_score = []\n",
    "    features = []\n",
    "    \n",
    "    paper = sentences_df[sentences_df['pmid'] == paper_id]['sentence']\n",
    "    paper = standardize(paper)\n",
    "    \n",
    "    sent_ids = sentences_df[sentences_df['pmid'] == paper_id]['sent_id']\n",
    "    \n",
    "    sent_types = sentences_df[sentences_df['pmid'] == paper_id]['type']\n",
    "    \n",
    "    ref_sents = ref_sents_df[ref_sents_df['ref_pmid'] == paper_id]['sentence']\n",
    "    ref_sents = standardize(ref_sents)\n",
    "\n",
    "    \n",
    "    fig_captions = figures_df[figures_df['pmid'] == paper_id]['caption']\n",
    "    fig_captions = standardize(fig_captions)\n",
    "    \n",
    "    tab_captions = tables_df[tables_df['pmid'] == paper_id]['caption']\n",
    "    tab_captions = standardize(tab_captions)\n",
    "    \n",
    "    abstract = abstracts_df[abstracts_df['pmid'] == paper_id]['abstract']\n",
    "    if len(abstract) != 0:\n",
    "        abstract = standardize(abstract)\n",
    "    \n",
    "    tmp_df = reverse_ref_df[reverse_ref_df['pmid'] == paper_id]\n",
    "    \n",
    "    if len(paper) < 50:\n",
    "        return None\n",
    "            \n",
    "    if len(paper) > 100:\n",
    "        paper = list(paper[:50]) + list(paper[-50:])\n",
    "        sent_ids = list(sent_ids[:50]) + list(sent_ids[-50:])\n",
    "        sent_types = list(sent_types[:50]) + list(sent_types[-50:])\n",
    "        \n",
    "        \n",
    "    def mean_rouge(sent, text):\n",
    "        try:\n",
    "            return sum(get_rouge(sent, ref_sent) for ref_sent in text) / len(text)\n",
    "        except Exception as e:\n",
    "            logging.error(f'Exception at mean_rouge {e}')\n",
    "            return None\n",
    "    \n",
    "    def min_rouge(sent, text):\n",
    "        try:\n",
    "            score = 100000000\n",
    "            for ref_sent in text:\n",
    "                score = min(get_rouge(sent, ref_sent), score)\n",
    "            if score == 100000000:\n",
    "                return None\n",
    "            return score\n",
    "        except Exception as e:\n",
    "            logging.error(f'Exception at min_rouge {e}')\n",
    "            return None\n",
    "    \n",
    "    def max_rouge(sent, text):\n",
    "        try:\n",
    "            score = -100000\n",
    "            for ref_sent in text:\n",
    "                score = max(get_rouge(sent, ref_sent), score)\n",
    "            if score == -100000:\n",
    "                return None\n",
    "            return score\n",
    "        except Exception as e:\n",
    "            logging.error(f'Exception at max_rouge {e}')\n",
    "            return None\n",
    "    \n",
    "    for i, sent in enumerate(paper):\n",
    "        score = mean_rouge(sent, ref_sents)\n",
    "        if score is None:\n",
    "            return None\n",
    "        \n",
    "        try:\n",
    "            abst_diff = get_rouge(sent, abstract[0])\n",
    "        except Exception as e:\n",
    "            logging.error(f'Exception at preprocess_paper_with_features {e}')\n",
    "            abst_diff = None\n",
    "        num_refs = len(tmp_df[(tmp_df['sent_type'] == sent_types[i]) & (tmp_df['sent_id'] == sent_ids[i])])\n",
    "        preprocessed_score.append(score)\n",
    "        features.append((sent_ids[i], int(sent_types[i] == \"general\"), abst_diff, num_refs,\\\n",
    "                        mean_rouge(sent, fig_captions), mean_rouge(sent, tab_captions),\\\n",
    "                        min_rouge(sent, fig_captions), min_rouge(sent, tab_captions), \\\n",
    "                        max_rouge(sent, fig_captions), max_rouge(sent, tab_captions)))\n",
    "    return paper, preprocessed_score, features"
   ]
  },
  {
   "cell_type": "markdown",
   "metadata": {},
   "source": [
    "6. Download data to make datasets from it. If datasets with features are needed, the commented code here should be uncommented."
   ]
  },
  {
   "cell_type": "code",
   "execution_count": 20,
   "metadata": {},
   "outputs": [
    {
     "name": "stderr",
     "output_type": "stream",
     "text": [
      "2020-12-29 14:46:30,060 INFO: Loading references dataset from root2data ~/dataset_with_refs\n",
      "2020-12-29 14:46:30,061 INFO: Loading citations_df\n",
      "2020-12-29 14:47:20,409 INFO: 2.5 GiB\n",
      "2020-12-29 14:47:20,409 INFO: Loading sentences_df\n",
      "2020-12-29 14:54:35,839 INFO: 34.4 GiB\n",
      "2020-12-29 14:54:35,839 INFO: Loading ref_sents_df\n",
      "2020-12-29 14:54:39,110 INFO: 359.6 MiB\n",
      "2020-12-29 14:54:39,111 INFO: Loading review_files_df\n",
      "2020-12-29 14:54:39,127 INFO: 653.3 KiB\n",
      "2020-12-29 14:54:39,128 INFO: Loading reverse_ref_df\n",
      "2020-12-29 14:56:36,866 INFO: 5.9 GiB\n",
      "2020-12-29 14:56:36,867 INFO: Done loading references dataset\n"
     ]
    }
   ],
   "source": [
    "root2data = Path(\"~/dataset_with_refs\")\n",
    "logging.info(f'Loading references dataset from root2data {root2data}')\n",
    "\n",
    "citations_df, sentences_df, ref_sents_df, review_files_df, reverse_ref_df = load_data(root2data, ft=False)\n",
    "\n",
    "# Uncomment to load additional features\n",
    "# citations_df, sentences_df, ref_sents_df, review_files_df, reverse_ref_df, \\\n",
    "#     abstracts_df, filelist_df, figures_df, tables_df = load_data(root2data)\n",
    "\n",
    "logging.info('Done loading references dataset')"
   ]
  },
  {
   "cell_type": "markdown",
   "metadata": {},
   "source": [
    "7. In case datasets are not yet created and `ref_sents_df` is also not yet created, let's create `ref_sents_df`.\\\n",
    "For each paper pmid there is a list of sentences from review papers in which the paper with this `pmid` is cited."
   ]
  },
  {
   "cell_type": "code",
   "execution_count": 19,
   "metadata": {},
   "outputs": [],
   "source": [
    "REF_SENTS_DF_PATH = os.path.expanduser(\"~/dataset_with_refs/ref_sents.csv\")\n",
    "if os.path.exists(REF_SENTS_DF_PATH):\n",
    "    ref_sents_df = pd.read_csv(REF_SENTS_DF_PATH, sep='\\t')\n",
    "else:\n",
    "    logging.info('Creating reference sentences dataset')\n",
    "    ref_sents_df = pd.merge(citations_df, reverse_ref_df, left_on = ['pmid', 'ref_id'], right_on = ['pmid', 'ref_id'])\n",
    "    ref_sents_df = pd.merge(ref_sents_df, sentences_df, left_on = ['pmid', 'sent_type', 'sent_id'], right_on = ['pmid', 'type', 'sent_id'])\n",
    "    ref_sents_df = ref_sents_df[ref_sents_df['pmid'].isin(review_files_df['pmid'].values)]    \n",
    "    ref_sents_df = ref_sents_df.drop_duplicates()\n",
    "    logging.info(f'Len of unique ref_sents {len(set(ref_sents_df[\"ref_pmid\"]))}')\n",
    "    ref_sents_df = ref_sents_df[['pmid', 'ref_id', 'pub_type', 'ref_pmid', 'sent_type', 'sent_id', 'sentence']]\n",
    "    ref_sents_df.to_csv(REF_SENTS_DF_PATH, sep='\\t', index=False)"
   ]
  },
  {
   "cell_type": "code",
   "execution_count": 17,
   "metadata": {},
   "outputs": [
    {
     "data": {
      "text/html": [
       "<div>\n",
       "<style scoped>\n",
       "    .dataframe tbody tr th:only-of-type {\n",
       "        vertical-align: middle;\n",
       "    }\n",
       "\n",
       "    .dataframe tbody tr th {\n",
       "        vertical-align: top;\n",
       "    }\n",
       "\n",
       "    .dataframe thead th {\n",
       "        text-align: right;\n",
       "    }\n",
       "</style>\n",
       "<table border=\"1\" class=\"dataframe\">\n",
       "  <thead>\n",
       "    <tr style=\"text-align: right;\">\n",
       "      <th></th>\n",
       "      <th>pmid</th>\n",
       "      <th>ref_id</th>\n",
       "      <th>pub_type</th>\n",
       "      <th>ref_pmid</th>\n",
       "      <th>sent_type</th>\n",
       "      <th>sent_id</th>\n",
       "      <th>sentence</th>\n",
       "    </tr>\n",
       "  </thead>\n",
       "  <tbody>\n",
       "    <tr>\n",
       "      <th>0</th>\n",
       "      <td>11978898</td>\n",
       "      <td>R2</td>\n",
       "      <td>journal</td>\n",
       "      <td>9657795</td>\n",
       "      <td>general</td>\n",
       "      <td>0</td>\n",
       "      <td>Deliberate self-poisoning has reached epidemic...</td>\n",
       "    </tr>\n",
       "    <tr>\n",
       "      <th>1</th>\n",
       "      <td>11978898</td>\n",
       "      <td>R12</td>\n",
       "      <td>journal</td>\n",
       "      <td>8783813</td>\n",
       "      <td>general</td>\n",
       "      <td>8</td>\n",
       "      <td>In vitro experiments have shown that oximes ar...</td>\n",
       "    </tr>\n",
       "    <tr>\n",
       "      <th>2</th>\n",
       "      <td>11978898</td>\n",
       "      <td>R13</td>\n",
       "      <td>journal</td>\n",
       "      <td>8481105</td>\n",
       "      <td>general</td>\n",
       "      <td>8</td>\n",
       "      <td>In vitro experiments have shown that oximes ar...</td>\n",
       "    </tr>\n",
       "    <tr>\n",
       "      <th>3</th>\n",
       "      <td>11978898</td>\n",
       "      <td>R15</td>\n",
       "      <td>journal</td>\n",
       "      <td>9292288</td>\n",
       "      <td>general</td>\n",
       "      <td>8</td>\n",
       "      <td>In vitro experiments have shown that oximes ar...</td>\n",
       "    </tr>\n",
       "    <tr>\n",
       "      <th>4</th>\n",
       "      <td>11978898</td>\n",
       "      <td>R12</td>\n",
       "      <td>journal</td>\n",
       "      <td>8783813</td>\n",
       "      <td>general</td>\n",
       "      <td>10</td>\n",
       "      <td>It has now become clear, however, that the deg...</td>\n",
       "    </tr>\n",
       "  </tbody>\n",
       "</table>\n",
       "</div>"
      ],
      "text/plain": [
       "       pmid ref_id pub_type  ref_pmid sent_type  sent_id  \\\n",
       "0  11978898     R2  journal   9657795   general        0   \n",
       "1  11978898    R12  journal   8783813   general        8   \n",
       "2  11978898    R13  journal   8481105   general        8   \n",
       "3  11978898    R15  journal   9292288   general        8   \n",
       "4  11978898    R12  journal   8783813   general       10   \n",
       "\n",
       "                                            sentence  \n",
       "0  Deliberate self-poisoning has reached epidemic...  \n",
       "1  In vitro experiments have shown that oximes ar...  \n",
       "2  In vitro experiments have shown that oximes ar...  \n",
       "3  In vitro experiments have shown that oximes ar...  \n",
       "4  It has now become clear, however, that the deg...  "
      ]
     },
     "metadata": {},
     "output_type": "display_data"
    }
   ],
   "source": [
    "display(ref_sents_df.head())"
   ]
  },
  {
   "cell_type": "markdown",
   "metadata": {},
   "source": [
    "8. To create a dataset with features use `preprocess_paper_with_features`. Otherwise, use `preprocess_paper`. "
   ]
  },
  {
   "cell_type": "code",
   "execution_count": 21,
   "metadata": {
    "scrolled": true
   },
   "outputs": [],
   "source": [
    "def process_reference_sentences_dataset(sentences_df, ref_sents_df):\n",
    "    res = {}\n",
    "    inter = set(sentences_df['pmid'].values) & set(ref_sents_df['ref_pmid'].values)\n",
    "    linter = len(inter)\n",
    "    for i, pmid in enumerate(inter):\n",
    "        try:\n",
    "            # For dataset with additional features uncomment this\n",
    "    #         temp = preprocess_paper_with_features(pmid, sentences_df, ref_sents_df, abstracts_df,\n",
    "    #                                               figures_df, reverse_ref_df, tables_df)\n",
    "            temp = preprocess_paper(pmid, sentences_df, ref_sents_df)\n",
    "        except Exception as e:\n",
    "            logging.warning(f'Error during processing {pmid} {e}')\n",
    "            continue\n",
    "        if temp is None:\n",
    "            logging.warning(f'temp is None for {pmid}')\n",
    "            continue\n",
    "        res[pmid] = temp\n",
    "        print(f\"\\r{i}/{linter} {pmid} {np.mean(res[pmid][1])}\", end=\"\")\n",
    "\n",
    "    logging.info(f'Successfully preprocessed {len(res)} of {len(inter)} papers')\n",
    "\n",
    "    logging.info(f'Creating train dataset')\n",
    "    feature_names = ['sent_id', 'sent_type', 'r_abs', 'num_refs', \\\n",
    "                 'mean_r_fig', 'mean_r_tab',\\\n",
    "                 'min_r_fig', 'min_r_tab',\\\n",
    "                 'max_r_fig', 'max_r_tab']\n",
    "    train_dic = {'pmid':[], 'sentence':[], 'score':[],\\\n",
    "                'sent_id':[], 'sent_type':[], 'r_abs':[], 'num_refs':[], \\\n",
    "                     'mean_r_fig':[], 'mean_r_tab':[],\\\n",
    "                     'min_r_fig':[], 'min_r_tab':[],\\\n",
    "                     'max_r_fig':[], 'max_r_tab':[]}\n",
    "\n",
    "    for pmid, stat in tqdm(res.items()):\n",
    "        if len(stat) == 2:\n",
    "            for sent, score in zip(*stat):\n",
    "                train_dic['pmid'].append(pmid)\n",
    "                train_dic['sentence'].append(sent)\n",
    "                train_dic['score'].append(score)    \n",
    "        else:\n",
    "            for sent, score, features in zip(*stat):\n",
    "                train_dic['pmid'].append(pmid)\n",
    "                train_dic['sentence'].append(sent)\n",
    "                train_dic['score'].append(score)\n",
    "                for name, val in zip(feature_names, features):\n",
    "                    train_dic[name].append(val)\n",
    "\n",
    "    train_df = pd.DataFrame({k:v for k,v in train_dic.items() if v})\n",
    "    logging.info(f'Full train dataset {len(train_df)}')\n",
    "    return train_df"
   ]
  },
  {
   "cell_type": "code",
   "execution_count": null,
   "metadata": {
    "scrolled": true
   },
   "outputs": [
    {
     "name": "stdout",
     "output_type": "stream",
     "text": [
      "4/25033 22020140 10.386586244216467"
     ]
    },
    {
     "name": "stderr",
     "output_type": "stream",
     "text": [
      "2020-12-29 15:26:55,908 WARNING: temp is None for 25559091\n"
     ]
    },
    {
     "name": "stdout",
     "output_type": "stream",
     "text": [
      "33/25033 19398967 12.477530710148207"
     ]
    },
    {
     "name": "stderr",
     "output_type": "stream",
     "text": [
      "2020-12-29 15:27:19,008 WARNING: temp is None for 23724363\n"
     ]
    },
    {
     "name": "stdout",
     "output_type": "stream",
     "text": [
      "64/25033 23462319 10.890494606887696"
     ]
    },
    {
     "name": "stderr",
     "output_type": "stream",
     "text": [
      "2020-12-29 15:27:32,398 WARNING: temp is None for 19136953\n"
     ]
    },
    {
     "name": "stdout",
     "output_type": "stream",
     "text": [
      "107/25033 18481837 11.690525257056711"
     ]
    },
    {
     "name": "stderr",
     "output_type": "stream",
     "text": [
      "2020-12-29 15:28:03,308 WARNING: temp is None for 24511163\n",
      "2020-12-29 15:28:03,378 WARNING: temp is None for 20579007\n"
     ]
    },
    {
     "name": "stdout",
     "output_type": "stream",
     "text": [
      "200/25033 22021288 4.5148969392325625"
     ]
    },
    {
     "name": "stderr",
     "output_type": "stream",
     "text": [
      "2020-12-29 15:28:56,984 WARNING: temp is None for 22021295\n"
     ]
    },
    {
     "name": "stdout",
     "output_type": "stream",
     "text": [
      "520/25033 19139294 6.3608503080275159"
     ]
    },
    {
     "name": "stderr",
     "output_type": "stream",
     "text": [
      "2020-12-29 15:32:03,328 WARNING: temp is None for 22416097\n"
     ]
    },
    {
     "name": "stdout",
     "output_type": "stream",
     "text": [
      "527/25033 22940426 10.346726186676474"
     ]
    },
    {
     "name": "stderr",
     "output_type": "stream",
     "text": [
      "2020-12-29 15:32:05,499 WARNING: temp is None for 19139352\n"
     ]
    },
    {
     "name": "stdout",
     "output_type": "stream",
     "text": [
      "569/25033 26479555 8.3036033815426794"
     ]
    },
    {
     "name": "stderr",
     "output_type": "stream",
     "text": [
      "2020-12-29 15:32:34,901 WARNING: temp is None for 23727045\n"
     ]
    },
    {
     "name": "stdout",
     "output_type": "stream",
     "text": [
      "617/25033 20712640 16.103775857593035"
     ]
    },
    {
     "name": "stderr",
     "output_type": "stream",
     "text": [
      "2020-12-29 15:33:06,602 WARNING: temp is None for 20581575\n"
     ]
    },
    {
     "name": "stdout",
     "output_type": "stream",
     "text": [
      "678/25033 20581870 14.183523941842186"
     ]
    },
    {
     "name": "stderr",
     "output_type": "stream",
     "text": [
      "2020-12-29 15:33:44,183 WARNING: temp is None for 20581873\n"
     ]
    },
    {
     "name": "stdout",
     "output_type": "stream",
     "text": [
      "725/25033 23465745 9.1609014388697302"
     ]
    },
    {
     "name": "stderr",
     "output_type": "stream",
     "text": [
      "2020-12-29 15:34:13,670 WARNING: temp is None for 25693976\n"
     ]
    },
    {
     "name": "stdout",
     "output_type": "stream",
     "text": [
      "741/25033 22548305 10.249741728475708"
     ]
    },
    {
     "name": "stderr",
     "output_type": "stream",
     "text": [
      "2020-12-29 15:34:24,146 WARNING: temp is None for 27397970\n"
     ]
    },
    {
     "name": "stdout",
     "output_type": "stream",
     "text": [
      "770/25033 22810586 9.8445357536004226"
     ]
    },
    {
     "name": "stderr",
     "output_type": "stream",
     "text": [
      "2020-12-29 15:34:39,652 WARNING: temp is None for 19927006\n"
     ]
    },
    {
     "name": "stdout",
     "output_type": "stream",
     "text": [
      "822/25033 22810892 9.8257860444539424"
     ]
    },
    {
     "name": "stderr",
     "output_type": "stream",
     "text": [
      "2020-12-29 15:35:20,095 WARNING: temp is None for 19271966\n"
     ]
    },
    {
     "name": "stdout",
     "output_type": "stream",
     "text": [
      "836/25033 21631316 6.5958893882284637"
     ]
    },
    {
     "name": "stderr",
     "output_type": "stream",
     "text": [
      "2020-12-29 15:35:28,745 WARNING: temp is None for 21631319\n"
     ]
    },
    {
     "name": "stdout",
     "output_type": "stream",
     "text": [
      "884/25033 20451870 9.5669757407861556"
     ]
    },
    {
     "name": "stderr",
     "output_type": "stream",
     "text": [
      "2020-12-29 15:36:06,704 WARNING: Error during processing 20451871 Hypothesis is empty.\n"
     ]
    },
    {
     "name": "stdout",
     "output_type": "stream",
     "text": [
      "915/25033 27398874 7.7280004635808925"
     ]
    },
    {
     "name": "stderr",
     "output_type": "stream",
     "text": [
      "2020-12-29 15:36:33,034 WARNING: temp is None for 23597792\n"
     ]
    },
    {
     "name": "stdout",
     "output_type": "stream",
     "text": [
      "933/25033 22287160 4.8877478393310161"
     ]
    },
    {
     "name": "stderr",
     "output_type": "stream",
     "text": [
      "2020-12-29 15:36:47,049 WARNING: temp is None for 24515395\n"
     ]
    },
    {
     "name": "stdout",
     "output_type": "stream",
     "text": [
      "984/25033 21238868 8.4664472678049242"
     ]
    },
    {
     "name": "stderr",
     "output_type": "stream",
     "text": [
      "2020-12-29 15:37:16,007 WARNING: temp is None for 21894242\n"
     ]
    },
    {
     "name": "stdout",
     "output_type": "stream",
     "text": [
      "1019/25033 25040123 3.8739336641631117"
     ]
    },
    {
     "name": "stderr",
     "output_type": "stream",
     "text": [
      "2020-12-29 15:37:37,857 WARNING: temp is None for 27923719\n"
     ]
    },
    {
     "name": "stdout",
     "output_type": "stream",
     "text": [
      "1042/25033 22943101 7.7766416471623065"
     ]
    },
    {
     "name": "stderr",
     "output_type": "stream",
     "text": [
      "2020-12-29 15:37:52,480 WARNING: temp is None for 20190592\n"
     ]
    },
    {
     "name": "stdout",
     "output_type": "stream",
     "text": [
      "1076/25033 20190787 9.7977536944625711"
     ]
    },
    {
     "name": "stderr",
     "output_type": "stream",
     "text": [
      "2020-12-29 15:38:07,776 WARNING: temp is None for 26089051\n"
     ]
    },
    {
     "name": "stdout",
     "output_type": "stream",
     "text": [
      "1081/25033 22156901 10.094599138059282"
     ]
    },
    {
     "name": "stderr",
     "output_type": "stream",
     "text": [
      "2020-12-29 15:38:09,299 WARNING: temp is None for 21370473\n"
     ]
    },
    {
     "name": "stdout",
     "output_type": "stream",
     "text": [
      "1225/25033 20977941 11.308629734705251"
     ]
    },
    {
     "name": "stderr",
     "output_type": "stream",
     "text": [
      "2020-12-29 15:39:31,656 WARNING: temp is None for 26220833\n"
     ]
    },
    {
     "name": "stdout",
     "output_type": "stream",
     "text": [
      "1231/25033 24123709 11.013073066328564"
     ]
    },
    {
     "name": "stderr",
     "output_type": "stream",
     "text": [
      "2020-12-29 15:39:34,027 WARNING: Error during processing 19405132 Hypothesis is empty.\n"
     ]
    },
    {
     "name": "stdout",
     "output_type": "stream",
     "text": [
      "1267/25033 23075288 8.4307309473965815"
     ]
    },
    {
     "name": "stderr",
     "output_type": "stream",
     "text": [
      "2020-12-29 15:40:06,382 WARNING: temp is None for 24517083\n"
     ]
    },
    {
     "name": "stdout",
     "output_type": "stream",
     "text": [
      "1279/25033 20978189 10.069876462495193"
     ]
    },
    {
     "name": "stderr",
     "output_type": "stream",
     "text": [
      "2020-12-29 15:40:13,321 WARNING: Error during processing 21502479 Hypothesis is empty.\n"
     ]
    },
    {
     "name": "stdout",
     "output_type": "stream",
     "text": [
      "1401/25033 22420597 9.5287241194523585"
     ]
    },
    {
     "name": "stderr",
     "output_type": "stream",
     "text": [
      "2020-12-29 15:41:20,004 WARNING: temp is None for 20847735\n"
     ]
    },
    {
     "name": "stdout",
     "output_type": "stream",
     "text": [
      "1537/25033 23863078 9.3229010444746799"
     ]
    },
    {
     "name": "stderr",
     "output_type": "stream",
     "text": [
      "2020-12-29 15:42:21,482 WARNING: temp is None for 22945592\n"
     ]
    },
    {
     "name": "stdout",
     "output_type": "stream",
     "text": [
      "1558/25033 22421367 11.473294512143267"
     ]
    },
    {
     "name": "stderr",
     "output_type": "stream",
     "text": [
      "2020-12-29 15:42:32,511 WARNING: temp is None for 21241731\n"
     ]
    },
    {
     "name": "stdout",
     "output_type": "stream",
     "text": [
      "1631/25033 22028490 11.888225170711866"
     ]
    },
    {
     "name": "stderr",
     "output_type": "stream",
     "text": [
      "2020-12-29 15:43:21,493 WARNING: temp is None for 21111000\n"
     ]
    },
    {
     "name": "stdout",
     "output_type": "stream",
     "text": [
      "1660/25033 22552952 13.720187380802958"
     ]
    },
    {
     "name": "stderr",
     "output_type": "stream",
     "text": [
      "2020-12-29 15:43:42,902 WARNING: temp is None for 19538306\n"
     ]
    },
    {
     "name": "stdout",
     "output_type": "stream",
     "text": [
      "1674/25033 24388019 8.7887572048084273"
     ]
    },
    {
     "name": "stderr",
     "output_type": "stream",
     "text": [
      "2020-12-29 15:43:49,080 WARNING: temp is None for 24125888\n"
     ]
    },
    {
     "name": "stdout",
     "output_type": "stream",
     "text": [
      "1772/25033 22684657 10.668918586999258"
     ]
    },
    {
     "name": "stderr",
     "output_type": "stream",
     "text": [
      "2020-12-29 15:45:01,011 WARNING: temp is None for 21373949\n"
     ]
    },
    {
     "name": "stdout",
     "output_type": "stream",
     "text": [
      "1922/25033 19932916 9.2819634420695045"
     ]
    },
    {
     "name": "stderr",
     "output_type": "stream",
     "text": [
      "2020-12-29 15:46:25,784 WARNING: temp is None for 19015434\n"
     ]
    },
    {
     "name": "stdout",
     "output_type": "stream",
     "text": [
      "1934/25033 24651583 12.007220141773715"
     ]
    },
    {
     "name": "stderr",
     "output_type": "stream",
     "text": [
      "2020-12-29 15:46:32,066 WARNING: temp is None for 19670862\n"
     ]
    },
    {
     "name": "stdout",
     "output_type": "stream",
     "text": [
      "2019/25033 19802380 9.7479233326555377"
     ]
    },
    {
     "name": "stderr",
     "output_type": "stream",
     "text": [
      "2020-12-29 15:47:28,078 WARNING: temp is None for 20064545\n"
     ]
    },
    {
     "name": "stdout",
     "output_type": "stream",
     "text": [
      "2135/25033 23735037 12.150749454871809"
     ]
    },
    {
     "name": "stderr",
     "output_type": "stream",
     "text": [
      "2020-12-29 15:48:48,408 WARNING: Error during processing 25438981 Hypothesis is empty.\n"
     ]
    },
    {
     "name": "stdout",
     "output_type": "stream",
     "text": [
      "2188/25033 20065205 8.9952714246087563"
     ]
    },
    {
     "name": "stderr",
     "output_type": "stream",
     "text": [
      "2020-12-29 15:49:12,701 WARNING: temp is None for 20065210\n"
     ]
    },
    {
     "name": "stdout",
     "output_type": "stream",
     "text": [
      "2254/25033 23080227 13.874572184869535"
     ]
    },
    {
     "name": "stderr",
     "output_type": "stream",
     "text": [
      "2020-12-29 15:49:45,278 WARNING: temp is None for 21507371\n"
     ]
    },
    {
     "name": "stdout",
     "output_type": "stream",
     "text": [
      "2297/25033 26095119 12.611595219078918"
     ]
    },
    {
     "name": "stderr",
     "output_type": "stream",
     "text": [
      "2020-12-29 15:50:19,233 WARNING: temp is None for 21376537\n"
     ]
    },
    {
     "name": "stdout",
     "output_type": "stream",
     "text": [
      "2357/25033 21245734 8.2975885220044878"
     ]
    },
    {
     "name": "stderr",
     "output_type": "stream",
     "text": [
      "2020-12-29 15:50:46,172 WARNING: temp is None for 21114675\n",
      "2020-12-29 15:50:46,242 WARNING: temp is None for 24129332\n"
     ]
    },
    {
     "name": "stdout",
     "output_type": "stream",
     "text": [
      "2386/25033 20590543 9.4279928170148737"
     ]
    },
    {
     "name": "stderr",
     "output_type": "stream",
     "text": [
      "2020-12-29 15:51:01,083 WARNING: temp is None for 23343059\n"
     ]
    },
    {
     "name": "stdout",
     "output_type": "stream",
     "text": [
      "2453/25033 21508443 10.427633370571534"
     ]
    },
    {
     "name": "stderr",
     "output_type": "stream",
     "text": [
      "2020-12-29 15:51:53,639 WARNING: temp is None for 21115248\n"
     ]
    },
    {
     "name": "stdout",
     "output_type": "stream",
     "text": [
      "2479/25033 23474642 9.2740010108892313"
     ]
    },
    {
     "name": "stderr",
     "output_type": "stream",
     "text": [
      "2020-12-29 15:52:11,937 WARNING: Error during processing 23998947 Hypothesis is empty.\n"
     ]
    },
    {
     "name": "stdout",
     "output_type": "stream",
     "text": [
      "2486/25033 19018250 6.8178625561270596"
     ]
    },
    {
     "name": "stderr",
     "output_type": "stream",
     "text": [
      "2020-12-29 15:52:16,714 WARNING: temp is None for 19673616\n"
     ]
    },
    {
     "name": "stdout",
     "output_type": "stream",
     "text": [
      "2489/25033 21901841 13.243714983344221"
     ]
    },
    {
     "name": "stderr",
     "output_type": "stream",
     "text": [
      "2020-12-29 15:52:17,522 WARNING: temp is None for 27275812\n"
     ]
    },
    {
     "name": "stdout",
     "output_type": "stream",
     "text": [
      "2534/25033 24916793 9.1018793843739259"
     ]
    },
    {
     "name": "stderr",
     "output_type": "stream",
     "text": [
      "2020-12-29 15:52:52,280 WARNING: temp is None for 22688574\n"
     ]
    },
    {
     "name": "stdout",
     "output_type": "stream",
     "text": [
      "2570/25033 19149822 7.7891742346361305"
     ]
    },
    {
     "name": "stderr",
     "output_type": "stream",
     "text": [
      "2020-12-29 15:53:11,369 WARNING: temp is None for 20460555\n"
     ]
    },
    {
     "name": "stdout",
     "output_type": "stream",
     "text": [
      "2692/25033 23606921 9.7359206177619295"
     ]
    },
    {
     "name": "stderr",
     "output_type": "stream",
     "text": [
      "2020-12-29 15:54:16,704 WARNING: temp is None for 21247634\n",
      "2020-12-29 15:54:16,777 WARNING: temp is None for 20461219\n"
     ]
    },
    {
     "name": "stdout",
     "output_type": "stream",
     "text": [
      "2708/25033 22951636 7.5366253382932959"
     ]
    },
    {
     "name": "stderr",
     "output_type": "stream",
     "text": [
      "2020-12-29 15:54:28,780 WARNING: temp is None for 21771991\n",
      "2020-12-29 15:54:28,848 WARNING: temp is None for 21771992\n"
     ]
    },
    {
     "name": "stdout",
     "output_type": "stream",
     "text": [
      "2747/25033 21378990 11.237320659869845"
     ]
    },
    {
     "name": "stderr",
     "output_type": "stream",
     "text": [
      "2020-12-29 15:54:45,516 WARNING: temp is None for 25442229\n"
     ]
    },
    {
     "name": "stdout",
     "output_type": "stream",
     "text": [
      "2753/25033 25835462 13.146076887085992"
     ]
    },
    {
     "name": "stderr",
     "output_type": "stream",
     "text": [
      "2020-12-29 15:54:48,899 WARNING: temp is None for 28194770\n"
     ]
    },
    {
     "name": "stdout",
     "output_type": "stream",
     "text": [
      "2790/25033 22689914 13.483864055960707"
     ]
    },
    {
     "name": "stderr",
     "output_type": "stream",
     "text": [
      "2020-12-29 15:55:07,541 WARNING: temp is None for 25049215\n"
     ]
    },
    {
     "name": "stdout",
     "output_type": "stream",
     "text": [
      "2817/25033 25180436 9.3006355763177565"
     ]
    },
    {
     "name": "stderr",
     "output_type": "stream",
     "text": [
      "2020-12-29 15:55:27,765 WARNING: temp is None for 27015458\n"
     ]
    },
    {
     "name": "stdout",
     "output_type": "stream",
     "text": [
      "2848/25033 23345604 9.7448105185570614"
     ]
    },
    {
     "name": "stderr",
     "output_type": "stream",
     "text": [
      "2020-12-29 15:55:43,918 WARNING: temp is None for 21903818\n"
     ]
    },
    {
     "name": "stdout",
     "output_type": "stream",
     "text": [
      "2855/25033 18627038 9.7413345405838374"
     ]
    },
    {
     "name": "stderr",
     "output_type": "stream",
     "text": [
      "2020-12-29 15:55:47,905 WARNING: temp is None for 19151365\n"
     ]
    },
    {
     "name": "stdout",
     "output_type": "stream",
     "text": [
      "2867/25033 22297150 8.7097536820442583"
     ]
    },
    {
     "name": "stderr",
     "output_type": "stream",
     "text": [
      "2020-12-29 15:55:53,424 WARNING: temp is None for 18758235\n"
     ]
    },
    {
     "name": "stdout",
     "output_type": "stream",
     "text": [
      "2884/25033 24656585 9.4827459875367181"
     ]
    },
    {
     "name": "stderr",
     "output_type": "stream",
     "text": [
      "2020-12-29 15:56:03,487 WARNING: temp is None for 26098405\n"
     ]
    },
    {
     "name": "stdout",
     "output_type": "stream",
     "text": [
      "2901/25033 26491707 5.4998693742119955"
     ]
    },
    {
     "name": "stderr",
     "output_type": "stream",
     "text": [
      "2020-12-29 15:56:18,305 WARNING: temp is None for 22035261\n"
     ]
    },
    {
     "name": "stdout",
     "output_type": "stream",
     "text": [
      "2956/25033 20069447 9.2236534715558885"
     ]
    },
    {
     "name": "stderr",
     "output_type": "stream",
     "text": [
      "2020-12-29 15:56:52,780 WARNING: temp is None for 22166604\n"
     ]
    },
    {
     "name": "stdout",
     "output_type": "stream",
     "text": [
      "\r",
      "2957/25033 20200519 14.03427362303713"
     ]
    },
    {
     "name": "stderr",
     "output_type": "stream",
     "text": [
      "2020-12-29 15:56:53,096 WARNING: temp is None for 20855907\n"
     ]
    },
    {
     "name": "stdout",
     "output_type": "stream",
     "text": [
      "2966/25033 22428793 10.501453159907362"
     ]
    },
    {
     "name": "stderr",
     "output_type": "stream",
     "text": [
      "2020-12-29 15:56:58,841 WARNING: temp is None for 23477384\n"
     ]
    },
    {
     "name": "stdout",
     "output_type": "stream",
     "text": [
      "3087/25033 23084843 8.2426827384722862"
     ]
    },
    {
     "name": "stderr",
     "output_type": "stream",
     "text": [
      "2020-12-29 15:58:14,467 WARNING: temp is None for 22560555\n"
     ]
    },
    {
     "name": "stdout",
     "output_type": "stream",
     "text": [
      "3098/25033 19152718 8.1924698631480603"
     ]
    },
    {
     "name": "stderr",
     "output_type": "stream",
     "text": [
      "2020-12-29 15:58:18,625 WARNING: temp is None for 18628439\n"
     ]
    },
    {
     "name": "stdout",
     "output_type": "stream",
     "text": [
      "3129/25033 21381083 10.964381475760488"
     ]
    },
    {
     "name": "stderr",
     "output_type": "stream",
     "text": [
      "2020-12-29 15:58:35,127 WARNING: temp is None for 20332526\n"
     ]
    },
    {
     "name": "stdout",
     "output_type": "stream",
     "text": [
      "3134/25033 21381106 13.239117545473528"
     ]
    },
    {
     "name": "stderr",
     "output_type": "stream",
     "text": [
      "2020-12-29 15:58:36,947 WARNING: temp is None for 22560758\n"
     ]
    },
    {
     "name": "stdout",
     "output_type": "stream",
     "text": [
      "3231/25033 20070865 8.5856205692258677"
     ]
    },
    {
     "name": "stderr",
     "output_type": "stream",
     "text": [
      "2020-12-29 15:59:45,925 WARNING: temp is None for 22823394\n"
     ]
    },
    {
     "name": "stdout",
     "output_type": "stream",
     "text": [
      "3268/25033 21119682 13.160209381036665"
     ]
    },
    {
     "name": "stderr",
     "output_type": "stream",
     "text": [
      "2020-12-29 16:00:13,494 WARNING: Error during processing 19022533 Hypothesis is empty.\n"
     ]
    },
    {
     "name": "stdout",
     "output_type": "stream",
     "text": [
      "3282/25033 23872239 8.6658872480258889"
     ]
    },
    {
     "name": "stderr",
     "output_type": "stream",
     "text": [
      "2020-12-29 16:00:21,348 WARNING: temp is None for 19022584\n"
     ]
    },
    {
     "name": "stdout",
     "output_type": "stream",
     "text": [
      "3288/25033 19153673 11.638024641087386"
     ]
    },
    {
     "name": "stderr",
     "output_type": "stream",
     "text": [
      "2020-12-29 16:00:24,778 WARNING: temp is None for 19284758\n"
     ]
    },
    {
     "name": "stdout",
     "output_type": "stream",
     "text": [
      "3310/25033 19022700 6.7142923096954741"
     ]
    },
    {
     "name": "stderr",
     "output_type": "stream",
     "text": [
      "2020-12-29 16:00:39,718 WARNING: temp is None for 27673455\n"
     ]
    },
    {
     "name": "stdout",
     "output_type": "stream",
     "text": [
      "3327/25033 20595660 8.6921706920638427"
     ]
    },
    {
     "name": "stderr",
     "output_type": "stream",
     "text": [
      "2020-12-29 16:00:52,728 WARNING: temp is None for 25314254\n"
     ]
    },
    {
     "name": "stdout",
     "output_type": "stream",
     "text": [
      "3380/25033 24528150 4.8789977701576055"
     ]
    },
    {
     "name": "stderr",
     "output_type": "stream",
     "text": [
      "2020-12-29 16:01:20,505 WARNING: temp is None for 23348505\n"
     ]
    },
    {
     "name": "stdout",
     "output_type": "stream",
     "text": [
      "3452/25033 22824630 7.1673378594619915"
     ]
    },
    {
     "name": "stderr",
     "output_type": "stream",
     "text": [
      "2020-12-29 16:02:00,800 WARNING: temp is None for 21907134\n"
     ]
    },
    {
     "name": "stdout",
     "output_type": "stream",
     "text": [
      "3489/25033 27150231 10.254157992915248"
     ]
    },
    {
     "name": "stderr",
     "output_type": "stream",
     "text": [
      "2020-12-29 16:02:21,722 WARNING: temp is None for 20727716\n"
     ]
    },
    {
     "name": "stdout",
     "output_type": "stream",
     "text": [
      "3520/25033 21514250 9.2077263803411966"
     ]
    },
    {
     "name": "stderr",
     "output_type": "stream",
     "text": [
      "2020-12-29 16:02:56,147 WARNING: Error during processing 22562829 Hypothesis is empty.\n"
     ]
    },
    {
     "name": "stdout",
     "output_type": "stream",
     "text": [
      "3534/25033 23349315 13.714799262366055"
     ]
    },
    {
     "name": "stderr",
     "output_type": "stream",
     "text": [
      "2020-12-29 16:03:03,009 WARNING: temp is None for 25053258\n"
     ]
    },
    {
     "name": "stdout",
     "output_type": "stream",
     "text": [
      "3546/25033 21383266 6.8937027146656895"
     ]
    },
    {
     "name": "stderr",
     "output_type": "stream",
     "text": [
      "2020-12-29 16:03:13,373 WARNING: temp is None for 26888297\n"
     ]
    },
    {
     "name": "stdout",
     "output_type": "stream",
     "text": [
      "3554/25033 20203636 12.296337163960823"
     ]
    },
    {
     "name": "stderr",
     "output_type": "stream",
     "text": [
      "2020-12-29 16:03:19,443 WARNING: temp is None for 23087235\n"
     ]
    },
    {
     "name": "stdout",
     "output_type": "stream",
     "text": [
      "3564/25033 25053346 5.1638342489276974"
     ]
    },
    {
     "name": "stderr",
     "output_type": "stream",
     "text": [
      "2020-12-29 16:03:29,254 WARNING: temp is None for 20203693\n"
     ]
    },
    {
     "name": "stdout",
     "output_type": "stream",
     "text": [
      "3611/25033 23742827 8.6458368762618647"
     ]
    },
    {
     "name": "stderr",
     "output_type": "stream",
     "text": [
      "2020-12-29 16:04:00,432 WARNING: temp is None for 22956404\n"
     ]
    },
    {
     "name": "stdout",
     "output_type": "stream",
     "text": [
      "3641/25033 25446896 11.195110698181939"
     ]
    },
    {
     "name": "stderr",
     "output_type": "stream",
     "text": [
      "2020-12-29 16:04:19,152 WARNING: temp is None for 19286518\n"
     ]
    },
    {
     "name": "stdout",
     "output_type": "stream",
     "text": [
      "3648/25033 21252632 5.9452849512049689"
     ]
    },
    {
     "name": "stderr",
     "output_type": "stream",
     "text": [
      "2020-12-29 16:04:22,270 WARNING: temp is None for 23218713\n"
     ]
    },
    {
     "name": "stdout",
     "output_type": "stream",
     "text": [
      "3662/25033 23218797 8.0885241012376499"
     ]
    },
    {
     "name": "stderr",
     "output_type": "stream",
     "text": [
      "2020-12-29 16:04:28,672 WARNING: temp is None for 22301310\n"
     ]
    },
    {
     "name": "stdout",
     "output_type": "stream",
     "text": [
      "3680/25033 21908183 11.034345716488968"
     ]
    },
    {
     "name": "stderr",
     "output_type": "stream",
     "text": [
      "2020-12-29 16:04:41,461 WARNING: temp is None for 25840376\n"
     ]
    },
    {
     "name": "stdout",
     "output_type": "stream",
     "text": [
      "3780/25033 20204773 7.2011260179835255"
     ]
    },
    {
     "name": "stderr",
     "output_type": "stream",
     "text": [
      "2020-12-29 16:05:41,589 WARNING: temp is None for 26103023\n"
     ]
    },
    {
     "name": "stdout",
     "output_type": "stream",
     "text": [
      "3849/25033 19680823 13.016984304249114"
     ]
    },
    {
     "name": "stderr",
     "output_type": "stream",
     "text": [
      "2020-12-29 16:06:28,206 WARNING: temp is None for 24661567\n"
     ]
    },
    {
     "name": "stdout",
     "output_type": "stream",
     "text": [
      "3904/25033 18632551 10.602730736726839"
     ]
    },
    {
     "name": "stderr",
     "output_type": "stream",
     "text": [
      "2020-12-29 16:06:58,780 WARNING: temp is None for 20467581\n"
     ]
    },
    {
     "name": "stdout",
     "output_type": "stream",
     "text": [
      "3912/25033 21516199 8.707205450464633"
     ]
    },
    {
     "name": "stderr",
     "output_type": "stream",
     "text": [
      "2020-12-29 16:07:01,311 WARNING: temp is None for 21122996\n"
     ]
    },
    {
     "name": "stdout",
     "output_type": "stream",
     "text": [
      "4048/25033 25580040 8.2868720850962134"
     ]
    },
    {
     "name": "stderr",
     "output_type": "stream",
     "text": [
      "2020-12-29 16:08:25,879 WARNING: temp is None for 19681807\n"
     ]
    },
    {
     "name": "stdout",
     "output_type": "stream",
     "text": [
      "4090/25033 22958863 9.5375395829217684"
     ]
    },
    {
     "name": "stderr",
     "output_type": "stream",
     "text": [
      "2020-12-29 16:08:49,837 WARNING: temp is None for 23483171\n"
     ]
    },
    {
     "name": "stdout",
     "output_type": "stream",
     "text": [
      "4172/25033 24401044 10.562108346787959"
     ]
    },
    {
     "name": "stderr",
     "output_type": "stream",
     "text": [
      "2020-12-29 16:09:36,184 WARNING: temp is None for 24401056\n"
     ]
    },
    {
     "name": "stdout",
     "output_type": "stream",
     "text": [
      "4179/25033 22041788 11.129132608269408"
     ]
    },
    {
     "name": "stderr",
     "output_type": "stream",
     "text": [
      "2020-12-29 16:09:39,218 WARNING: temp is None for 19420362\n"
     ]
    },
    {
     "name": "stdout",
     "output_type": "stream",
     "text": [
      "4233/25033 22697443 8.6194693836249012"
     ]
    },
    {
     "name": "stderr",
     "output_type": "stream",
     "text": [
      "2020-12-29 16:10:05,348 WARNING: Error during processing 21255654 Hypothesis is empty.\n"
     ]
    },
    {
     "name": "stdout",
     "output_type": "stream",
     "text": [
      "4456/25033 21518942 7.7799836271429515"
     ]
    },
    {
     "name": "stderr",
     "output_type": "stream",
     "text": [
      "2020-12-29 16:12:27,602 WARNING: temp is None for 24664676\n"
     ]
    },
    {
     "name": "stdout",
     "output_type": "stream",
     "text": [
      "4513/25033 19815286 8.1046816624976539"
     ]
    },
    {
     "name": "stderr",
     "output_type": "stream",
     "text": [
      "2020-12-29 16:13:00,861 WARNING: temp is None for 20732793\n"
     ]
    },
    {
     "name": "stdout",
     "output_type": "stream",
     "text": [
      "4534/25033 19028939 4.8042673723861982"
     ]
    },
    {
     "name": "stderr",
     "output_type": "stream",
     "text": [
      "2020-12-29 16:13:21,842 WARNING: temp is None for 19028956\n"
     ]
    },
    {
     "name": "stdout",
     "output_type": "stream",
     "text": [
      "4588/25033 22306005 10.261987683756983"
     ]
    },
    {
     "name": "stderr",
     "output_type": "stream",
     "text": [
      "2020-12-29 16:13:49,188 WARNING: temp is None for 22306015\n"
     ]
    },
    {
     "name": "stdout",
     "output_type": "stream",
     "text": [
      "4602/25033 27417877 7.8832382036708289"
     ]
    },
    {
     "name": "stderr",
     "output_type": "stream",
     "text": [
      "2020-12-29 16:13:59,061 WARNING: Error during processing 19029279 Hypothesis is empty.\n"
     ]
    },
    {
     "name": "stdout",
     "output_type": "stream",
     "text": [
      "4652/25033 21388857 7.2639138616064968"
     ]
    },
    {
     "name": "stderr",
     "output_type": "stream",
     "text": [
      "2020-12-29 16:14:28,951 WARNING: temp is None for 20733502\n"
     ]
    },
    {
     "name": "stdout",
     "output_type": "stream",
     "text": [
      "4698/25033 28073783 6.7867631779426378"
     ]
    },
    {
     "name": "stderr",
     "output_type": "stream",
     "text": [
      "2020-12-29 16:15:00,755 WARNING: temp is None for 15753023\n"
     ]
    },
    {
     "name": "stdout",
     "output_type": "stream",
     "text": [
      "4701/25033 21782353 9.617233664456618"
     ]
    },
    {
     "name": "stderr",
     "output_type": "stream",
     "text": [
      "2020-12-29 16:15:03,107 WARNING: temp is None for 22306650\n"
     ]
    },
    {
     "name": "stdout",
     "output_type": "stream",
     "text": [
      "4704/25033 26763116 15.349465347567605"
     ]
    },
    {
     "name": "stderr",
     "output_type": "stream",
     "text": [
      "2020-12-29 16:15:03,966 WARNING: temp is None for 25714563\n"
     ]
    },
    {
     "name": "stdout",
     "output_type": "stream",
     "text": [
      "4739/25033 20865011 6.0322601511427882"
     ]
    },
    {
     "name": "stderr",
     "output_type": "stream",
     "text": [
      "2020-12-29 16:15:20,527 WARNING: Error during processing 19030007 Hypothesis is empty.\n"
     ]
    },
    {
     "name": "stdout",
     "output_type": "stream",
     "text": [
      "4747/25033 21258262 12.577654869948619"
     ]
    },
    {
     "name": "stderr",
     "output_type": "stream",
     "text": [
      "2020-12-29 16:15:23,191 WARNING: temp is None for 21520418\n"
     ]
    },
    {
     "name": "stdout",
     "output_type": "stream",
     "text": [
      "4768/25033 24010877 6.7502119812479996"
     ]
    },
    {
     "name": "stderr",
     "output_type": "stream",
     "text": [
      "2020-12-29 16:15:34,308 WARNING: temp is None for 22306946\n"
     ]
    },
    {
     "name": "stdout",
     "output_type": "stream",
     "text": [
      "4799/25033 22044962 15.447164983376133"
     ]
    },
    {
     "name": "stderr",
     "output_type": "stream",
     "text": [
      "2020-12-29 16:15:46,905 WARNING: temp is None for 25190692\n"
     ]
    },
    {
     "name": "stdout",
     "output_type": "stream",
     "text": [
      "4813/25033 25977177 9.3187298573748875"
     ]
    },
    {
     "name": "stderr",
     "output_type": "stream",
     "text": [
      "2020-12-29 16:15:56,826 WARNING: Error during processing 19292507 Hypothesis is empty.\n"
     ]
    },
    {
     "name": "stdout",
     "output_type": "stream",
     "text": [
      "4818/25033 20472173 9.4174120092501217"
     ]
    },
    {
     "name": "stderr",
     "output_type": "stream",
     "text": [
      "2020-12-29 16:15:59,663 WARNING: temp is None for 22962546\n"
     ]
    },
    {
     "name": "stdout",
     "output_type": "stream",
     "text": [
      "4847/25033 23486943 5.4571813028389857"
     ]
    },
    {
     "name": "stderr",
     "output_type": "stream",
     "text": [
      "2020-12-29 16:16:19,359 WARNING: temp is None for 23093735\n"
     ]
    },
    {
     "name": "stdout",
     "output_type": "stream",
     "text": [
      "4896/25033 28467923 7.5820767880306565"
     ]
    },
    {
     "name": "stderr",
     "output_type": "stream",
     "text": [
      "2020-12-29 16:16:48,286 WARNING: temp is None for 23487198\n"
     ]
    },
    {
     "name": "stdout",
     "output_type": "stream",
     "text": [
      "4980/25033 24798308 10.063812257651215"
     ]
    },
    {
     "name": "stderr",
     "output_type": "stream",
     "text": [
      "2020-12-29 16:17:36,106 WARNING: temp is None for 23618663\n"
     ]
    },
    {
     "name": "stdout",
     "output_type": "stream",
     "text": [
      "5019/25033 23880991 11.587737124157002"
     ]
    },
    {
     "name": "stderr",
     "output_type": "stream",
     "text": [
      "2020-12-29 16:17:54,656 WARNING: temp is None for 24012067\n"
     ]
    },
    {
     "name": "stdout",
     "output_type": "stream",
     "text": [
      "5048/25033 21521847 8.4526594880354584"
     ]
    },
    {
     "name": "stderr",
     "output_type": "stream",
     "text": [
      "2020-12-29 16:18:07,042 WARNING: temp is None for 25454012\n"
     ]
    },
    {
     "name": "stdout",
     "output_type": "stream",
     "text": [
      "5089/25033 25978477 7.0935506642132931"
     ]
    },
    {
     "name": "stderr",
     "output_type": "stream",
     "text": [
      "2020-12-29 16:18:37,485 WARNING: temp is None for 26371702\n"
     ]
    },
    {
     "name": "stdout",
     "output_type": "stream",
     "text": [
      "5115/25033 21784302 7.6275335761413111"
     ]
    },
    {
     "name": "stderr",
     "output_type": "stream",
     "text": [
      "2020-12-29 16:18:53,535 WARNING: temp is None for 19949299\n"
     ]
    },
    {
     "name": "stdout",
     "output_type": "stream",
     "text": [
      "5190/25033 19556500 11.545152314808524"
     ]
    },
    {
     "name": "stderr",
     "output_type": "stream",
     "text": [
      "2020-12-29 16:19:37,335 WARNING: temp is None for 22571169\n"
     ]
    },
    {
     "name": "stdout",
     "output_type": "stream",
     "text": [
      "5200/25033 22177980 10.040453776724037"
     ]
    },
    {
     "name": "stderr",
     "output_type": "stream",
     "text": [
      "2020-12-29 16:19:40,793 WARNING: temp is None for 21391555\n"
     ]
    },
    {
     "name": "stdout",
     "output_type": "stream",
     "text": [
      "\r",
      "5201/25033 24275135 13.666523230069163"
     ]
    },
    {
     "name": "stderr",
     "output_type": "stream",
     "text": [
      "2020-12-29 16:19:41,180 WARNING: temp is None for 19556561\n"
     ]
    },
    {
     "name": "stdout",
     "output_type": "stream",
     "text": [
      "5207/25033 20211945 7.1275306992669265"
     ]
    },
    {
     "name": "stderr",
     "output_type": "stream",
     "text": [
      "2020-12-29 16:19:44,842 WARNING: temp is None for 25192705\n"
     ]
    },
    {
     "name": "stdout",
     "output_type": "stream",
     "text": [
      "5265/25033 21391937 10.570361728681878"
     ]
    },
    {
     "name": "stderr",
     "output_type": "stream",
     "text": [
      "2020-12-29 16:20:20,827 WARNING: temp is None for 21391952\n"
     ]
    },
    {
     "name": "stdout",
     "output_type": "stream",
     "text": [
      "5481/25033 23490294 10.552508303639634"
     ]
    },
    {
     "name": "stderr",
     "output_type": "stream",
     "text": [
      "2020-12-29 16:22:35,462 WARNING: temp is None for 29519613\n"
     ]
    },
    {
     "name": "stdout",
     "output_type": "stream",
     "text": [
      "5484/25033 25849602 8.961261194822281"
     ]
    },
    {
     "name": "stderr",
     "output_type": "stream",
     "text": [
      "2020-12-29 16:22:36,160 WARNING: temp is None for 24276745\n"
     ]
    },
    {
     "name": "stdout",
     "output_type": "stream",
     "text": [
      "5488/25033 22834954 13.149189009122473"
     ]
    },
    {
     "name": "stderr",
     "output_type": "stream",
     "text": [
      "2020-12-29 16:22:38,527 WARNING: temp is None for 24145693\n"
     ]
    },
    {
     "name": "stdout",
     "output_type": "stream",
     "text": [
      "5544/25033 26636383 5.8524058887853916"
     ]
    },
    {
     "name": "stderr",
     "output_type": "stream",
     "text": [
      "2020-12-29 16:23:12,464 WARNING: temp is None for 19558501\n"
     ]
    },
    {
     "name": "stdout",
     "output_type": "stream",
     "text": [
      "5553/25033 24146063 12.151450947763342"
     ]
    },
    {
     "name": "stderr",
     "output_type": "stream",
     "text": [
      "2020-12-29 16:23:20,842 WARNING: temp is None for 23883924\n"
     ]
    },
    {
     "name": "stdout",
     "output_type": "stream",
     "text": [
      "5616/25033 22835642 11.795675144459974"
     ]
    },
    {
     "name": "stderr",
     "output_type": "stream",
     "text": [
      "2020-12-29 16:24:12,512 WARNING: temp is None for 18772429\n"
     ]
    },
    {
     "name": "stdout",
     "output_type": "stream",
     "text": [
      "5660/25033 23622249 10.403486046789046"
     ]
    },
    {
     "name": "stderr",
     "output_type": "stream",
     "text": [
      "2020-12-29 16:24:44,859 WARNING: temp is None for 25457259\n"
     ]
    },
    {
     "name": "stdout",
     "output_type": "stream",
     "text": [
      "5668/25033 25981582 8.5677511499701322"
     ]
    },
    {
     "name": "stderr",
     "output_type": "stream",
     "text": [
      "2020-12-29 16:24:48,254 WARNING: temp is None for 26768017\n"
     ]
    },
    {
     "name": "stdout",
     "output_type": "stream",
     "text": [
      "5683/25033 22704856 4.9172209267240229"
     ]
    },
    {
     "name": "stderr",
     "output_type": "stream",
     "text": [
      "2020-12-29 16:25:04,674 WARNING: temp is None for 19165914\n"
     ]
    },
    {
     "name": "stdout",
     "output_type": "stream",
     "text": [
      "5711/25033 21263194 7.5470541868156968"
     ]
    },
    {
     "name": "stderr",
     "output_type": "stream",
     "text": [
      "2020-12-29 16:25:14,378 WARNING: temp is None for 24671079\n"
     ]
    },
    {
     "name": "stdout",
     "output_type": "stream",
     "text": [
      "5728/25033 21656528 10.014259636366324"
     ]
    },
    {
     "name": "stderr",
     "output_type": "stream",
     "text": [
      "2020-12-29 16:25:27,953 WARNING: temp is None for 26637275\n"
     ]
    },
    {
     "name": "stdout",
     "output_type": "stream",
     "text": [
      "5735/25033 20083689 9.3626215003823073"
     ]
    },
    {
     "name": "stderr",
     "output_type": "stream",
     "text": [
      "2020-12-29 16:25:33,228 WARNING: temp is None for 22967275\n"
     ]
    },
    {
     "name": "stdout",
     "output_type": "stream",
     "text": [
      "\r",
      "5736/25033 19559403 14.509707934835138"
     ]
    },
    {
     "name": "stderr",
     "output_type": "stream",
     "text": [
      "2020-12-29 16:25:33,667 WARNING: temp is None for 20083705\n"
     ]
    },
    {
     "name": "stdout",
     "output_type": "stream",
     "text": [
      "5764/25033 21132416 8.3877050881107125"
     ]
    },
    {
     "name": "stderr",
     "output_type": "stream",
     "text": [
      "2020-12-29 16:25:51,441 WARNING: Error during processing 19428491 Hypothesis is empty.\n"
     ]
    },
    {
     "name": "stdout",
     "output_type": "stream",
     "text": [
      "5831/25033 22836700 10.753310207354089"
     ]
    },
    {
     "name": "stderr",
     "output_type": "stream",
     "text": [
      "2020-12-29 16:26:32,878 WARNING: temp is None for 23098852\n"
     ]
    },
    {
     "name": "stdout",
     "output_type": "stream",
     "text": [
      "5859/25033 19822211 10.831782921897199"
     ]
    },
    {
     "name": "stderr",
     "output_type": "stream",
     "text": [
      "2020-12-29 16:26:49,588 WARNING: temp is None for 20870806\n"
     ]
    },
    {
     "name": "stdout",
     "output_type": "stream",
     "text": [
      "5905/25033 21526386 5.8561924744473845"
     ]
    },
    {
     "name": "stderr",
     "output_type": "stream",
     "text": [
      "2020-12-29 16:27:19,431 WARNING: temp is None for 21788544\n"
     ]
    },
    {
     "name": "stdout",
     "output_type": "stream",
     "text": [
      "5923/25033 19953649 6.6311643104349988"
     ]
    },
    {
     "name": "stderr",
     "output_type": "stream",
     "text": [
      "2020-12-29 16:27:31,264 WARNING: temp is None for 25196534\n"
     ]
    },
    {
     "name": "stdout",
     "output_type": "stream",
     "text": [
      "5946/25033 24148043 5.7697430177269414"
     ]
    },
    {
     "name": "stderr",
     "output_type": "stream",
     "text": [
      "2020-12-29 16:27:48,146 WARNING: Error during processing 19560528 Hypothesis is empty.\n"
     ]
    },
    {
     "name": "stdout",
     "output_type": "stream",
     "text": [
      "6065/25033 21658183 12.699526611795939"
     ]
    },
    {
     "name": "stderr",
     "output_type": "stream",
     "text": [
      "2020-12-29 16:29:14,274 WARNING: temp is None for 25066065\n"
     ]
    },
    {
     "name": "stdout",
     "output_type": "stream",
     "text": [
      "6088/25033 24935119 10.082876969578054"
     ]
    },
    {
     "name": "stderr",
     "output_type": "stream",
     "text": [
      "2020-12-29 16:29:27,699 WARNING: temp is None for 20216557\n"
     ]
    },
    {
     "name": "stdout",
     "output_type": "stream",
     "text": [
      "6096/25033 19036961 10.824960816884023"
     ]
    },
    {
     "name": "stderr",
     "output_type": "stream",
     "text": [
      "2020-12-29 16:29:31,773 WARNING: temp is None for 19168054\n"
     ]
    },
    {
     "name": "stdout",
     "output_type": "stream",
     "text": [
      "6108/25033 20872049 10.117478348508651"
     ]
    },
    {
     "name": "stderr",
     "output_type": "stream",
     "text": [
      "2020-12-29 16:29:35,513 WARNING: temp is None for 25459581\n"
     ]
    },
    {
     "name": "stdout",
     "output_type": "stream",
     "text": [
      "6147/25033 20347936 13.524014846840263"
     ]
    },
    {
     "name": "stderr",
     "output_type": "stream",
     "text": [
      "2020-12-29 16:30:01,684 WARNING: Error during processing 20085800 Hypothesis is empty.\n"
     ]
    },
    {
     "name": "stdout",
     "output_type": "stream",
     "text": [
      "6162/25033 23231572 10.542024751240975"
     ]
    },
    {
     "name": "stderr",
     "output_type": "stream",
     "text": [
      "2020-12-29 16:30:14,288 WARNING: temp is None for 22314070\n"
     ]
    },
    {
     "name": "stdout",
     "output_type": "stream",
     "text": [
      "6171/25033 19561596 9.2224766483322654"
     ]
    },
    {
     "name": "stderr",
     "output_type": "stream",
     "text": [
      "2020-12-29 16:30:18,308 WARNING: temp is None for 19561602\n"
     ]
    },
    {
     "name": "stdout",
     "output_type": "stream",
     "text": [
      "6194/25033 20610277 8.9821501368240259"
     ]
    },
    {
     "name": "stderr",
     "output_type": "stream",
     "text": [
      "2020-12-29 16:30:27,973 WARNING: temp is None for 21134572\n"
     ]
    },
    {
     "name": "stdout",
     "output_type": "stream",
     "text": [
      "6200/25033 19692791 5.6480697347703756"
     ]
    },
    {
     "name": "stderr",
     "output_type": "stream",
     "text": [
      "2020-12-29 16:30:30,456 WARNING: temp is None for 19299583\n"
     ]
    },
    {
     "name": "stdout",
     "output_type": "stream",
     "text": [
      "6234/25033 22052235 10.489118967576882"
     ]
    },
    {
     "name": "stderr",
     "output_type": "stream",
     "text": [
      "2020-12-29 16:30:44,526 WARNING: temp is None for 24018318\n"
     ]
    },
    {
     "name": "stdout",
     "output_type": "stream",
     "text": [
      "6241/25033 22183333 10.603129503572402"
     ]
    },
    {
     "name": "stderr",
     "output_type": "stream",
     "text": [
      "2020-12-29 16:30:51,485 WARNING: temp is None for 27557308\n"
     ]
    },
    {
     "name": "stdout",
     "output_type": "stream",
     "text": [
      "6313/25033 26509101 10.901151047289423"
     ]
    },
    {
     "name": "stderr",
     "output_type": "stream",
     "text": [
      "2020-12-29 16:31:28,683 WARNING: temp is None for 21659450\n"
     ]
    },
    {
     "name": "stdout",
     "output_type": "stream",
     "text": [
      "6331/25033 25460670 9.2397896114022751"
     ]
    },
    {
     "name": "stderr",
     "output_type": "stream",
     "text": [
      "2020-12-29 16:31:36,053 WARNING: temp is None for 22183872\n"
     ]
    },
    {
     "name": "stdout",
     "output_type": "stream",
     "text": [
      "\r",
      "6332/25033 21921726 6.9188195425961885"
     ]
    },
    {
     "name": "stderr",
     "output_type": "stream",
     "text": [
      "2020-12-29 16:31:36,374 WARNING: temp is None for 19169219\n"
     ]
    },
    {
     "name": "stdout",
     "output_type": "stream",
     "text": [
      "6340/25033 20217810 9.1182459833582183"
     ]
    },
    {
     "name": "stderr",
     "output_type": "stream",
     "text": [
      "2020-12-29 16:31:41,179 WARNING: temp is None for 20611031\n"
     ]
    },
    {
     "name": "stdout",
     "output_type": "stream",
     "text": [
      "\r",
      "6341/25033 20348884 4.632491731863249"
     ]
    },
    {
     "name": "stderr",
     "output_type": "stream",
     "text": [
      "2020-12-29 16:31:41,499 WARNING: temp is None for 21135322\n"
     ]
    },
    {
     "name": "stdout",
     "output_type": "stream",
     "text": [
      "6353/25033 21135340 7.3931122793235778"
     ]
    },
    {
     "name": "stderr",
     "output_type": "stream",
     "text": [
      "2020-12-29 16:31:47,511 WARNING: temp is None for 22315000\n"
     ]
    },
    {
     "name": "stdout",
     "output_type": "stream",
     "text": [
      "6439/25033 26640825 7.0074809417193848"
     ]
    },
    {
     "name": "stderr",
     "output_type": "stream",
     "text": [
      "2020-12-29 16:32:30,482 WARNING: temp is None for 24150462\n"
     ]
    },
    {
     "name": "stdout",
     "output_type": "stream",
     "text": [
      "6454/25033 22970887 9.9961001000766422"
     ]
    },
    {
     "name": "stderr",
     "output_type": "stream",
     "text": [
      "2020-12-29 16:32:43,154 WARNING: temp is None for 22708746\n"
     ]
    },
    {
     "name": "stdout",
     "output_type": "stream",
     "text": [
      "6491/25033 24281848 12.674598345159877"
     ]
    },
    {
     "name": "stderr",
     "output_type": "stream",
     "text": [
      "2020-12-29 16:33:00,716 WARNING: temp is None for 24806176\n"
     ]
    },
    {
     "name": "stdout",
     "output_type": "stream",
     "text": [
      "6500/25033 21922642 11.512175551887138"
     ]
    },
    {
     "name": "stderr",
     "output_type": "stream",
     "text": [
      "2020-12-29 16:33:04,325 WARNING: temp is None for 23233386\n",
      "2020-12-29 16:33:04,393 WARNING: temp is None for 23233387\n"
     ]
    },
    {
     "name": "stdout",
     "output_type": "stream",
     "text": [
      "6514/25033 22053824 10.131584655906664"
     ]
    },
    {
     "name": "stderr",
     "output_type": "stream",
     "text": [
      "2020-12-29 16:33:15,056 WARNING: temp is None for 19694541\n"
     ]
    },
    {
     "name": "stdout",
     "output_type": "stream",
     "text": [
      "6550/25033 19170473 12.413430941609725"
     ]
    },
    {
     "name": "stderr",
     "output_type": "stream",
     "text": [
      "2020-12-29 16:33:44,816 WARNING: temp is None for 21529780\n"
     ]
    },
    {
     "name": "stdout",
     "output_type": "stream",
     "text": [
      "6695/25033 27297873 11.333438376619146"
     ]
    },
    {
     "name": "stderr",
     "output_type": "stream",
     "text": [
      "2020-12-29 16:35:04,477 WARNING: Error during processing 22579283 Hypothesis is empty.\n"
     ]
    },
    {
     "name": "stdout",
     "output_type": "stream",
     "text": [
      "6735/25033 28608788 12.638161138043406"
     ]
    },
    {
     "name": "stderr",
     "output_type": "stream",
     "text": [
      "2020-12-29 16:35:31,893 WARNING: temp is None for 20220181\n"
     ]
    },
    {
     "name": "stdout",
     "output_type": "stream",
     "text": [
      "6798/25033 20482679 6.7085319624697629"
     ]
    },
    {
     "name": "stderr",
     "output_type": "stream",
     "text": [
      "2020-12-29 16:36:07,304 WARNING: temp is None for 20220563\n"
     ]
    },
    {
     "name": "stdout",
     "output_type": "stream",
     "text": [
      "6875/25033 28216362 8.3764932220113622"
     ]
    },
    {
     "name": "stderr",
     "output_type": "stream",
     "text": [
      "2020-12-29 16:37:06,393 WARNING: temp is None for 23628852\n"
     ]
    },
    {
     "name": "stdout",
     "output_type": "stream",
     "text": [
      "6978/25033 19041724 11.128078095343408"
     ]
    },
    {
     "name": "stderr",
     "output_type": "stream",
     "text": [
      "2020-12-29 16:38:14,563 WARNING: temp is None for 19959243\n"
     ]
    },
    {
     "name": "stdout",
     "output_type": "stream",
     "text": [
      "6993/25033 23498294 5.7189434192775455"
     ]
    },
    {
     "name": "stderr",
     "output_type": "stream",
     "text": [
      "2020-12-29 16:38:27,900 WARNING: Error during processing 16420421 Hypothesis is empty.\n"
     ]
    },
    {
     "name": "stdout",
     "output_type": "stream",
     "text": [
      "6998/25033 20876892 11.481640599882677"
     ]
    },
    {
     "name": "stderr",
     "output_type": "stream",
     "text": [
      "2020-12-29 16:38:29,751 WARNING: temp is None for 24022653\n"
     ]
    },
    {
     "name": "stdout",
     "output_type": "stream",
     "text": [
      "\r",
      "6999/25033 20483695 9.140331603668375"
     ]
    },
    {
     "name": "stderr",
     "output_type": "stream",
     "text": [
      "2020-12-29 16:38:30,921 WARNING: temp is None for 22711939\n"
     ]
    },
    {
     "name": "stdout",
     "output_type": "stream",
     "text": [
      "7085/25033 23629941 9.1333150512424145"
     ]
    },
    {
     "name": "stderr",
     "output_type": "stream",
     "text": [
      "2020-12-29 16:39:22,582 WARNING: temp is None for 25727103\n"
     ]
    },
    {
     "name": "stdout",
     "output_type": "stream",
     "text": [
      "7106/25033 21532912 14.555671865303571"
     ]
    },
    {
     "name": "stderr",
     "output_type": "stream",
     "text": [
      "2020-12-29 16:39:35,834 WARNING: temp is None for 21532916\n",
      "2020-12-29 16:39:35,903 WARNING: temp is None for 21532918\n"
     ]
    },
    {
     "name": "stdout",
     "output_type": "stream",
     "text": [
      "7159/25033 19436015 6.5611205022552347"
     ]
    },
    {
     "name": "stderr",
     "output_type": "stream",
     "text": [
      "2020-12-29 16:40:10,167 WARNING: temp is None for 27824631\n"
     ]
    },
    {
     "name": "stdout",
     "output_type": "stream",
     "text": [
      "7188/25033 19960470 7.6404815524646889"
     ]
    },
    {
     "name": "stderr",
     "output_type": "stream",
     "text": [
      "2020-12-29 16:40:30,612 WARNING: temp is None for 21402273\n"
     ]
    },
    {
     "name": "stdout",
     "output_type": "stream",
     "text": [
      "7326/25033 26645965 9.5538024117376558"
     ]
    },
    {
     "name": "stderr",
     "output_type": "stream",
     "text": [
      "2020-12-29 16:41:48,975 WARNING: temp is None for 20354512\n"
     ]
    },
    {
     "name": "stdout",
     "output_type": "stream",
     "text": [
      "7353/25033 25466426 13.213104648483458"
     ]
    },
    {
     "name": "stderr",
     "output_type": "stream",
     "text": [
      "2020-12-29 16:42:08,797 WARNING: temp is None for 26383935\n"
     ]
    },
    {
     "name": "stdout",
     "output_type": "stream",
     "text": [
      "7386/25033 19699417 6.9210371432563014"
     ]
    },
    {
     "name": "stderr",
     "output_type": "stream",
     "text": [
      "2020-12-29 16:42:24,200 WARNING: temp is None for 18650846\n"
     ]
    },
    {
     "name": "stdout",
     "output_type": "stream",
     "text": [
      "7415/25033 23631772 11.068132524686312"
     ]
    },
    {
     "name": "stderr",
     "output_type": "stream",
     "text": [
      "2020-12-29 16:42:43,394 WARNING: temp is None for 23893932\n"
     ]
    },
    {
     "name": "stdout",
     "output_type": "stream",
     "text": [
      "7496/25033 19175810 11.059569062899804"
     ]
    },
    {
     "name": "stderr",
     "output_type": "stream",
     "text": [
      "2020-12-29 16:43:42,041 WARNING: temp is None for 25729441\n"
     ]
    },
    {
     "name": "stdout",
     "output_type": "stream",
     "text": [
      "7574/25033 21142362 6.8612511095766669"
     ]
    },
    {
     "name": "stderr",
     "output_type": "stream",
     "text": [
      "2020-12-29 16:44:27,348 WARNING: temp is None for 24812389\n"
     ]
    },
    {
     "name": "stdout",
     "output_type": "stream",
     "text": [
      "7658/25033 19700947 9.2113947091404124"
     ]
    },
    {
     "name": "stderr",
     "output_type": "stream",
     "text": [
      "2020-12-29 16:45:22,517 WARNING: temp is None for 23764209\n"
     ]
    },
    {
     "name": "stdout",
     "output_type": "stream",
     "text": [
      "7663/25033 23633158 10.411961903087159"
     ]
    },
    {
     "name": "stderr",
     "output_type": "stream",
     "text": [
      "2020-12-29 16:45:28,177 WARNING: temp is None for 20225291\n"
     ]
    },
    {
     "name": "stdout",
     "output_type": "stream",
     "text": [
      "7770/25033 20094706 7.2371582257762287"
     ]
    },
    {
     "name": "stderr",
     "output_type": "stream",
     "text": [
      "2020-12-29 16:46:28,180 WARNING: temp is None for 22847218\n"
     ]
    },
    {
     "name": "stdout",
     "output_type": "stream",
     "text": [
      "7892/25033 19833260 8.5902876474194945"
     ]
    },
    {
     "name": "stderr",
     "output_type": "stream",
     "text": [
      "2020-12-29 16:47:48,762 WARNING: temp is None for 25076154\n"
     ]
    },
    {
     "name": "stdout",
     "output_type": "stream",
     "text": [
      "7911/25033 20357665 7.0331471270355737"
     ]
    },
    {
     "name": "stderr",
     "output_type": "stream",
     "text": [
      "2020-12-29 16:48:04,652 WARNING: temp is None for 22192676\n"
     ]
    },
    {
     "name": "stdout",
     "output_type": "stream",
     "text": [
      "7919/25033 19440194 8.4136274300999375"
     ]
    },
    {
     "name": "stderr",
     "output_type": "stream",
     "text": [
      "2020-12-29 16:48:07,090 WARNING: temp is None for 27959881\n"
     ]
    },
    {
     "name": "stdout",
     "output_type": "stream",
     "text": [
      "7945/25033 19833485 11.659209271025116"
     ]
    },
    {
     "name": "stderr",
     "output_type": "stream",
     "text": [
      "2020-12-29 16:48:25,467 WARNING: temp is None for 22586011\n"
     ]
    },
    {
     "name": "stdout",
     "output_type": "stream",
     "text": [
      "8027/25033 21931077 9.8795543380199683"
     ]
    },
    {
     "name": "stderr",
     "output_type": "stream",
     "text": [
      "2020-12-29 16:49:30,524 WARNING: temp is None for 19571809\n"
     ]
    },
    {
     "name": "stdout",
     "output_type": "stream",
     "text": [
      "8065/25033 20096252 8.1002268909900225"
     ]
    },
    {
     "name": "stderr",
     "output_type": "stream",
     "text": [
      "2020-12-29 16:50:02,958 WARNING: temp is None for 21406983\n",
      "2020-12-29 16:50:03,029 WARNING: temp is None for 21406991\n"
     ]
    },
    {
     "name": "stdout",
     "output_type": "stream",
     "text": [
      "8070/25033 26125586 10.194867777272284"
     ]
    },
    {
     "name": "stderr",
     "output_type": "stream",
     "text": [
      "2020-12-29 16:50:04,728 WARNING: temp is None for 21406997\n"
     ]
    },
    {
     "name": "stdout",
     "output_type": "stream",
     "text": [
      "8156/25033 19703438 13.257321932082334"
     ]
    },
    {
     "name": "stderr",
     "output_type": "stream",
     "text": [
      "2020-12-29 16:51:06,312 WARNING: temp is None for 21276312\n"
     ]
    },
    {
     "name": "stdout",
     "output_type": "stream",
     "text": [
      "8172/25033 19834573 10.534939173841503"
     ]
    },
    {
     "name": "stderr",
     "output_type": "stream",
     "text": [
      "2020-12-29 16:51:13,563 WARNING: temp is None for 25077460\n"
     ]
    },
    {
     "name": "stdout",
     "output_type": "stream",
     "text": [
      "8237/25033 20621437 7.2675323458172313"
     ]
    },
    {
     "name": "stderr",
     "output_type": "stream",
     "text": [
      "2020-12-29 16:51:59,434 WARNING: temp is None for 27175042\n",
      "2020-12-29 16:52:00,404 WARNING: temp is None for 27568261\n"
     ]
    },
    {
     "name": "stdout",
     "output_type": "stream",
     "text": [
      "8249/25033 25602275 10.259725437515076"
     ]
    },
    {
     "name": "stderr",
     "output_type": "stream",
     "text": [
      "2020-12-29 16:52:07,643 WARNING: temp is None for 24684791\n"
     ]
    },
    {
     "name": "stdout",
     "output_type": "stream",
     "text": [
      "8261/25033 19179834 11.282769387018119"
     ]
    },
    {
     "name": "stderr",
     "output_type": "stream",
     "text": [
      "2020-12-29 16:52:14,384 WARNING: temp is None for 24684870\n"
     ]
    },
    {
     "name": "stdout",
     "output_type": "stream",
     "text": [
      "8274/25033 24029558 5.5641439247302775"
     ]
    },
    {
     "name": "stderr",
     "output_type": "stream",
     "text": [
      "2020-12-29 16:52:23,537 WARNING: temp is None for 21145981\n"
     ]
    },
    {
     "name": "stdout",
     "output_type": "stream",
     "text": [
      "8280/25033 22194582 13.587435248840018"
     ]
    },
    {
     "name": "stderr",
     "output_type": "stream",
     "text": [
      "2020-12-29 16:52:25,487 WARNING: temp is None for 20359595\n"
     ]
    },
    {
     "name": "stdout",
     "output_type": "stream",
     "text": [
      "8318/25033 18655833 11.782954894671713"
     ]
    },
    {
     "name": "stderr",
     "output_type": "stream",
     "text": [
      "2020-12-29 16:52:48,533 WARNING: temp is None for 19180126\n"
     ]
    },
    {
     "name": "stdout",
     "output_type": "stream",
     "text": [
      "8333/25033 20228799 6.6751231337521935"
     ]
    },
    {
     "name": "stderr",
     "output_type": "stream",
     "text": [
      "2020-12-29 16:52:53,391 WARNING: temp is None for 20228805\n"
     ]
    },
    {
     "name": "stdout",
     "output_type": "stream",
     "text": [
      "8348/25033 28748567 8.9218215049558537"
     ]
    },
    {
     "name": "stderr",
     "output_type": "stream",
     "text": [
      "2020-12-29 16:53:00,484 WARNING: temp is None for 19835673\n"
     ]
    },
    {
     "name": "stdout",
     "output_type": "stream",
     "text": [
      "8352/25033 22981426 9.0594838428692343"
     ]
    },
    {
     "name": "stderr",
     "output_type": "stream",
     "text": [
      "2020-12-29 16:53:09,070 WARNING: temp is None for 25602876\n"
     ]
    },
    {
     "name": "stdout",
     "output_type": "stream",
     "text": [
      "8357/25033 17869636 8.4861849070830772"
     ]
    },
    {
     "name": "stderr",
     "output_type": "stream",
     "text": [
      "2020-12-29 16:53:11,089 WARNING: temp is None for 19966805\n"
     ]
    },
    {
     "name": "stdout",
     "output_type": "stream",
     "text": [
      "8389/25033 20884470 9.5404354083490394"
     ]
    },
    {
     "name": "stderr",
     "output_type": "stream",
     "text": [
      "2020-12-29 16:53:30,478 WARNING: temp is None for 24030206\n"
     ]
    },
    {
     "name": "stdout",
     "output_type": "stream",
     "text": [
      "8461/25033 24030502 8.4047812738694098"
     ]
    },
    {
     "name": "stderr",
     "output_type": "stream",
     "text": [
      "2020-12-29 16:54:17,259 WARNING: temp is None for 21802286\n"
     ]
    },
    {
     "name": "stdout",
     "output_type": "stream",
     "text": [
      "8483/25033 26258848 12.023461012792241"
     ]
    },
    {
     "name": "stderr",
     "output_type": "stream",
     "text": [
      "2020-12-29 16:54:28,907 WARNING: temp is None for 23244210\n"
     ]
    },
    {
     "name": "stdout",
     "output_type": "stream",
     "text": [
      "8490/25033 19443137 13.899324225022562"
     ]
    },
    {
     "name": "stderr",
     "output_type": "stream",
     "text": [
      "2020-12-29 16:54:31,321 WARNING: temp is None for 19180998\n"
     ]
    },
    {
     "name": "stdout",
     "output_type": "stream",
     "text": [
      "8523/25033 23768680 10.524124231014694"
     ]
    },
    {
     "name": "stderr",
     "output_type": "stream",
     "text": [
      "2020-12-29 16:54:49,126 WARNING: temp is None for 25734769\n"
     ]
    },
    {
     "name": "stdout",
     "output_type": "stream",
     "text": [
      "8635/25033 22196331 13.922589265787657"
     ]
    },
    {
     "name": "stderr",
     "output_type": "stream",
     "text": [
      "2020-12-29 16:55:53,875 WARNING: temp is None for 19443824\n"
     ]
    },
    {
     "name": "stdout",
     "output_type": "stream",
     "text": [
      "8653/25033 26259666 11.215349343773761"
     ]
    },
    {
     "name": "stderr",
     "output_type": "stream",
     "text": [
      "2020-12-29 16:56:10,757 WARNING: temp is None for 26783982\n"
     ]
    },
    {
     "name": "stdout",
     "output_type": "stream",
     "text": [
      "8657/25033 22720766 6.620334612671623"
     ]
    },
    {
     "name": "stderr",
     "output_type": "stream",
     "text": [
      "2020-12-29 16:56:12,559 WARNING: temp is None for 19968284\n"
     ]
    },
    {
     "name": "stdout",
     "output_type": "stream",
     "text": [
      "8814/25033 18789354 12.339688726990445"
     ]
    },
    {
     "name": "stderr",
     "output_type": "stream",
     "text": [
      "2020-12-29 16:58:05,249 WARNING: temp is None for 23639035\n"
     ]
    },
    {
     "name": "stdout",
     "output_type": "stream",
     "text": [
      "\r",
      "8815/25033 19969007 12.543617465051472"
     ]
    },
    {
     "name": "stderr",
     "output_type": "stream",
     "text": [
      "2020-12-29 16:58:05,635 WARNING: temp is None for 24687615\n"
     ]
    },
    {
     "name": "stdout",
     "output_type": "stream",
     "text": [
      "8888/25033 21280088 9.2140375548850058"
     ]
    },
    {
     "name": "stderr",
     "output_type": "stream",
     "text": [
      "2020-12-29 16:58:58,149 WARNING: temp is None for 19707229\n"
     ]
    },
    {
     "name": "stdout",
     "output_type": "stream",
     "text": [
      "8920/25033 24163788 9.0388125557306951"
     ]
    },
    {
     "name": "stderr",
     "output_type": "stream",
     "text": [
      "2020-12-29 16:59:15,974 WARNING: temp is None for 26916308\n"
     ]
    },
    {
     "name": "stdout",
     "output_type": "stream",
     "text": [
      "9046/25033 19183705 12.178548820526611"
     ]
    },
    {
     "name": "stderr",
     "output_type": "stream",
     "text": [
      "2020-12-29 17:00:45,149 WARNING: temp is None for 22984807\n"
     ]
    },
    {
     "name": "stdout",
     "output_type": "stream",
     "text": [
      "9145/25033 21936751 9.7928336179224123"
     ]
    },
    {
     "name": "stderr",
     "output_type": "stream",
     "text": [
      "2020-12-29 17:01:49,846 WARNING: temp is None for 26524294\n"
     ]
    },
    {
     "name": "stdout",
     "output_type": "stream",
     "text": [
      "9189/25033 23116605 10.033588784780285"
     ]
    },
    {
     "name": "stderr",
     "output_type": "stream",
     "text": [
      "2020-12-29 17:02:14,686 WARNING: temp is None for 25082694\n"
     ]
    },
    {
     "name": "stdout",
     "output_type": "stream",
     "text": [
      "9192/25033 21936968 3.4487183894519973"
     ]
    },
    {
     "name": "stderr",
     "output_type": "stream",
     "text": [
      "2020-12-29 17:02:16,742 WARNING: temp is None for 22985546\n"
     ]
    },
    {
     "name": "stdout",
     "output_type": "stream",
     "text": [
      "9210/25033 21937021 11.375375408451964"
     ]
    },
    {
     "name": "stderr",
     "output_type": "stream",
     "text": [
      "2020-12-29 17:02:29,528 WARNING: temp is None for 20888455\n"
     ]
    },
    {
     "name": "stdout",
     "output_type": "stream",
     "text": [
      "9230/25033 18922473 11.705043430985024"
     ]
    },
    {
     "name": "stderr",
     "output_type": "stream",
     "text": [
      "2020-12-29 17:02:38,381 WARNING: temp is None for 22985722\n"
     ]
    },
    {
     "name": "stdout",
     "output_type": "stream",
     "text": [
      "9288/25033 20888924 9.6110220053266848"
     ]
    },
    {
     "name": "stderr",
     "output_type": "stream",
     "text": [
      "2020-12-29 17:03:15,773 WARNING: temp is None for 20102519\n"
     ]
    },
    {
     "name": "stdout",
     "output_type": "stream",
     "text": [
      "9395/25033 21413777 5.3786079586553429"
     ]
    },
    {
     "name": "stderr",
     "output_type": "stream",
     "text": [
      "2020-12-29 17:04:19,343 WARNING: temp is None for 23379863\n"
     ]
    },
    {
     "name": "stdout",
     "output_type": "stream",
     "text": [
      "9402/25033 19709867 12.457424140567245"
     ]
    },
    {
     "name": "stderr",
     "output_type": "stream",
     "text": [
      "2020-12-29 17:04:22,487 WARNING: temp is None for 22986681\n"
     ]
    },
    {
     "name": "stdout",
     "output_type": "stream",
     "text": [
      "9420/25033 24035344 9.4447106681035165"
     ]
    },
    {
     "name": "stderr",
     "output_type": "stream",
     "text": [
      "2020-12-29 17:04:33,466 WARNING: temp is None for 22069278\n"
     ]
    },
    {
     "name": "stdout",
     "output_type": "stream",
     "text": [
      "9471/25033 25477465 10.547691612165801"
     ]
    },
    {
     "name": "stderr",
     "output_type": "stream",
     "text": [
      "2020-12-29 17:04:59,660 WARNING: temp is None for 23642462\n"
     ]
    },
    {
     "name": "stdout",
     "output_type": "stream",
     "text": [
      "9487/25033 24166800 9.1487523562014583"
     ]
    },
    {
     "name": "stderr",
     "output_type": "stream",
     "text": [
      "2020-12-29 17:05:09,548 WARNING: temp is None for 24428961\n"
     ]
    },
    {
     "name": "stdout",
     "output_type": "stream",
     "text": [
      "9520/25033 27050589 12.682988791257536"
     ]
    },
    {
     "name": "stderr",
     "output_type": "stream",
     "text": [
      "2020-12-29 17:05:24,219 WARNING: temp is None for 18661992\n"
     ]
    },
    {
     "name": "stdout",
     "output_type": "stream",
     "text": [
      "9645/25033 24691994 9.0935765072913267"
     ]
    },
    {
     "name": "stderr",
     "output_type": "stream",
     "text": [
      "2020-12-29 17:06:51,978 WARNING: temp is None for 20235554\n"
     ]
    },
    {
     "name": "stdout",
     "output_type": "stream",
     "text": [
      "9655/25033 26002758 8.9569112165743127"
     ]
    },
    {
     "name": "stderr",
     "output_type": "stream",
     "text": [
      "2020-12-29 17:06:57,549 WARNING: temp is None for 19187019\n"
     ]
    },
    {
     "name": "stdout",
     "output_type": "stream",
     "text": [
      "9795/25033 24037412 10.893471174676213"
     ]
    },
    {
     "name": "stderr",
     "output_type": "stream",
     "text": [
      "2020-12-29 17:08:25,103 WARNING: temp is None for 19318828\n",
      "2020-12-29 17:08:25,172 WARNING: temp is None for 23250995\n"
     ]
    },
    {
     "name": "stdout",
     "output_type": "stream",
     "text": [
      "9809/25033 21284967 8.8833164527717022"
     ]
    },
    {
     "name": "stderr",
     "output_type": "stream",
     "text": [
      "2020-12-29 17:08:31,263 WARNING: temp is None for 19056756\n"
     ]
    },
    {
     "name": "stdout",
     "output_type": "stream",
     "text": [
      "9860/25033 23906634 9.0722196816198532"
     ]
    },
    {
     "name": "stderr",
     "output_type": "stream",
     "text": [
      "2020-12-29 17:09:02,528 WARNING: Error during processing 22202708 Hypothesis is empty.\n"
     ]
    },
    {
     "name": "stdout",
     "output_type": "stream",
     "text": [
      "10090/25033 23907847 9.2124759322035467"
     ]
    },
    {
     "name": "stderr",
     "output_type": "stream",
     "text": [
      "2020-12-29 17:11:32,688 WARNING: Error during processing 19451406 Hypothesis is empty.\n"
     ]
    },
    {
     "name": "stdout",
     "output_type": "stream",
     "text": [
      "10110/25033 24956500 11.743059316379906"
     ]
    },
    {
     "name": "stderr",
     "output_type": "stream",
     "text": [
      "2020-12-29 17:11:43,186 WARNING: temp is None for 22859353\n"
     ]
    },
    {
     "name": "stdout",
     "output_type": "stream",
     "text": [
      "10164/25033 19320669 6.2951638466783539"
     ]
    },
    {
     "name": "stderr",
     "output_type": "stream",
     "text": [
      "2020-12-29 17:12:13,697 WARNING: temp is None for 26267522\n"
     ]
    },
    {
     "name": "stdout",
     "output_type": "stream",
     "text": [
      "10173/25033 23121867 9.1144014886649468"
     ]
    },
    {
     "name": "stderr",
     "output_type": "stream",
     "text": [
      "2020-12-29 17:12:16,662 WARNING: temp is None for 20369369\n"
     ]
    },
    {
     "name": "stdout",
     "output_type": "stream",
     "text": [
      "10262/25033 22729176 8.8993854456304935"
     ]
    },
    {
     "name": "stderr",
     "output_type": "stream",
     "text": [
      "2020-12-29 17:13:21,623 WARNING: temp is None for 22204910\n"
     ]
    },
    {
     "name": "stdout",
     "output_type": "stream",
     "text": [
      "10309/25033 19059344 9.1010764553475975"
     ]
    },
    {
     "name": "stderr",
     "output_type": "stream",
     "text": [
      "2020-12-29 17:13:46,385 WARNING: temp is None for 23253658\n"
     ]
    },
    {
     "name": "stdout",
     "output_type": "stream",
     "text": [
      "10339/25033 21812019 8.7388105872710433"
     ]
    },
    {
     "name": "stderr",
     "output_type": "stream",
     "text": [
      "2020-12-29 17:14:08,684 WARNING: temp is None for 19583804\n"
     ]
    },
    {
     "name": "stdout",
     "output_type": "stream",
     "text": [
      "10344/25033 21156685 11.816833964824835"
     ]
    },
    {
     "name": "stderr",
     "output_type": "stream",
     "text": [
      "2020-12-29 17:14:11,393 WARNING: temp is None for 18535246\n"
     ]
    },
    {
     "name": "stdout",
     "output_type": "stream",
     "text": [
      "10356/25033 19190673 11.497917731983364"
     ]
    },
    {
     "name": "stderr",
     "output_type": "stream",
     "text": [
      "2020-12-29 17:14:16,423 WARNING: temp is None for 20108182\n"
     ]
    },
    {
     "name": "stdout",
     "output_type": "stream",
     "text": [
      "10382/25033 21287965 10.275626412141937"
     ]
    },
    {
     "name": "stderr",
     "output_type": "stream",
     "text": [
      "2020-12-29 17:14:36,080 WARNING: temp is None for 24433713\n"
     ]
    },
    {
     "name": "stdout",
     "output_type": "stream",
     "text": [
      "10453/25033 23123375 7.0053700013339268"
     ]
    },
    {
     "name": "stderr",
     "output_type": "stream",
     "text": [
      "2020-12-29 17:15:16,166 WARNING: temp is None for 21812669\n"
     ]
    },
    {
     "name": "stdout",
     "output_type": "stream",
     "text": [
      "10457/25033 26138065 4.2000642826301995"
     ]
    },
    {
     "name": "stderr",
     "output_type": "stream",
     "text": [
      "2020-12-29 17:15:17,062 WARNING: temp is None for 21812699\n"
     ]
    },
    {
     "name": "stdout",
     "output_type": "stream",
     "text": [
      "10490/25033 24041131 8.2788373119589496"
     ]
    },
    {
     "name": "stderr",
     "output_type": "stream",
     "text": [
      "2020-12-29 17:15:31,341 WARNING: temp is None for 27580085\n"
     ]
    },
    {
     "name": "stdout",
     "output_type": "stream",
     "text": [
      "10495/25033 23385803 10.592787251310627"
     ]
    },
    {
     "name": "stderr",
     "output_type": "stream",
     "text": [
      "2020-12-29 17:15:33,651 WARNING: temp is None for 28628699\n"
     ]
    },
    {
     "name": "stdout",
     "output_type": "stream",
     "text": [
      "10617/25033 21813630 6.3945347324544355"
     ]
    },
    {
     "name": "stderr",
     "output_type": "stream",
     "text": [
      "2020-12-29 17:16:50,423 WARNING: temp is None for 27974026\n"
     ]
    },
    {
     "name": "stdout",
     "output_type": "stream",
     "text": [
      "10757/25033 19061887 13.615083509729045"
     ]
    },
    {
     "name": "stderr",
     "output_type": "stream",
     "text": [
      "2020-12-29 17:18:25,311 WARNING: temp is None for 19717248\n"
     ]
    },
    {
     "name": "stdout",
     "output_type": "stream",
     "text": [
      "10813/25033 21945680 6.9522342626497545"
     ]
    },
    {
     "name": "stderr",
     "output_type": "stream",
     "text": [
      "2020-12-29 17:18:58,455 WARNING: temp is None for 20503901\n"
     ]
    },
    {
     "name": "stdout",
     "output_type": "stream",
     "text": [
      "10826/25033 24436138 5.0626963127772487"
     ]
    },
    {
     "name": "stderr",
     "output_type": "stream",
     "text": [
      "2020-12-29 17:19:08,504 WARNING: temp is None for 18800051\n"
     ]
    },
    {
     "name": "stdout",
     "output_type": "stream",
     "text": [
      "10916/25033 20373406 8.6545529936210625"
     ]
    },
    {
     "name": "stderr",
     "output_type": "stream",
     "text": [
      "2020-12-29 17:20:13,586 WARNING: Error during processing 20635554 Hypothesis is empty.\n"
     ]
    },
    {
     "name": "stdout",
     "output_type": "stream",
     "text": [
      "10969/25033 20373755 5.0264326502818233"
     ]
    },
    {
     "name": "stderr",
     "output_type": "stream",
     "text": [
      "2020-12-29 17:20:48,383 WARNING: temp is None for 25092364\n"
     ]
    },
    {
     "name": "stdout",
     "output_type": "stream",
     "text": [
      "11003/25033 21160416 7.5066359264458945"
     ]
    },
    {
     "name": "stderr",
     "output_type": "stream",
     "text": [
      "2020-12-29 17:21:07,309 WARNING: temp is None for 23388656\n"
     ]
    },
    {
     "name": "stdout",
     "output_type": "stream",
     "text": [
      "11025/25033 24044145 8.3687797329966571"
     ]
    },
    {
     "name": "stderr",
     "output_type": "stream",
     "text": [
      "2020-12-29 17:21:19,639 WARNING: temp is None for 25748098\n"
     ]
    },
    {
     "name": "stdout",
     "output_type": "stream",
     "text": [
      "11032/25033 21947028 7.4566818334375828"
     ]
    },
    {
     "name": "stderr",
     "output_type": "stream",
     "text": [
      "2020-12-29 17:21:21,511 WARNING: temp is None for 18670232\n"
     ]
    },
    {
     "name": "stdout",
     "output_type": "stream",
     "text": [
      "11069/25033 18801516 13.110267428522324"
     ]
    },
    {
     "name": "stderr",
     "output_type": "stream",
     "text": [
      "2020-12-29 17:21:41,540 WARNING: temp is None for 25486208\n"
     ]
    },
    {
     "name": "stdout",
     "output_type": "stream",
     "text": [
      "11076/25033 21423000 7.1429984077369176"
     ]
    },
    {
     "name": "stderr",
     "output_type": "stream",
     "text": [
      "2020-12-29 17:21:46,294 WARNING: temp is None for 27845533\n"
     ]
    },
    {
     "name": "stdout",
     "output_type": "stream",
     "text": [
      "11309/25033 24438736 11.222781461792305"
     ]
    },
    {
     "name": "stderr",
     "output_type": "stream",
     "text": [
      "2020-12-29 17:23:52,087 WARNING: temp is None for 19064799\n"
     ]
    },
    {
     "name": "stdout",
     "output_type": "stream",
     "text": [
      "11366/25033 22079773 10.343424927173123"
     ]
    },
    {
     "name": "stderr",
     "output_type": "stream",
     "text": [
      "2020-12-29 17:24:23,748 WARNING: temp is None for 25749805\n"
     ]
    },
    {
     "name": "stdout",
     "output_type": "stream",
     "text": [
      "11372/25033 21293372 11.636003576604612"
     ]
    },
    {
     "name": "stderr",
     "output_type": "stream",
     "text": [
      "2020-12-29 17:24:26,725 WARNING: temp is None for 20113740\n"
     ]
    },
    {
     "name": "stdout",
     "output_type": "stream",
     "text": [
      "11386/25033 25880957 8.2865092326127762"
     ]
    },
    {
     "name": "stderr",
     "output_type": "stream",
     "text": [
      "2020-12-29 17:24:44,032 WARNING: temp is None for 24570250\n"
     ]
    },
    {
     "name": "stdout",
     "output_type": "stream",
     "text": [
      "11425/25033 18672224 11.713352481891137"
     ]
    },
    {
     "name": "stderr",
     "output_type": "stream",
     "text": [
      "2020-12-29 17:25:09,550 WARNING: temp is None for 21949032\n"
     ]
    },
    {
     "name": "stdout",
     "output_type": "stream",
     "text": [
      "11433/25033 22211221 7.175786427001437"
     ]
    },
    {
     "name": "stderr",
     "output_type": "stream",
     "text": [
      "2020-12-29 17:25:13,599 WARNING: temp is None for 20114092\n"
     ]
    },
    {
     "name": "stdout",
     "output_type": "stream",
     "text": [
      "11443/25033 21424864 9.5491658990738865"
     ]
    },
    {
     "name": "stderr",
     "output_type": "stream",
     "text": [
      "2020-12-29 17:25:29,286 WARNING: temp is None for 21949172\n"
     ]
    },
    {
     "name": "stdout",
     "output_type": "stream",
     "text": [
      "11473/25033 24439680 17.539917198349595"
     ]
    },
    {
     "name": "stderr",
     "output_type": "stream",
     "text": [
      "2020-12-29 17:25:41,306 WARNING: temp is None for 22735748\n"
     ]
    },
    {
     "name": "stdout",
     "output_type": "stream",
     "text": [
      "11505/25033 23260230 16.021418154773047"
     ]
    },
    {
     "name": "stderr",
     "output_type": "stream",
     "text": [
      "2020-12-29 17:25:55,281 WARNING: temp is None for 24308809\n"
     ]
    },
    {
     "name": "stdout",
     "output_type": "stream",
     "text": [
      "11557/25033 22342984 9.5528346816592796"
     ]
    },
    {
     "name": "stderr",
     "output_type": "stream",
     "text": [
      "2020-12-29 17:26:34,712 WARNING: temp is None for 22474059\n"
     ]
    },
    {
     "name": "stdout",
     "output_type": "stream",
     "text": [
      "11591/25033 21818838 9.8720127416625689"
     ]
    },
    {
     "name": "stderr",
     "output_type": "stream",
     "text": [
      "2020-12-29 17:26:52,688 WARNING: temp is None for 22474199\n"
     ]
    },
    {
     "name": "stdout",
     "output_type": "stream",
     "text": [
      "11614/25033 23260723 7.7471542957385635"
     ]
    },
    {
     "name": "stderr",
     "output_type": "stream",
     "text": [
      "2020-12-29 17:27:09,092 WARNING: Error during processing 22343226 Hypothesis is empty.\n"
     ]
    },
    {
     "name": "stdout",
     "output_type": "stream",
     "text": [
      "11666/25033 19591057 9.9056569199876151"
     ]
    },
    {
     "name": "stderr",
     "output_type": "stream",
     "text": [
      "2020-12-29 17:27:43,683 WARNING: temp is None for 27455385\n"
     ]
    },
    {
     "name": "stdout",
     "output_type": "stream",
     "text": [
      "11679/25033 25751534 6.9923751777147623"
     ]
    },
    {
     "name": "stderr",
     "output_type": "stream",
     "text": [
      "2020-12-29 17:27:49,162 WARNING: temp is None for 22212598\n"
     ]
    },
    {
     "name": "stdout",
     "output_type": "stream",
     "text": [
      "11727/25033 27324648 10.153914426475742"
     ]
    },
    {
     "name": "stderr",
     "output_type": "stream",
     "text": [
      "2020-12-29 17:28:16,044 WARNING: temp is None for 24047858\n"
     ]
    },
    {
     "name": "stdout",
     "output_type": "stream",
     "text": [
      "11813/25033 21820083 6.0148128021128888"
     ]
    },
    {
     "name": "stderr",
     "output_type": "stream",
     "text": [
      "2020-12-29 17:29:16,896 WARNING: temp is None for 25490106\n"
     ]
    },
    {
     "name": "stdout",
     "output_type": "stream",
     "text": [
      "11845/25033 21951278 13.659607076630468"
     ]
    },
    {
     "name": "stderr",
     "output_type": "stream",
     "text": [
      "2020-12-29 17:29:35,397 WARNING: temp is None for 25097026\n",
      "2020-12-29 17:29:35,466 WARNING: temp is None for 22475589\n"
     ]
    },
    {
     "name": "stdout",
     "output_type": "stream",
     "text": [
      "11916/25033 18674809 10.711558552960291"
     ]
    },
    {
     "name": "stderr",
     "output_type": "stream",
     "text": [
      "2020-12-29 17:30:14,624 WARNING: temp is None for 22213758\n"
     ]
    },
    {
     "name": "stdout",
     "output_type": "stream",
     "text": [
      "11941/25033 21558489 11.103661133084808"
     ]
    },
    {
     "name": "stderr",
     "output_type": "stream",
     "text": [
      "2020-12-29 17:30:26,538 WARNING: temp is None for 21820632\n"
     ]
    },
    {
     "name": "stdout",
     "output_type": "stream",
     "text": [
      "11961/25033 23917948 11.330640619580766"
     ]
    },
    {
     "name": "stderr",
     "output_type": "stream",
     "text": [
      "2020-12-29 17:30:36,130 WARNING: temp is None for 20641152\n"
     ]
    },
    {
     "name": "stdout",
     "output_type": "stream",
     "text": [
      "12022/25033 21821130 7.9019186502027728"
     ]
    },
    {
     "name": "stderr",
     "output_type": "stream",
     "text": [
      "2020-12-29 17:31:15,079 WARNING: temp is None for 23525078\n"
     ]
    },
    {
     "name": "stdout",
     "output_type": "stream",
     "text": [
      "12031/25033 18806532 7.4881897862890465"
     ]
    },
    {
     "name": "stderr",
     "output_type": "stream",
     "text": [
      "2020-12-29 17:31:20,991 WARNING: temp is None for 25622279\n"
     ]
    },
    {
     "name": "stdout",
     "output_type": "stream",
     "text": [
      "12044/25033 20510577 9.5173370760242037"
     ]
    },
    {
     "name": "stderr",
     "output_type": "stream",
     "text": [
      "2020-12-29 17:31:32,427 WARNING: Error during processing 19199872 Hypothesis is empty.\n"
     ]
    },
    {
     "name": "stdout",
     "output_type": "stream",
     "text": [
      "12053/25033 23918492 12.362426962324815"
     ]
    },
    {
     "name": "stderr",
     "output_type": "stream",
     "text": [
      "2020-12-29 17:31:35,920 WARNING: Error during processing 18806691 Hypothesis is empty.\n"
     ]
    },
    {
     "name": "stdout",
     "output_type": "stream",
     "text": [
      "12078/25033 28768298 6.0423979311312215"
     ]
    },
    {
     "name": "stderr",
     "output_type": "stream",
     "text": [
      "2020-12-29 17:31:47,141 WARNING: temp is None for 20117559\n",
      "2020-12-29 17:31:47,209 WARNING: temp is None for 20117560\n"
     ]
    },
    {
     "name": "stdout",
     "output_type": "stream",
     "text": [
      "12086/25033 23656522 10.717806487958761"
     ]
    },
    {
     "name": "stderr",
     "output_type": "stream",
     "text": [
      "2020-12-29 17:31:50,728 WARNING: temp is None for 20117581\n"
     ]
    },
    {
     "name": "stdout",
     "output_type": "stream",
     "text": [
      "12292/25033 23526552 8.2867012531332412"
     ]
    },
    {
     "name": "stderr",
     "output_type": "stream",
     "text": [
      "2020-12-29 17:34:12,900 WARNING: temp is None for 25623711\n"
     ]
    },
    {
     "name": "stdout",
     "output_type": "stream",
     "text": [
      "12308/25033 22871273 7.6734970540122068"
     ]
    },
    {
     "name": "stderr",
     "output_type": "stream",
     "text": [
      "2020-12-29 17:34:23,021 WARNING: Error during processing 28376298 Hypothesis is empty.\n"
     ]
    },
    {
     "name": "stdout",
     "output_type": "stream",
     "text": [
      "12315/25033 23657758 7.4199983471710662"
     ]
    },
    {
     "name": "stderr",
     "output_type": "stream",
     "text": [
      "2020-12-29 17:34:29,054 WARNING: temp is None for 18677029\n"
     ]
    },
    {
     "name": "stdout",
     "output_type": "stream",
     "text": [
      "12332/25033 25230746 9.7347500132724325"
     ]
    },
    {
     "name": "stderr",
     "output_type": "stream",
     "text": [
      "2020-12-29 17:34:36,021 WARNING: temp is None for 27065757\n"
     ]
    },
    {
     "name": "stdout",
     "output_type": "stream",
     "text": [
      "12360/25033 19594741 11.550064663439898"
     ]
    },
    {
     "name": "stderr",
     "output_type": "stream",
     "text": [
      "2020-12-29 17:34:49,136 WARNING: temp is None for 20643346\n"
     ]
    },
    {
     "name": "stdout",
     "output_type": "stream",
     "text": [
      "12455/25033 23920641 4.5559866269986456"
     ]
    },
    {
     "name": "stderr",
     "output_type": "stream",
     "text": [
      "2020-12-29 17:35:51,299 WARNING: temp is None for 21561354\n"
     ]
    },
    {
     "name": "stdout",
     "output_type": "stream",
     "text": [
      "12519/25033 22085925 8.3731216003077512"
     ]
    },
    {
     "name": "stderr",
     "output_type": "stream",
     "text": [
      "2020-12-29 17:36:38,954 WARNING: Error during processing 19595559 Hypothesis is empty.\n"
     ]
    },
    {
     "name": "stdout",
     "output_type": "stream",
     "text": [
      "12539/25033 21954964 10.324735136431896"
     ]
    },
    {
     "name": "stderr",
     "output_type": "stream",
     "text": [
      "2020-12-29 17:36:47,796 WARNING: temp is None for 20382105\n"
     ]
    },
    {
     "name": "stdout",
     "output_type": "stream",
     "text": [
      "12571/25033 19464796 8.6916662376311436"
     ]
    },
    {
     "name": "stderr",
     "output_type": "stream",
     "text": [
      "2020-12-29 17:37:04,949 WARNING: temp is None for 24183407\n"
     ]
    },
    {
     "name": "stdout",
     "output_type": "stream",
     "text": [
      "12600/25033 18809613 9.9643488560853059"
     ]
    },
    {
     "name": "stderr",
     "output_type": "stream",
     "text": [
      "2020-12-29 17:37:28,779 WARNING: temp is None for 18809625\n"
     ]
    },
    {
     "name": "stdout",
     "output_type": "stream",
     "text": [
      "12605/25033 26280755 10.873645960301788"
     ]
    },
    {
     "name": "stderr",
     "output_type": "stream",
     "text": [
      "2020-12-29 17:37:30,209 WARNING: temp is None for 18940728\n"
     ]
    },
    {
     "name": "stdout",
     "output_type": "stream",
     "text": [
      "12617/25033 27591548 13.042675551607248"
     ]
    },
    {
     "name": "stderr",
     "output_type": "stream",
     "text": [
      "2020-12-29 17:37:34,995 WARNING: temp is None for 26018690\n"
     ]
    },
    {
     "name": "stdout",
     "output_type": "stream",
     "text": [
      "12727/25033 25626035 10.138390302407014"
     ]
    },
    {
     "name": "stderr",
     "output_type": "stream",
     "text": [
      "2020-12-29 17:38:44,390 WARNING: temp is None for 25626040\n"
     ]
    },
    {
     "name": "stdout",
     "output_type": "stream",
     "text": [
      "12734/25033 23922148 7.6562728243066573"
     ]
    },
    {
     "name": "stderr",
     "output_type": "stream",
     "text": [
      "2020-12-29 17:38:46,687 WARNING: temp is None for 24315367\n"
     ]
    },
    {
     "name": "stdout",
     "output_type": "stream",
     "text": [
      "12757/25033 27199065 11.603952767014851"
     ]
    },
    {
     "name": "stderr",
     "output_type": "stream",
     "text": [
      "2020-12-29 17:38:55,771 WARNING: temp is None for 18679393\n"
     ]
    },
    {
     "name": "stdout",
     "output_type": "stream",
     "text": [
      "12793/25033 24184556 13.096366822621778"
     ]
    },
    {
     "name": "stderr",
     "output_type": "stream",
     "text": [
      "2020-12-29 17:39:17,221 WARNING: temp is None for 27199214\n"
     ]
    },
    {
     "name": "stdout",
     "output_type": "stream",
     "text": [
      "12807/25033 26281785 11.086106009445967"
     ]
    },
    {
     "name": "stderr",
     "output_type": "stream",
     "text": [
      "2020-12-29 17:39:24,388 WARNING: Error during processing 25626431 Hypothesis is empty.\n"
     ]
    },
    {
     "name": "stdout",
     "output_type": "stream",
     "text": [
      "12854/25033 21956634 10.712240064214972"
     ]
    },
    {
     "name": "stderr",
     "output_type": "stream",
     "text": [
      "2020-12-29 17:39:51,564 WARNING: temp is None for 23660578\n"
     ]
    },
    {
     "name": "stdout",
     "output_type": "stream",
     "text": [
      "12915/25033 25364886 11.722412255377721"
     ]
    },
    {
     "name": "stderr",
     "output_type": "stream",
     "text": [
      "2020-12-29 17:40:22,741 WARNING: temp is None for 20122025\n"
     ]
    },
    {
     "name": "stdout",
     "output_type": "stream",
     "text": [
      "12980/25033 23137046 10.299103963169548"
     ]
    },
    {
     "name": "stderr",
     "output_type": "stream",
     "text": [
      "2020-12-29 17:40:56,118 WARNING: temp is None for 20646711\n"
     ]
    },
    {
     "name": "stdout",
     "output_type": "stream",
     "text": [
      "13025/25033 20515895 9.3058398014151455"
     ]
    },
    {
     "name": "stderr",
     "output_type": "stream",
     "text": [
      "2020-12-29 17:41:16,128 WARNING: temp is None for 20384847\n"
     ]
    },
    {
     "name": "stdout",
     "output_type": "stream",
     "text": [
      "13054/25033 21695727 10.348549496168799"
     ]
    },
    {
     "name": "stderr",
     "output_type": "stream",
     "text": [
      "2020-12-29 17:41:29,069 WARNING: temp is None for 23137531\n"
     ]
    },
    {
     "name": "stdout",
     "output_type": "stream",
     "text": [
      "13271/25033 20124144 6.2459594140052837"
     ]
    },
    {
     "name": "stderr",
     "output_type": "stream",
     "text": [
      "2020-12-29 17:43:45,260 WARNING: temp is None for 24842747\n"
     ]
    },
    {
     "name": "stdout",
     "output_type": "stream",
     "text": [
      "13324/25033 26022770 7.7569523008097778"
     ]
    },
    {
     "name": "stderr",
     "output_type": "stream",
     "text": [
      "2020-12-29 17:44:08,514 WARNING: temp is None for 20124542\n"
     ]
    },
    {
     "name": "stdout",
     "output_type": "stream",
     "text": [
      "13343/25033 19207145 5.4309131247787469"
     ]
    },
    {
     "name": "stderr",
     "output_type": "stream",
     "text": [
      "2020-12-29 17:44:23,746 WARNING: temp is None for 18813951\n"
     ]
    },
    {
     "name": "stdout",
     "output_type": "stream",
     "text": [
      "13384/25033 18945255 8.0024822168248344"
     ]
    },
    {
     "name": "stderr",
     "output_type": "stream",
     "text": [
      "2020-12-29 17:44:50,062 WARNING: Error during processing 23532780 Hypothesis is empty.\n"
     ]
    },
    {
     "name": "stdout",
     "output_type": "stream",
     "text": [
      "13451/25033 22222480 8.5937396790982678"
     ]
    },
    {
     "name": "stderr",
     "output_type": "stream",
     "text": [
      "2020-12-29 17:45:27,557 WARNING: temp is None for 22484627\n"
     ]
    },
    {
     "name": "stdout",
     "output_type": "stream",
     "text": [
      "13471/25033 23009056 7.0278686957088328"
     ]
    },
    {
     "name": "stderr",
     "output_type": "stream",
     "text": [
      "2020-12-29 17:45:37,142 WARNING: temp is None for 24450859\n",
      "2020-12-29 17:45:37,210 WARNING: temp is None for 22091567\n"
     ]
    },
    {
     "name": "stdout",
     "output_type": "stream",
     "text": [
      "13597/25033 27073014 9.2494534873570233"
     ]
    },
    {
     "name": "stderr",
     "output_type": "stream",
     "text": [
      "2020-12-29 17:47:00,838 WARNING: temp is None for 20650516\n"
     ]
    },
    {
     "name": "stdout",
     "output_type": "stream",
     "text": [
      "13697/25033 22354974 10.501481715756206"
     ]
    },
    {
     "name": "stderr",
     "output_type": "stream",
     "text": [
      "2020-12-29 17:48:01,011 WARNING: temp is None for 20388900\n"
     ]
    },
    {
     "name": "stdout",
     "output_type": "stream",
     "text": [
      "13702/25033 21961777 7.7684295868844693"
     ]
    },
    {
     "name": "stderr",
     "output_type": "stream",
     "text": [
      "2020-12-29 17:48:05,030 WARNING: temp is None for 18816109\n"
     ]
    },
    {
     "name": "stdout",
     "output_type": "stream",
     "text": [
      "13713/25033 23403684 11.724254276155666"
     ]
    },
    {
     "name": "stderr",
     "output_type": "stream",
     "text": [
      "2020-12-29 17:48:08,328 WARNING: temp is None for 24845483\n"
     ]
    },
    {
     "name": "stdout",
     "output_type": "stream",
     "text": [
      "13732/25033 18554097 10.698510452276635"
     ]
    },
    {
     "name": "stderr",
     "output_type": "stream",
     "text": [
      "2020-12-29 17:48:16,093 WARNING: temp is None for 19602693\n"
     ]
    },
    {
     "name": "stdout",
     "output_type": "stream",
     "text": [
      "13943/25033 21438686 15.202991734906234"
     ]
    },
    {
     "name": "stderr",
     "output_type": "stream",
     "text": [
      "2020-12-29 17:50:11,124 WARNING: temp is None for 21700836\n"
     ]
    },
    {
     "name": "stdout",
     "output_type": "stream",
     "text": [
      "13965/25033 25108805 13.009672241633847"
     ]
    },
    {
     "name": "stderr",
     "output_type": "stream",
     "text": [
      "2020-12-29 17:50:30,862 WARNING: temp is None for 24322396\n"
     ]
    },
    {
     "name": "stdout",
     "output_type": "stream",
     "text": [
      "\r",
      "13966/25033 24977755 6.162678600128611"
     ]
    },
    {
     "name": "stderr",
     "output_type": "stream",
     "text": [
      "2020-12-29 17:50:31,323 WARNING: temp is None for 21045600\n"
     ]
    },
    {
     "name": "stdout",
     "output_type": "stream",
     "text": [
      "14012/25033 21570071 7.5336344808444335"
     ]
    },
    {
     "name": "stderr",
     "output_type": "stream",
     "text": [
      "2020-12-29 17:50:55,762 WARNING: temp is None for 28910112\n"
     ]
    },
    {
     "name": "stdout",
     "output_type": "stream",
     "text": [
      "14019/25033 23929403 4.8061060795226579"
     ]
    },
    {
     "name": "stderr",
     "output_type": "stream",
     "text": [
      "2020-12-29 17:50:57,384 WARNING: temp is None for 22094404\n"
     ]
    },
    {
     "name": "stdout",
     "output_type": "stream",
     "text": [
      "14045/25033 21701348 7.4718059087216936"
     ]
    },
    {
     "name": "stderr",
     "output_type": "stream",
     "text": [
      "2020-12-29 17:51:12,903 WARNING: temp is None for 26026724\n"
     ]
    },
    {
     "name": "stdout",
     "output_type": "stream",
     "text": [
      "14175/25033 25109885 8.8876973338124545"
     ]
    },
    {
     "name": "stderr",
     "output_type": "stream",
     "text": [
      "2020-12-29 17:52:50,776 WARNING: temp is None for 28648833\n"
     ]
    },
    {
     "name": "stdout",
     "output_type": "stream",
     "text": [
      "14223/25033 18949788 11.385624713449514"
     ]
    },
    {
     "name": "stderr",
     "output_type": "stream",
     "text": [
      "2020-12-29 17:53:14,672 WARNING: temp is None for 19211952\n"
     ]
    },
    {
     "name": "stdout",
     "output_type": "stream",
     "text": [
      "14244/25033 22226707 7.1107327570874965"
     ]
    },
    {
     "name": "stderr",
     "output_type": "stream",
     "text": [
      "2020-12-29 17:53:34,636 WARNING: temp is None for 20522779\n"
     ]
    },
    {
     "name": "stdout",
     "output_type": "stream",
     "text": [
      "14308/25033 19343511 11.518724055514603"
     ]
    },
    {
     "name": "stderr",
     "output_type": "stream",
     "text": [
      "2020-12-29 17:54:23,989 WARNING: temp is None for 22227113\n"
     ]
    },
    {
     "name": "stdout",
     "output_type": "stream",
     "text": [
      "14314/25033 23406773 14.457994675416266"
     ]
    },
    {
     "name": "stderr",
     "output_type": "stream",
     "text": [
      "2020-12-29 17:54:26,658 WARNING: temp is None for 24979652\n"
     ]
    },
    {
     "name": "stdout",
     "output_type": "stream",
     "text": [
      "14333/25033 21834011 11.004346270338479"
     ]
    },
    {
     "name": "stderr",
     "output_type": "stream",
     "text": [
      "2020-12-29 17:54:37,169 WARNING: temp is None for 20392229\n"
     ]
    },
    {
     "name": "stdout",
     "output_type": "stream",
     "text": [
      "14337/25033 19343660 7.6599063125738132"
     ]
    },
    {
     "name": "stderr",
     "output_type": "stream",
     "text": [
      "2020-12-29 17:54:38,120 WARNING: temp is None for 19081519\n"
     ]
    },
    {
     "name": "stdout",
     "output_type": "stream",
     "text": [
      "14406/25033 25504449 8.9738840768832828"
     ]
    },
    {
     "name": "stderr",
     "output_type": "stream",
     "text": [
      "2020-12-29 17:55:22,943 WARNING: temp is None for 24849101\n"
     ]
    },
    {
     "name": "stdout",
     "output_type": "stream",
     "text": [
      "14442/25033 19606372 8.2690606122683215"
     ]
    },
    {
     "name": "stderr",
     "output_type": "stream",
     "text": [
      "2020-12-29 17:55:46,104 WARNING: Error during processing 18951025 Hypothesis is empty.\n"
     ]
    },
    {
     "name": "stdout",
     "output_type": "stream",
     "text": [
      "14503/25033 18951461 9.0493496307334262"
     ]
    },
    {
     "name": "stderr",
     "output_type": "stream",
     "text": [
      "2020-12-29 17:56:26,579 WARNING: temp is None for 23932212\n"
     ]
    },
    {
     "name": "stdout",
     "output_type": "stream",
     "text": [
      "14554/25033 21311022 9.2072193004268055"
     ]
    },
    {
     "name": "stderr",
     "output_type": "stream",
     "text": [
      "2020-12-29 17:56:53,528 WARNING: temp is None for 23277133\n"
     ]
    },
    {
     "name": "stdout",
     "output_type": "stream",
     "text": [
      "14562/25033 22228589 10.208782157586842"
     ]
    },
    {
     "name": "stderr",
     "output_type": "stream",
     "text": [
      "2020-12-29 17:56:55,013 WARNING: temp is None for 21442158\n"
     ]
    },
    {
     "name": "stdout",
     "output_type": "stream",
     "text": [
      "14611/25033 23539594 7.3979538195030272"
     ]
    },
    {
     "name": "stderr",
     "output_type": "stream",
     "text": [
      "2020-12-29 17:57:30,830 WARNING: temp is None for 26423191\n"
     ]
    },
    {
     "name": "stdout",
     "output_type": "stream",
     "text": [
      "14626/25033 22753210 6.3546885886050569"
     ]
    },
    {
     "name": "stderr",
     "output_type": "stream",
     "text": [
      "2020-12-29 17:57:38,021 WARNING: temp is None for 26423251\n"
     ]
    },
    {
     "name": "stdout",
     "output_type": "stream",
     "text": [
      "14662/25033 19345556 11.525229591730046"
     ]
    },
    {
     "name": "stderr",
     "output_type": "stream",
     "text": [
      "2020-12-29 17:57:50,665 WARNING: temp is None for 24064151\n"
     ]
    },
    {
     "name": "stdout",
     "output_type": "stream",
     "text": [
      "14706/25033 27603433 14.014242676251751"
     ]
    },
    {
     "name": "stderr",
     "output_type": "stream",
     "text": [
      "2020-12-29 17:58:21,083 WARNING: temp is None for 28258807\n"
     ]
    },
    {
     "name": "stdout",
     "output_type": "stream",
     "text": [
      "14730/25033 19477151 13.517833718010413"
     ]
    },
    {
     "name": "stderr",
     "output_type": "stream",
     "text": [
      "2020-12-29 17:58:33,931 WARNING: temp is None for 22360753\n"
     ]
    },
    {
     "name": "stdout",
     "output_type": "stream",
     "text": [
      "14735/25033 19608264 7.5626283878202525"
     ]
    },
    {
     "name": "stderr",
     "output_type": "stream",
     "text": [
      "2020-12-29 17:58:35,307 WARNING: temp is None for 19215054\n"
     ]
    },
    {
     "name": "stdout",
     "output_type": "stream",
     "text": [
      "14814/25033 21967852 9.5562616091306783"
     ]
    },
    {
     "name": "stderr",
     "output_type": "stream",
     "text": [
      "2020-12-29 17:59:31,626 WARNING: temp is None for 19477489\n"
     ]
    },
    {
     "name": "stdout",
     "output_type": "stream",
     "text": [
      "14879/25033 19346680 14.261633289586143"
     ]
    },
    {
     "name": "stderr",
     "output_type": "stream",
     "text": [
      "2020-12-29 18:00:06,925 WARNING: temp is None for 19608835\n"
     ]
    },
    {
     "name": "stdout",
     "output_type": "stream",
     "text": [
      "14976/25033 20133564 12.819868844018107"
     ]
    },
    {
     "name": "stderr",
     "output_type": "stream",
     "text": [
      "2020-12-29 18:00:59,459 WARNING: temp is None for 19478213\n",
      "2020-12-29 18:00:59,528 WARNING: temp is None for 19478216\n"
     ]
    },
    {
     "name": "stdout",
     "output_type": "stream",
     "text": [
      "\r",
      "14977/25033 19478212 9.517009434710237"
     ]
    },
    {
     "name": "stderr",
     "output_type": "stream",
     "text": [
      "2020-12-29 18:00:59,598 WARNING: temp is None for 19478221\n"
     ]
    },
    {
     "name": "stdout",
     "output_type": "stream",
     "text": [
      "15029/25033 18823189 9.6425073053845532"
     ]
    },
    {
     "name": "stderr",
     "output_type": "stream",
     "text": [
      "2020-12-29 18:01:41,190 WARNING: temp is None for 24459289\n"
     ]
    },
    {
     "name": "stdout",
     "output_type": "stream",
     "text": [
      "15049/25033 21968988 14.060148126501002"
     ]
    },
    {
     "name": "stderr",
     "output_type": "stream",
     "text": [
      "2020-12-29 18:01:49,645 WARNING: temp is None for 25245795\n"
     ]
    },
    {
     "name": "stdout",
     "output_type": "stream",
     "text": [
      "15061/25033 21575822 9.4949459248771473"
     ]
    },
    {
     "name": "stderr",
     "output_type": "stream",
     "text": [
      "2020-12-29 18:01:54,791 WARNING: temp is None for 21575829\n",
      "2020-12-29 18:01:55,953 WARNING: temp is None for 25770139\n"
     ]
    },
    {
     "name": "stdout",
     "output_type": "stream",
     "text": [
      "15073/25033 21051598 9.5715757557500956"
     ]
    },
    {
     "name": "stderr",
     "output_type": "stream",
     "text": [
      "2020-12-29 18:01:59,939 WARNING: temp is None for 23541970\n"
     ]
    },
    {
     "name": "stdout",
     "output_type": "stream",
     "text": [
      "15080/25033 18692319 11.712621134218342"
     ]
    },
    {
     "name": "stderr",
     "output_type": "stream",
     "text": [
      "2020-12-29 18:02:04,864 WARNING: temp is None for 21051624\n"
     ]
    },
    {
     "name": "stdout",
     "output_type": "stream",
     "text": [
      "15090/25033 22493463 9.6035352338162865"
     ]
    },
    {
     "name": "stderr",
     "output_type": "stream",
     "text": [
      "2020-12-29 18:02:09,358 WARNING: temp is None for 24983834\n"
     ]
    },
    {
     "name": "stdout",
     "output_type": "stream",
     "text": [
      "15121/25033 21838287 8.9293674167968492"
     ]
    },
    {
     "name": "stderr",
     "output_type": "stream",
     "text": [
      "2020-12-29 18:02:28,900 WARNING: Error during processing 27605462 Hypothesis is empty.\n"
     ]
    },
    {
     "name": "stdout",
     "output_type": "stream",
     "text": [
      "15125/25033 21969383 12.166282173345913"
     ]
    },
    {
     "name": "stderr",
     "output_type": "stream",
     "text": [
      "2020-12-29 18:02:29,349 WARNING: temp is None for 20920810\n"
     ]
    },
    {
     "name": "stdout",
     "output_type": "stream",
     "text": [
      "15131/25033 18823717 9.8331180123399755"
     ]
    },
    {
     "name": "stderr",
     "output_type": "stream",
     "text": [
      "2020-12-29 18:02:34,566 WARNING: temp is None for 21969457\n"
     ]
    },
    {
     "name": "stdout",
     "output_type": "stream",
     "text": [
      "15280/25033 19479880 10.278261312696891"
     ]
    },
    {
     "name": "stderr",
     "output_type": "stream",
     "text": [
      "2020-12-29 18:04:06,696 WARNING: temp is None for 22101324\n"
     ]
    },
    {
     "name": "stdout",
     "output_type": "stream",
     "text": [
      "15305/25033 17382828 7.3913446493430495"
     ]
    },
    {
     "name": "stderr",
     "output_type": "stream",
     "text": [
      "2020-12-29 18:04:22,616 WARNING: temp is None for 23150002\n"
     ]
    },
    {
     "name": "stdout",
     "output_type": "stream",
     "text": [
      "\r",
      "15306/25033 20528560 8.026574704202192"
     ]
    },
    {
     "name": "stderr",
     "output_type": "stream",
     "text": [
      "2020-12-29 18:04:23,114 WARNING: temp is None for 23150005\n"
     ]
    },
    {
     "name": "stdout",
     "output_type": "stream",
     "text": [
      "15313/25033 19348923 7.4563172097911746"
     ]
    },
    {
     "name": "stderr",
     "output_type": "stream",
     "text": [
      "2020-12-29 18:04:29,014 WARNING: temp is None for 21839333\n"
     ]
    },
    {
     "name": "stdout",
     "output_type": "stream",
     "text": [
      "15375/25033 21839773 7.7321224308389936"
     ]
    },
    {
     "name": "stderr",
     "output_type": "stream",
     "text": [
      "2020-12-29 18:05:07,360 WARNING: temp is None for 20004777\n"
     ]
    },
    {
     "name": "stdout",
     "output_type": "stream",
     "text": [
      "15408/25033 22233181 11.959588771906162"
     ]
    },
    {
     "name": "stderr",
     "output_type": "stream",
     "text": [
      "2020-12-29 18:05:28,105 WARNING: temp is None for 27869291\n"
     ]
    },
    {
     "name": "stdout",
     "output_type": "stream",
     "text": [
      "15425/25033 19218606 11.774471652025442"
     ]
    },
    {
     "name": "stderr",
     "output_type": "stream",
     "text": [
      "2020-12-29 18:05:35,379 WARNING: temp is None for 24330419\n"
     ]
    },
    {
     "name": "stdout",
     "output_type": "stream",
     "text": [
      "\r",
      "15426/25033 18956464 10.564663750034493"
     ]
    },
    {
     "name": "stderr",
     "output_type": "stream",
     "text": [
      "2020-12-29 18:05:36,095 WARNING: temp is None for 25116908\n"
     ]
    },
    {
     "name": "stdout",
     "output_type": "stream",
     "text": [
      "15447/25033 21446975 11.284093254987363"
     ]
    },
    {
     "name": "stderr",
     "output_type": "stream",
     "text": [
      "2020-12-29 18:05:49,097 WARNING: temp is None for 21709124\n"
     ]
    },
    {
     "name": "stdout",
     "output_type": "stream",
     "text": [
      "15473/25033 21185003 7.3480675994189992"
     ]
    },
    {
     "name": "stderr",
     "output_type": "stream",
     "text": [
      "2020-12-29 18:06:03,601 WARNING: temp is None for 21185004\n"
     ]
    },
    {
     "name": "stdout",
     "output_type": "stream",
     "text": [
      "15566/25033 21316470 9.0182406818569865"
     ]
    },
    {
     "name": "stderr",
     "output_type": "stream",
     "text": [
      "2020-12-29 18:07:15,279 WARNING: Error during processing 22889337 Hypothesis is empty.\n"
     ]
    },
    {
     "name": "stdout",
     "output_type": "stream",
     "text": [
      "15589/25033 23151582 5.1482919201995325"
     ]
    },
    {
     "name": "stderr",
     "output_type": "stream",
     "text": [
      "2020-12-29 18:07:24,664 WARNING: temp is None for 18695138\n"
     ]
    },
    {
     "name": "stdout",
     "output_type": "stream",
     "text": [
      "15668/25033 23676264 11.602745745060956"
     ]
    }
   ],
   "source": [
    "TRAIN_DATASET_PATH = os.path.expanduser('˜/dataset.csv')\n",
    "if os.path.exists(TRAIN_DATASET_PATH):\n",
    "    train_df = pd.read_csv(TRAIN_DATASET_PATH)\n",
    "else:\n",
    "    train_df = process_reference_sentences_dataset(sentences_df, ref_sents_df)\n",
    "    train_df.to_csv(TRAIN_DATASET_PATH, index=False)"
   ]
  },
  {
   "cell_type": "code",
   "execution_count": 23,
   "metadata": {},
   "outputs": [
    {
     "data": {
      "text/html": [
       "<div>\n",
       "<style scoped>\n",
       "    .dataframe tbody tr th:only-of-type {\n",
       "        vertical-align: middle;\n",
       "    }\n",
       "\n",
       "    .dataframe tbody tr th {\n",
       "        vertical-align: top;\n",
       "    }\n",
       "\n",
       "    .dataframe thead th {\n",
       "        text-align: right;\n",
       "    }\n",
       "</style>\n",
       "<table border=\"1\" class=\"dataframe\">\n",
       "  <thead>\n",
       "    <tr style=\"text-align: right;\">\n",
       "      <th></th>\n",
       "      <th>pmid</th>\n",
       "      <th>sentence</th>\n",
       "      <th>score</th>\n",
       "    </tr>\n",
       "  </thead>\n",
       "  <tbody>\n",
       "    <tr>\n",
       "      <th>0</th>\n",
       "      <td>25427978</td>\n",
       "      <td>Nontyphoidal salmonella is estimated to be the...</td>\n",
       "      <td>19.846851</td>\n",
       "    </tr>\n",
       "  </tbody>\n",
       "</table>\n",
       "</div>"
      ],
      "text/plain": [
       "       pmid                                           sentence      score\n",
       "0  25427978  Nontyphoidal salmonella is estimated to be the...  19.846851"
      ]
     },
     "metadata": {},
     "output_type": "display_data"
    }
   ],
   "source": [
    "display(train_df.head(1))"
   ]
  },
  {
   "cell_type": "markdown",
   "metadata": {},
   "source": [
    "9. A function to preprocess input text for `BERT`."
   ]
  },
  {
   "cell_type": "code",
   "execution_count": 24,
   "metadata": {},
   "outputs": [],
   "source": [
    "def preprocess_paper_bert(text, max_len, tokenizer):\n",
    "    sents = [[tokenizer.artBOS.tkn] + tokenizer.tokenize(sent) + [tokenizer.artEOS.tkn]\n",
    "             for sent in text]\n",
    "    ids, segments, segment_signature = [], [], 0\n",
    "    n_setns = 0\n",
    "    for s in sents:\n",
    "        if len(ids) + len(s) <= max_len:\n",
    "            n_setns += 1\n",
    "            ids.extend(tokenizer.convert_tokens_to_ids(s))\n",
    "            segments.extend([segment_signature] * len(s))\n",
    "            segment_signature = (segment_signature + 1) % 2\n",
    "        else:\n",
    "            break\n",
    "    mask = [1] * len(ids)\n",
    "\n",
    "    pad_len = max(0, max_len - len(ids))\n",
    "    ids += [tokenizer.PAD.idx] * pad_len\n",
    "    mask += [0] * pad_len\n",
    "    segments += [segment_signature] * pad_len\n",
    "\n",
    "    return ids, mask, segments, n_setns"
   ]
  },
  {
   "cell_type": "markdown",
   "metadata": {},
   "source": [
    "10. Splitting data into train/test/val."
   ]
  },
  {
   "cell_type": "code",
   "execution_count": 25,
   "metadata": {},
   "outputs": [],
   "source": [
    "from sklearn.model_selection import train_test_split\n",
    "\n",
    "train_ids, test_ids = train_test_split(list(set(train_df['pmid'].values)), test_size=0.2)\n",
    "test_ids, val_ids = train_test_split(test_ids, test_size = 0.4)\n",
    "train, test, val = train_df[train_df['pmid'].isin(train_ids)], \\\n",
    "    train_df[train_df['pmid'].isin(test_ids)], train_df[train_df['pmid'].isin(val_ids)] "
   ]
  },
  {
   "cell_type": "markdown",
   "metadata": {},
   "source": [
    "11. Dataset classes.\\\n",
    "`Other*` classes first preprocess all the data and then give out the batches.\\\n",
    "`Ordinary` data classes preprocess data before each batch to give out. "
   ]
  },
  {
   "cell_type": "markdown",
   "metadata": {},
   "source": [
    "12. Helpers for creating the model, training and evaluation. "
   ]
  },
  {
   "cell_type": "code",
   "execution_count": 26,
   "metadata": {},
   "outputs": [],
   "source": [
    "from torch.utils.data import DataLoader, Dataset, DistributedSampler\n",
    "\n",
    "\n",
    "class OtherTrainDatasetFeatures(Dataset):\n",
    "    \"\"\" Custom Train Dataset\n",
    "    \"\"\"\n",
    "\n",
    "    def __init__(self, dataframe, tokenizer, article_len):\n",
    "        self.df = dataframe\n",
    "        self.data = []\n",
    "        self.names = list(set(dataframe['pmid'].values))\n",
    "        self.tokenizer = tokenizer\n",
    "        self.article_len = article_len\n",
    "        \n",
    "        for name in tqdm(self.names):\n",
    "            ex = self.df[self.df['pmid'] == name]\n",
    "            paper = ex['sentence'].values\n",
    "# Uncomment me in case of features are used            \n",
    "#             features = np.nan_to_num(ex[['sent_id', 'sent_type', 'r_abs',\n",
    "#                            'num_refs', 'mean_r_fig', 'mean_r_tab', \n",
    "#                            'min_r_fig', 'min_r_tab',\n",
    "#                            'max_r_fig', 'max_r_tab']].values.astype(float))\n",
    "#             abstract = standardize(ex.abstract)\n",
    "            total_sents = 0\n",
    "            while total_sents < len(paper):\n",
    "                magic = max(0, total_sents - 5)\n",
    "                article_ids, article_mask, article_segment, n_setns = \\\n",
    "                    preprocess_paper_bert(paper[magic:], self.article_len, self.tokenizer)\n",
    "                if n_setns <= 5:\n",
    "                    total_sents += 1\n",
    "                    continue\n",
    "                target_scores = ex['score'].values[magic:magic + n_setns] / 100\n",
    "                self.data.append((article_ids, article_mask, article_segment, target_scores)) #, features[magic:magic + n_setns]))\n",
    "                total_sents = magic + n_setns\n",
    "        \n",
    "        self.n_examples = len(self.data)\n",
    "\n",
    "    def __getitem__(self, idx):\n",
    "        return self.data[idx]\n",
    "\n",
    "    def __len__(self):\n",
    "        return self.n_examples\n",
    "\n",
    "class OtherTrainDataset(Dataset):\n",
    "    \"\"\" Custom Train Dataset\n",
    "    \"\"\"\n",
    "\n",
    "    def __init__(self, dataframe, tokenizer, article_len):\n",
    "        self.df = dataframe\n",
    "        self.data = []\n",
    "        self.names = list(set(dataframe['pmid'].values))\n",
    "        self.tokenizer = tokenizer\n",
    "        self.article_len = article_len\n",
    "        \n",
    "        for name in tqdm(self.names):\n",
    "            ex = self.df[self.df['pmid'] == name]\n",
    "            paper = ex['sentence'].values\n",
    "#             abstract = standardize(ex.abstract)\n",
    "            total_sents = 0\n",
    "            while total_sents < len(paper):\n",
    "                magic = max(0, total_sents - 5)\n",
    "                article_ids, article_mask, article_segment, n_setns = \\\n",
    "                    preprocess_paper_bert(paper[magic:], self.article_len, self.tokenizer)\n",
    "                if n_setns <= 5:\n",
    "                    total_sents += 1\n",
    "                    continue\n",
    "                target_scores = ex['score'].values[magic:magic + n_setns] / 100\n",
    "                self.data.append((article_ids, article_mask, article_segment, target_scores))\n",
    "                total_sents = magic + n_setns\n",
    "        \n",
    "        self.n_examples = len(self.data)\n",
    "\n",
    "    def __getitem__(self, idx):\n",
    "        return self.data[idx]\n",
    "\n",
    "    def __len__(self):\n",
    "        return self.n_examples\n",
    "\n",
    "class TrainDataset(Dataset):\n",
    "    \"\"\" Custom Train Dataset\n",
    "    \"\"\"\n",
    "\n",
    "    def __init__(self, dataframe, tokenizer, article_len):\n",
    "        self.df = dataframe\n",
    "        self.n_examples = len(set(dataframe['pmid'].values))\n",
    "        self.names = list(set(dataframe['pmid'].values))\n",
    "        self.tokenizer = tokenizer\n",
    "        self.article_len = article_len\n",
    "\n",
    "    def __getitem__(self, idx):\n",
    "        idx = self.names[idx]\n",
    "        ex = self.df[self.df['pmid'] == idx]\n",
    "        paper = ex['sentence'].values\n",
    "        \n",
    "        # abstract = standardize(ex.abstract)\n",
    "        article_ids, article_mask, article_segment, n_setns = \\\n",
    "            preprocess_paper_bert(paper, self.article_len, self.tokenizer)\n",
    "\n",
    "        # form target\n",
    "        target_scores = ex['score'].values[:n_setns] / 100\n",
    "\n",
    "        return article_ids, article_mask, article_segment, target_scores\n",
    "\n",
    "    def __len__(self):\n",
    "        return self.n_examples\n",
    "\n",
    "\n",
    "class EvalDatasetFeatures(Dataset):\n",
    "    \"\"\" Custom Valid/Test Dataset\n",
    "    \"\"\"\n",
    "\n",
    "    def __init__(self, dataframe, tokenizer, article_len):\n",
    "        self.df = dataframe\n",
    "        self.n_examples = len(set(dataframe['pmid'].values))\n",
    "        print(self.n_examples)\n",
    "        self.names = list(set(dataframe['pmid'].values))\n",
    "        self.tokenizer = tokenizer\n",
    "        self.article_len = article_len\n",
    "\n",
    "    def __getitem__(self, idx):\n",
    "        idx = self.names[idx]\n",
    "        ex = self.df[self.df['pmid'] == idx]\n",
    "        paper = ex['sentence'].values\n",
    "        features = np.nan_to_num(ex[['sent_id', 'sent_type', 'r_abs',\n",
    "                           'num_refs', 'mean_r_fig', 'mean_r_tab', \n",
    "                           'min_r_fig', 'min_r_tab',\n",
    "                           'max_r_fig', 'max_r_tab']].values.astype(float))\n",
    "        \n",
    "        article_ids, article_mask, article_segment, n_setns = \\\n",
    "            preprocess_paper_bert(paper, self.article_len, self.tokenizer)\n",
    "\n",
    "        # form target\n",
    "        target_scores = ex['score'].values[:n_setns] / 100\n",
    "\n",
    "        return article_ids, article_mask, article_segment, target_scores, features[:n_setns]\n",
    "\n",
    "    @staticmethod\n",
    "    def extract_gold_sents(paper, gold_ids):\n",
    "        paper = sent_tokenize(paper)\n",
    "        gold_sents = [sent for i, sent in enumerate(paper) if i in gold_ids]\n",
    "        return gold_sents\n",
    "\n",
    "    def __len__(self):\n",
    "        return self.n_examples\n",
    "    \n",
    "class EvalDataset(Dataset):\n",
    "    \"\"\" Custom Valid/Test Dataset\n",
    "    \"\"\"\n",
    "\n",
    "    def __init__(self, dataframe, tokenizer, article_len):\n",
    "        self.df = dataframe\n",
    "        self.n_examples = len(set(dataframe['pmid'].values))\n",
    "        print(self.n_examples)\n",
    "        self.names = list(set(dataframe['pmid'].values))\n",
    "        self.tokenizer = tokenizer\n",
    "        self.article_len = article_len\n",
    "\n",
    "    def __getitem__(self, idx):\n",
    "        idx = self.names[idx]\n",
    "        ex = self.df[self.df['pmid'] == idx]\n",
    "        paper = ex['sentence'].values\n",
    "        \n",
    "        article_ids, article_mask, article_segment, n_setns = \\\n",
    "            preprocess_paper_bert(paper, self.article_len, self.tokenizer)\n",
    "\n",
    "        # form target\n",
    "        target_scores = ex['score'].values[:n_setns] / 100\n",
    "\n",
    "        return article_ids, article_mask, article_segment, target_scores\n",
    "\n",
    "    @staticmethod\n",
    "    def extract_gold_sents(paper, gold_ids):\n",
    "        paper = sent_tokenize(paper)\n",
    "        gold_sents = [sent for i, sent in enumerate(paper) if i in gold_ids]\n",
    "        return gold_sents\n",
    "\n",
    "    def __len__(self):\n",
    "        return self.n_examples"
   ]
  },
  {
   "cell_type": "code",
   "execution_count": 27,
   "metadata": {},
   "outputs": [],
   "source": [
    "from pysrc.review.utils import count_parameters\n",
    "from transformers import AdamW\n",
    "from scheduler import NoamScheduler\n",
    "from torch.nn import BCELoss, BCEWithLogitsLoss, MSELoss\n",
    "from data import create_loader, train_collate_fn, eval_collate_fn\n",
    "\n",
    "def load_model(model_type, froze_strategy, rank, article_len, features=False):\n",
    "    model = Summarizer(model_type, article_len, features)\n",
    "    model.expand_posembs_ifneed()\n",
    "#     model.load('temp')\n",
    "    model.froze_backbone(froze_strategy)\n",
    "    model.unfroze_head()\n",
    "    if rank == 0:\n",
    "        print(f\"Model trainable parameters: {count_parameters(model)}\")\n",
    "    return model\n",
    "\n",
    "def train_collate_fn_ft(batch_data):\n",
    "    print(str(batch_data))\n",
    "    data0, data1, data2, data3, data4 = list(zip(*batch_data))\n",
    "    return torch.tensor(data0, dtype=torch.long), \\\n",
    "        torch.tensor(data1, dtype=torch.long), \\\n",
    "        torch.tensor(data2, dtype=torch.long), \\\n",
    "        [torch.tensor(e, dtype=torch.float) for e in data3], \\\n",
    "        [torch.tensor(e, dtype=torch.float) for e in data4]\n",
    "\n",
    "def eval_collate_fn_ft(batch_data):\n",
    "    print(str(batch_data))\n",
    "    data0, data1, data2, data3, data4 = list(zip(*batch_data))\n",
    "\n",
    "    return torch.tensor(data0, dtype=torch.long), \\\n",
    "        torch.tensor(data1, dtype=torch.long), \\\n",
    "        torch.tensor(data2, dtype=torch.long), \\\n",
    "        [torch.tensor(e, dtype=torch.float) for e in data3], \\\n",
    "        [torch.tensor(e, dtype=torch.float) for e in data4]\n",
    "\n",
    "def get_dataloaders(train, val, batch_size,\n",
    "                    article_len, tokenizer, ddp):\n",
    "    dl_func = create_ddp_loader if ddp else create_loader\n",
    "\n",
    "    logging.info('Creating train dataset...')\n",
    "    train_ds = OtherTrainDataset(train, tokenizer, article_len) \n",
    "#     train_ds = OtherTrainDatasetFeatures(train, tokenizer, article_len)     \n",
    "    logging.info('Applying loader functions to train...')\n",
    "    train_dl = dl_func(train_ds, batch_size, train_collate_fn)\n",
    "#     train_dl = dl_func(train_df, batch_size, train_collate_fn_ft)    \n",
    "    \n",
    "    logging.info('Creating val dataset...')    \n",
    "    val_ds = EvalDataset(val, tokenizer, article_len)\n",
    "#     val_ds = EvalDatasetFeatures(val, tokenizer, article_len)     \n",
    "    logging.info('Applying loader functions to val...')\n",
    "    val_dl = dl_func(val_ds, batch_size, eval_collate_fn)\n",
    "#     val_dl = dl_func(val_ds, batch_size, eval_collate_fn_ft)\n",
    "    \n",
    "    return train_dl, val_dl\n",
    "\n",
    "\n",
    "def get_tools(model, enc_lr, dec_lr, warmup,\n",
    "              weight_decay, clip_value,\n",
    "              accumulation_interval):\n",
    "\n",
    "    enc_parameters = [\n",
    "        param for name, param in model.named_parameters()\n",
    "        if param.requires_grad and name.startswith('bert.')\n",
    "    ]\n",
    "    dec_parameters = [\n",
    "        param for name, param in model.named_parameters()\n",
    "        if param.requires_grad and not name.startswith('bert.')\n",
    "    ]\n",
    "    optimizer = AdamW([\n",
    "        {'params': enc_parameters, 'lr': enc_lr},\n",
    "        {'params': dec_parameters, 'lr': dec_lr},\n",
    "    ], weight_decay=weight_decay)\n",
    "    optimizer.clip_value = clip_value\n",
    "    optimizer.accumulation_interval = accumulation_interval\n",
    "\n",
    "    scheduler = NoamScheduler(optimizer, warmup=warmup)\n",
    "    criter = MSELoss()\n",
    "\n",
    "    return optimizer, scheduler, criter\n",
    "\n",
    "\n",
    "# def setup_multi_gpu(model, optimizer, rank, size):\n",
    "#     logging.info('Setup distributed settings...')\n",
    "#     distrib_config = DistributedConfig(local_rank=rank, size=size, amp_enabled=cfg.amp_enabled)\n",
    "#     setup_distributed(distrib_config)\n",
    "#     device = choose_device(local_rank=rank)\n",
    "#     model = model.to(device)\n",
    "#     model, optimizer = setup_apex_if_enabled(model, optimizer, config=distrib_config)\n",
    "#     model = setup_distrib_if_enabled(model, config=distrib_config)\n",
    "#     return model, device, optimizer\n",
    "\n",
    "\n",
    "def setup_single_gpu(model):\n",
    "    logging.info('Setup single-device settings...')\n",
    "    device = torch.device(\"cuda:0\" if torch.cuda.is_available() else \"cpu\")\n",
    "    model = model.to(device)\n",
    "    return model, device"
   ]
  },
  {
   "cell_type": "code",
   "execution_count": 28,
   "metadata": {},
   "outputs": [],
   "source": [
    "def evaluate(model, dataloader, criter, device, rank, writer, distributed):\n",
    "    model.eval()\n",
    "    model_ref = model.module if distributed else model\n",
    "    loss_val = 0\n",
    "    mean_sents = 0\n",
    "    szs = 0\n",
    "    \n",
    "    #pbar = tqdm(enumerate(dataloader), total=len(dataloader), leave=False, disable=rank != 0)\n",
    "    for idx_batch, batch in enumerate(dataloader):\n",
    "        input_ids, input_mask, input_segment, target_scores = \\\n",
    "            [(x.to(device) if isinstance(x, torch.Tensor) else x) for x in batch]\n",
    "        sizes = [dc.shape[0] for dc in target_scores]\n",
    "        mean_sents += sum(sizes)\n",
    "        szs += len(sizes)\n",
    "        target_scores = torch.cat(target_scores).to(device)\n",
    "        \n",
    "        # forward pass\n",
    "        draft_probs = model(\n",
    "            input_ids, input_mask, input_segment,\n",
    "        )\n",
    "        #print(draft_probs.shape, target_scores.shape)\n",
    "        \n",
    "        # loss\n",
    "        loss = criter(\n",
    "            draft_probs,\n",
    "            target_scores,\n",
    "        )\n",
    "\n",
    "        # record a loss value\n",
    "        loss_val += loss.item()\n",
    "        writer.add_scalar(f\"Eval/loss\", loss.item(), writer.train_step)\n",
    "        writer.train_step += 1\n",
    "\n",
    "    # overall loss per epoch\n",
    "    # if distributed:\n",
    "    #     loss_val = distribute(loss_val, device)\n",
    "    # logging.info(f\"mean loss: {loss_val / len(dataloader.dataset):.4f}\", is_print=rank == 0)\n",
    "    print(\"Val loss:\", loss_val/len(dataloader))\n",
    "    print(\"Mean sent len:\", mean_sents/szs)\n",
    "    # save model, just in case\n",
    "    model_ref.save('validated_weights.pth')\n",
    "\n",
    "    return model\n",
    "\n",
    "def evaluate_ft(model, dataloader, criter, device, rank, writer, distributed):\n",
    "    model.eval()\n",
    "    model_ref = model.module if distributed else model\n",
    "    loss_val = 0\n",
    "    mean_sents = 0\n",
    "    szs = 0\n",
    "    \n",
    "    #pbar = tqdm(enumerate(dataloader), total=len(dataloader), leave=False, disable=rank != 0)\n",
    "    for idx_batch, batch in enumerate(dataloader):\n",
    "        input_ids, input_mask, input_segment, target_scores, input_features = \\\n",
    "            [(x.to(device) if isinstance(x, torch.Tensor) else x) for x in batch]\n",
    "        sizes = [dc.shape[0] for dc in target_scores]\n",
    "        mean_sents += sum(sizes)\n",
    "        szs += len(sizes)\n",
    "        input_features = torch.cat(input_features).to(device)\n",
    "        target_scores = torch.cat(target_scores).to(device)\n",
    "        \n",
    "        # forward pass\n",
    "        draft_probs = model(\n",
    "            input_ids, input_mask, input_segment, input_features,\n",
    "        )\n",
    "        #print(draft_probs.shape, target_scores.shape)\n",
    "        \n",
    "        # loss\n",
    "        loss = criter(\n",
    "            draft_probs,\n",
    "            target_scores,\n",
    "        )\n",
    "\n",
    "        # record a loss value\n",
    "        loss_val += loss.item()\n",
    "        writer.add_scalar(f\"Eval/loss\", loss.item(), writer.train_step)\n",
    "        writer.train_step += 1\n",
    "\n",
    "    # overall loss per epoch\n",
    "    # if distributed:\n",
    "    #     loss_val = distribute(loss_val, device)\n",
    "    # logging.info(f\"mean loss: {loss_val / len(dataloader.dataset):.4f}\", is_print=rank == 0)\n",
    "    print(\"Val loss:\", loss_val/len(dataloader))\n",
    "    print(\"Mean sent len:\", mean_sents/szs)\n",
    "    # save model, just in case\n",
    "    model_ref.save('validated_weights.pth')\n",
    "\n",
    "    return model"
   ]
  },
  {
   "cell_type": "markdown",
   "metadata": {},
   "source": [
    "13. Load model and start training"
   ]
  },
  {
   "cell_type": "code",
   "execution_count": 29,
   "metadata": {},
   "outputs": [],
   "source": [
    "MODEL_SIZE = 512"
   ]
  },
  {
   "cell_type": "code",
   "execution_count": 30,
   "metadata": {},
   "outputs": [
    {
     "name": "stdout",
     "output_type": "stream",
     "text": [
      "512 512\n",
      "512\n",
      "Model trainable parameters: 769\n"
     ]
    }
   ],
   "source": [
    "model = load_model(\"bert\", \"froze_all\", 0, MODEL_SIZE, features=False)"
   ]
  },
  {
   "cell_type": "markdown",
   "metadata": {},
   "source": [
    "14. Create dataloaders and start training."
   ]
  },
  {
   "cell_type": "code",
   "execution_count": 31,
   "metadata": {},
   "outputs": [],
   "source": [
    "from tensorboardX import SummaryWriter\n",
    "\n",
    "writer = SummaryWriter(log_dir=f\"saved_log/logs\")\n",
    "writer.train_step, writer.eval_step = 0, 0\n",
    "\n",
    "optimizer, scheduler, criter = get_tools(model, 0.00001, 0.001, 5, 0.005, 1.0, 1)"
   ]
  },
  {
   "cell_type": "code",
   "execution_count": 32,
   "metadata": {},
   "outputs": [
    {
     "name": "stderr",
     "output_type": "stream",
     "text": [
      "2020-12-29 19:52:01,561 INFO: Setup single-device settings...\n",
      "2020-12-29 19:52:02,817 INFO: Create dataloaders...\n",
      "2020-12-29 19:52:02,818 INFO: Creating train dataset...\n",
      " 28%|██▊       | 5548/19511 [46:40<2:37:41,  1.48it/s]IOPub message rate exceeded.\n",
      "The notebook server will temporarily stop sending output\n",
      "to the client in order to avoid crashing it.\n",
      "To change this limit, set the config variable\n",
      "`--NotebookApp.iopub_msg_rate_limit`.\n",
      "\n",
      "Current values:\n",
      "NotebookApp.iopub_msg_rate_limit=1000.0 (msgs/sec)\n",
      "NotebookApp.rate_limit_window=3.0 (secs)\n",
      "\n",
      "100%|██████████| 19511/19511 [2:44:53<00:00,  1.97it/s]  \n",
      "2020-12-29 22:36:56,695 INFO: Applying loader functions to train...\n",
      "2020-12-29 22:36:56,696 INFO: Creating val dataset...\n",
      "2020-12-29 22:36:56,734 INFO: Applying loader functions to val...\n"
     ]
    },
    {
     "name": "stdout",
     "output_type": "stream",
     "text": [
      "1952\n"
     ]
    }
   ],
   "source": [
    "model, device = setup_single_gpu(model)\n",
    "logging.info('Create dataloaders...')\n",
    "model_ref = model\n",
    "train_loader, valid_loader = get_dataloaders(train, val, 4, MODEL_SIZE, model_ref.tokenizer, ddp=False)"
   ]
  },
  {
   "cell_type": "markdown",
   "metadata": {},
   "source": [
    "Use `train_fun_ft` for training model with additional features and `train_fun` without.\\\n",
    "Use `evaluate_ft` for training model with additional features and `evaluate` without."
   ]
  },
  {
   "cell_type": "code",
   "execution_count": 33,
   "metadata": {},
   "outputs": [
    {
     "name": "stdout",
     "output_type": "stream",
     "text": [
      "512 512\n",
      "512\n",
      "Model trainable parameters: 769\n"
     ]
    },
    {
     "name": "stderr",
     "output_type": "stream",
     "text": [
      "2020-12-29 22:40:46,710 INFO: Setup single-device settings...\n"
     ]
    }
   ],
   "source": [
    "MODEL_PATH = f'{os.path.abspath(cfg.weights_path)}/learn_simple_berta.pth'\n",
    "\n",
    "if os.path.exists(MODEL_PATH):\n",
    "    MODEL_SIZE = 512\n",
    "    model = load_model(\"bert\", \"froze_all\", 0, MODEL_SIZE, False)\n",
    "    model.load(\"learn_simple_berta\")\n",
    "    model, device = setup_single_gpu(model)\n",
    "else:\n",
    "    for epoch in range(1, 20 + 1):\n",
    "        logging.info(f\"{epoch} epoch training...\")\n",
    "\n",
    "        model, optimizer, scheduler, writer = train_fun(\n",
    "            model, train_loader, optimizer, scheduler,\n",
    "            criter, device, 0, writer, False\n",
    "        )\n",
    "    #     model, optimizer, scheduler, writer = train_fun_ft(\n",
    "    #         model, train_loader, optimizer, scheduler,\n",
    "    #         criter, device, 0, writer, False\n",
    "    #     )\n",
    "\n",
    "\n",
    "        logging.info(f\"{epoch} epoch validation...\")\n",
    "        model = evaluate(model, valid_loader, criter, device, 0, writer, False, )\n",
    "    #         model = evaluate_ft(model, valid_loader, criter, device, 0, writer, False, )\n",
    "    # Save trained model\n",
    "    model.save('learn_simple_berta')\n",
    "\n",
    "model_ref = model"
   ]
  },
  {
   "cell_type": "markdown",
   "metadata": {},
   "source": [
    "15. See the example of how model works:"
   ]
  },
  {
   "cell_type": "code",
   "execution_count": 38,
   "metadata": {},
   "outputs": [
    {
     "data": {
      "text/html": [
       "<div>\n",
       "<style scoped>\n",
       "    .dataframe tbody tr th:only-of-type {\n",
       "        vertical-align: middle;\n",
       "    }\n",
       "\n",
       "    .dataframe tbody tr th {\n",
       "        vertical-align: top;\n",
       "    }\n",
       "\n",
       "    .dataframe thead th {\n",
       "        text-align: right;\n",
       "    }\n",
       "</style>\n",
       "<table border=\"1\" class=\"dataframe\">\n",
       "  <thead>\n",
       "    <tr style=\"text-align: right;\">\n",
       "      <th></th>\n",
       "      <th>pmid</th>\n",
       "      <th>sentence</th>\n",
       "      <th>score</th>\n",
       "    </tr>\n",
       "  </thead>\n",
       "  <tbody>\n",
       "    <tr>\n",
       "      <th>870</th>\n",
       "      <td>22020162</td>\n",
       "      <td>Development of the adrenal gland, as for any o...</td>\n",
       "      <td>12.324012</td>\n",
       "    </tr>\n",
       "    <tr>\n",
       "      <th>871</th>\n",
       "      <td>22020162</td>\n",
       "      <td>These involve both cell autonomous components,...</td>\n",
       "      <td>7.628254</td>\n",
       "    </tr>\n",
       "    <tr>\n",
       "      <th>872</th>\n",
       "      <td>22020162</td>\n",
       "      <td>In this review we focus on recent advances in ...</td>\n",
       "      <td>10.413642</td>\n",
       "    </tr>\n",
       "    <tr>\n",
       "      <th>873</th>\n",
       "      <td>22020162</td>\n",
       "      <td>For more comprehensive reviews of the transcri...</td>\n",
       "      <td>24.187620</td>\n",
       "    </tr>\n",
       "    <tr>\n",
       "      <th>874</th>\n",
       "      <td>22020162</td>\n",
       "      <td>Overt adrenal development begins at midgestati...</td>\n",
       "      <td>4.406606</td>\n",
       "    </tr>\n",
       "  </tbody>\n",
       "</table>\n",
       "</div>"
      ],
      "text/plain": [
       "         pmid                                           sentence      score\n",
       "870  22020162  Development of the adrenal gland, as for any o...  12.324012\n",
       "871  22020162  These involve both cell autonomous components,...   7.628254\n",
       "872  22020162  In this review we focus on recent advances in ...  10.413642\n",
       "873  22020162  For more comprehensive reviews of the transcri...  24.187620\n",
       "874  22020162  Overt adrenal development begins at midgestati...   4.406606"
      ]
     },
     "metadata": {},
     "output_type": "display_data"
    }
   ],
   "source": [
    "display(val.head())"
   ]
  },
  {
   "cell_type": "code",
   "execution_count": 39,
   "metadata": {},
   "outputs": [],
   "source": [
    "ex = val[val['pmid'] == 22020162]\n",
    "paper = ex['sentence'].values\n",
    "article_ids, article_mask, article_segment, n_sents = \\\n",
    "            preprocess_paper_bert(paper, MODEL_SIZE, model_ref.tokenizer)\n",
    "res_sents = paper[:n_sents]\n",
    "scores = ex['score'].values[:n_sents]"
   ]
  },
  {
   "cell_type": "code",
   "execution_count": 40,
   "metadata": {},
   "outputs": [],
   "source": [
    "input_ids = torch.tensor([article_ids]).to(device)\n",
    "input_mask = torch.tensor([article_mask]).to(device)\n",
    "input_segment = torch.tensor([article_segment]).to(device)\n",
    "draft_probs = model(input_ids, input_mask, input_segment)"
   ]
  },
  {
   "cell_type": "code",
   "execution_count": 41,
   "metadata": {},
   "outputs": [
    {
     "data": {
      "text/html": [
       "<div>\n",
       "<style scoped>\n",
       "    .dataframe tbody tr th:only-of-type {\n",
       "        vertical-align: middle;\n",
       "    }\n",
       "\n",
       "    .dataframe tbody tr th {\n",
       "        vertical-align: top;\n",
       "    }\n",
       "\n",
       "    .dataframe thead th {\n",
       "        text-align: right;\n",
       "    }\n",
       "</style>\n",
       "<table border=\"1\" class=\"dataframe\">\n",
       "  <thead>\n",
       "    <tr style=\"text-align: right;\">\n",
       "      <th></th>\n",
       "      <th>sentence</th>\n",
       "      <th>ideal_score</th>\n",
       "      <th>res_score</th>\n",
       "    </tr>\n",
       "  </thead>\n",
       "  <tbody>\n",
       "    <tr>\n",
       "      <th>0</th>\n",
       "      <td>Development of the adrenal gland, as for any o...</td>\n",
       "      <td>0.123240</td>\n",
       "      <td>0.083088</td>\n",
       "    </tr>\n",
       "    <tr>\n",
       "      <th>1</th>\n",
       "      <td>These involve both cell autonomous components,...</td>\n",
       "      <td>0.076283</td>\n",
       "      <td>0.083618</td>\n",
       "    </tr>\n",
       "    <tr>\n",
       "      <th>2</th>\n",
       "      <td>In this review we focus on recent advances in ...</td>\n",
       "      <td>0.104136</td>\n",
       "      <td>0.083660</td>\n",
       "    </tr>\n",
       "    <tr>\n",
       "      <th>3</th>\n",
       "      <td>For more comprehensive reviews of the transcri...</td>\n",
       "      <td>0.241876</td>\n",
       "      <td>0.083874</td>\n",
       "    </tr>\n",
       "    <tr>\n",
       "      <th>4</th>\n",
       "      <td>Overt adrenal development begins at midgestati...</td>\n",
       "      <td>0.044066</td>\n",
       "      <td>0.082422</td>\n",
       "    </tr>\n",
       "  </tbody>\n",
       "</table>\n",
       "</div>"
      ],
      "text/plain": [
       "                                            sentence  ideal_score  res_score\n",
       "0  Development of the adrenal gland, as for any o...     0.123240   0.083088\n",
       "1  These involve both cell autonomous components,...     0.076283   0.083618\n",
       "2  In this review we focus on recent advances in ...     0.104136   0.083660\n",
       "3  For more comprehensive reviews of the transcri...     0.241876   0.083874\n",
       "4  Overt adrenal development begins at midgestati...     0.044066   0.082422"
      ]
     },
     "metadata": {},
     "output_type": "display_data"
    }
   ],
   "source": [
    "to_show_df = pd.DataFrame({\n",
    "    'sentence': res_sents, \n",
    "    'ideal_score': scores / 100, \n",
    "    'res_score': draft_probs.cpu().detach().numpy()\n",
    "})\n",
    "display(to_show_df.head())"
   ]
  },
  {
   "cell_type": "code",
   "execution_count": 42,
   "metadata": {},
   "outputs": [
    {
     "data": {
      "text/plain": [
       "'Development of the adrenal gland, as for any other organ, is a complex process involving a highly choreographed interplay of cell behaviors. These involve both cell autonomous components, typically mediated by the output of cell-specific combinations of transcription factors, and non-autonomous components, mediated by multiple families of intercellular signaling molecules. In this review we focus on recent advances in defining the roles during adrenocortical development of the intercellular signal Sonic hedgehog, and the signaling pathway through which it acts, based primarily on data from mouse models. For more comprehensive reviews of the transcription factors and other signals involved in adrenal development see ( xref_bibr_R14 ; xref_bibr_R36 ; xref_bibr_R64 ; xref_bibr_R51 ; xref_bibr_R65 ). Overt adrenal development begins at midgestation ( xref_fig_F1 ). The two adrenogonadal primordia (AGP) are initially visible as stripes of epithelial cells extending rostrocaudally just lateral to the dorsal midline of the coelomic epithelium at thoracic levels ( xref_bibr_R23 ). Each AGP contains a mixed population of adrenocortical and somatic gonad progenitor cells, all of which express the transcription factor Sf-1/Ad4BP (steroidogenic factor-1/Adrenal-4-binding protein, NR5A1; hereafter Sf-1), which is a key regulator of steroidogenic pathway gene expression and steroidogenic cell identity ( xref_bibr_R43 ; xref_bibr_R23 ; xref_bibr_R50 ). Shortly thereafter the proliferating Sf-1 cells delaminate from the epithelium and invade the underlying mesenchyme of the intermediate mesoderm.'"
      ]
     },
     "execution_count": 42,
     "metadata": {},
     "output_type": "execute_result"
    }
   ],
   "source": [
    "' '.join(to_show_df[to_show_df['res_score'] > 0.07]['sentence'].values)"
   ]
  },
  {
   "cell_type": "code",
   "execution_count": 43,
   "metadata": {},
   "outputs": [],
   "source": [
    "to_show_df.to_csv('~/show_scores.csv')"
   ]
  },
  {
   "cell_type": "markdown",
   "metadata": {},
   "source": [
    "16. Evaluation.\\\n",
    "First, let's see if the model trained well.\\\n",
    "Then will count an `MSE` score on some real example."
   ]
  },
  {
   "cell_type": "code",
   "execution_count": 47,
   "metadata": {},
   "outputs": [],
   "source": [
    "if 'model' not in globals():\n",
    "    model = load_model(\"bert\", \"froze_all\", 0, MODEL_SIZE, False)\n",
    "    model.load(\"learn_simple_berta\")\n",
    "    model, device = setup_single_gpu(model)\n",
    "    model_ref = model"
   ]
  },
  {
   "cell_type": "code",
   "execution_count": 75,
   "metadata": {},
   "outputs": [
    {
     "data": {
      "text/html": [
       "<div>\n",
       "<style scoped>\n",
       "    .dataframe tbody tr th:only-of-type {\n",
       "        vertical-align: middle;\n",
       "    }\n",
       "\n",
       "    .dataframe tbody tr th {\n",
       "        vertical-align: top;\n",
       "    }\n",
       "\n",
       "    .dataframe thead th {\n",
       "        text-align: right;\n",
       "    }\n",
       "</style>\n",
       "<table border=\"1\" class=\"dataframe\">\n",
       "  <thead>\n",
       "    <tr style=\"text-align: right;\">\n",
       "      <th></th>\n",
       "      <th>pmid</th>\n",
       "      <th>sentence</th>\n",
       "      <th>ref_sentence</th>\n",
       "      <th>score</th>\n",
       "    </tr>\n",
       "  </thead>\n",
       "  <tbody>\n",
       "    <tr>\n",
       "      <th>0</th>\n",
       "      <td>19394023</td>\n",
       "      <td>Muscles not associated with specific modules a...</td>\n",
       "      <td>Similarly, simulations in which muscle synergi...</td>\n",
       "      <td>2.729766</td>\n",
       "    </tr>\n",
       "    <tr>\n",
       "      <th>1</th>\n",
       "      <td>22727077</td>\n",
       "      <td>The word 'harassment', while meaningfully diff...</td>\n",
       "      <td>Multi-item measures wherein the researcher ide...</td>\n",
       "      <td>6.422018</td>\n",
       "    </tr>\n",
       "    <tr>\n",
       "      <th>2</th>\n",
       "      <td>21703448</td>\n",
       "      <td>Many potentially pathogenic variants in known ...</td>\n",
       "      <td>Rare missense mutations were found in both gro...</td>\n",
       "      <td>11.363636</td>\n",
       "    </tr>\n",
       "    <tr>\n",
       "      <th>3</th>\n",
       "      <td>20410123</td>\n",
       "      <td>Thus, DAergic VTA LepRb neurons project to the...</td>\n",
       "      <td>[ xref_bibr_R24 , xref_bibr_R25 ]. For example...</td>\n",
       "      <td>15.128797</td>\n",
       "    </tr>\n",
       "    <tr>\n",
       "      <th>4</th>\n",
       "      <td>23471631</td>\n",
       "      <td>Future studies could also evaluate the extent ...</td>\n",
       "      <td>The benefits of compensation approaches, physi...</td>\n",
       "      <td>8.052828</td>\n",
       "    </tr>\n",
       "    <tr>\n",
       "      <th>...</th>\n",
       "      <td>...</td>\n",
       "      <td>...</td>\n",
       "      <td>...</td>\n",
       "      <td>...</td>\n",
       "    </tr>\n",
       "    <tr>\n",
       "      <th>94</th>\n",
       "      <td>18817471</td>\n",
       "      <td>Interestingly, iron particles and coating mate...</td>\n",
       "      <td>Interestingly, nanoparticles only with the siz...</td>\n",
       "      <td>6.209292</td>\n",
       "    </tr>\n",
       "    <tr>\n",
       "      <th>95</th>\n",
       "      <td>18711427</td>\n",
       "      <td>Equally relevant to this discussion is the fac...</td>\n",
       "      <td>VEGF/VEGFR suppression can decrease tumor vess...</td>\n",
       "      <td>6.603773</td>\n",
       "    </tr>\n",
       "    <tr>\n",
       "      <th>96</th>\n",
       "      <td>20045723</td>\n",
       "      <td>Caspases are constitutively expressed as monom...</td>\n",
       "      <td>OxS is established by detection of damage to b...</td>\n",
       "      <td>9.060792</td>\n",
       "    </tr>\n",
       "    <tr>\n",
       "      <th>97</th>\n",
       "      <td>26028573</td>\n",
       "      <td>(Yes, No); 2) \"How often do you feel worried, ...</td>\n",
       "      <td>A more recent evaluation of the National Healt...</td>\n",
       "      <td>2.201097</td>\n",
       "    </tr>\n",
       "    <tr>\n",
       "      <th>98</th>\n",
       "      <td>19346410</td>\n",
       "      <td>The 11 participants self-identified as PIs (n ...</td>\n",
       "      <td>However, much as academic investigators may be...</td>\n",
       "      <td>6.589087</td>\n",
       "    </tr>\n",
       "  </tbody>\n",
       "</table>\n",
       "<p>99 rows × 4 columns</p>\n",
       "</div>"
      ],
      "text/plain": [
       "        pmid                                           sentence  \\\n",
       "0   19394023  Muscles not associated with specific modules a...   \n",
       "1   22727077  The word 'harassment', while meaningfully diff...   \n",
       "2   21703448  Many potentially pathogenic variants in known ...   \n",
       "3   20410123  Thus, DAergic VTA LepRb neurons project to the...   \n",
       "4   23471631  Future studies could also evaluate the extent ...   \n",
       "..       ...                                                ...   \n",
       "94  18817471  Interestingly, iron particles and coating mate...   \n",
       "95  18711427  Equally relevant to this discussion is the fac...   \n",
       "96  20045723  Caspases are constitutively expressed as monom...   \n",
       "97  26028573  (Yes, No); 2) \"How often do you feel worried, ...   \n",
       "98  19346410  The 11 participants self-identified as PIs (n ...   \n",
       "\n",
       "                                         ref_sentence      score  \n",
       "0   Similarly, simulations in which muscle synergi...   2.729766  \n",
       "1   Multi-item measures wherein the researcher ide...   6.422018  \n",
       "2   Rare missense mutations were found in both gro...  11.363636  \n",
       "3   [ xref_bibr_R24 , xref_bibr_R25 ]. For example...  15.128797  \n",
       "4   The benefits of compensation approaches, physi...   8.052828  \n",
       "..                                                ...        ...  \n",
       "94  Interestingly, nanoparticles only with the siz...   6.209292  \n",
       "95  VEGF/VEGFR suppression can decrease tumor vess...   6.603773  \n",
       "96  OxS is established by detection of damage to b...   9.060792  \n",
       "97  A more recent evaluation of the National Healt...   2.201097  \n",
       "98  However, much as academic investigators may be...   6.589087  \n",
       "\n",
       "[99 rows x 4 columns]"
      ]
     },
     "metadata": {},
     "output_type": "display_data"
    }
   ],
   "source": [
    "from tensorboardX import SummaryWriter\n",
    "REF_SCORES_PATH = os.path.expanduser(\"~/refs_and_scores.csv\")\n",
    "\n",
    "if os.path.exists(REF_SCORES_PATH):\n",
    "    final_ref_show_df = pd.read_csv(\"~/refs_and_scores.csv\")\n",
    "else:\n",
    "    if 'train_loader' not in globals() or 'valid_loader' not in globals():\n",
    "        train_loader, valid_loader = get_dataloaders(train, val, 4, MODEL_SIZE, model_ref.tokenizer, ddp=False)\n",
    "\n",
    "    writer = SummaryWriter(log_dir=f\"saved_log/logs\")\n",
    "    writer.train_step, writer.eval_step = 0, 0\n",
    "    optimizer, scheduler, criter = get_tools(model, 0.00001, 0.001, 5, 0.005, 1.0, 1)\n",
    "    model = evaluate(model, train_loader, criter, device, 0, writer, False,)\n",
    "\n",
    "    # model = evaluate_ft(model, valid_loader, criter, device, 0, writer, False,)    \n",
    "    to_show_ref = pd.merge(train_df, ref_sents_df[['ref_pmid', 'sentence']], \n",
    "                           left_on = ['pmid'], right_on = ['ref_pmid'])\n",
    "    to_show_ref = to_show_ref.rename(columns={'sentence_x': 'sentence', 'sentence_y': 'ref_sentence'})\n",
    "    to_show_ref = to_show_ref[['pmid', 'sentence', 'ref_sentence', 'score']]    \n",
    "    final_ref_show_dic = {'pmid': [], 'sentence': [], 'ref_sentence': [], 'score':[]}\n",
    "    ite = [(pmid, sent) for pmid, sent in to_show_ref[['pmid', 'sentence']].values]\n",
    "\n",
    "    for pmid, sent in tqdm(set(ite)):\n",
    "        refs_df = to_show_ref[(to_show_ref['pmid'] == pmid) & (to_show_ref['sentence'] == sent)]\n",
    "        final_ref_show_dic['pmid'].append(pmid)\n",
    "        final_ref_show_dic['sentence'].append(sent)\n",
    "        final_ref_show_dic['ref_sentence'].append(\" \".join(refs_df['ref_sentence'].values))\n",
    "        final_ref_show_dic['score'].append(refs_df['score'].values[0])\n",
    "    final_ref_show_df = pd.DataFrame(final_ref_show_dic)\n",
    "    final_ref_show_df.to_csv(REF_SCORES_PATH, index=False)    \n",
    "\n",
    "display(final_ref_show_df)"
   ]
  },
  {
   "cell_type": "code",
   "execution_count": 76,
   "metadata": {},
   "outputs": [
    {
     "data": {
      "text/html": [
       "<div>\n",
       "<style scoped>\n",
       "    .dataframe tbody tr th:only-of-type {\n",
       "        vertical-align: middle;\n",
       "    }\n",
       "\n",
       "    .dataframe tbody tr th {\n",
       "        vertical-align: top;\n",
       "    }\n",
       "\n",
       "    .dataframe thead th {\n",
       "        text-align: right;\n",
       "    }\n",
       "</style>\n",
       "<table border=\"1\" class=\"dataframe\">\n",
       "  <thead>\n",
       "    <tr style=\"text-align: right;\">\n",
       "      <th></th>\n",
       "      <th>pmid</th>\n",
       "      <th>sentence</th>\n",
       "      <th>ref_sentence</th>\n",
       "      <th>score</th>\n",
       "    </tr>\n",
       "  </thead>\n",
       "  <tbody>\n",
       "    <tr>\n",
       "      <th>10</th>\n",
       "      <td>19428915</td>\n",
       "      <td>Recombinant human lactoferrins glycoengineered...</td>\n",
       "      <td>These findings “break new ground in vaccine re...</td>\n",
       "      <td>7.805440</td>\n",
       "    </tr>\n",
       "    <tr>\n",
       "      <th>17</th>\n",
       "      <td>21431378</td>\n",
       "      <td>The HLA-DR15 genotype was determined by genoty...</td>\n",
       "      <td>[ xref_bibr_R35 ] In other words, there is the...</td>\n",
       "      <td>16.809116</td>\n",
       "    </tr>\n",
       "    <tr>\n",
       "      <th>29</th>\n",
       "      <td>20022538</td>\n",
       "      <td>In addition, the COX-2 inhibitor rofecoxib inh...</td>\n",
       "      <td>The formation of new blood vessels has previou...</td>\n",
       "      <td>18.608058</td>\n",
       "    </tr>\n",
       "    <tr>\n",
       "      <th>52</th>\n",
       "      <td>20106676</td>\n",
       "      <td>Suppression of the immune function (shift from...</td>\n",
       "      <td>Diurnal rhythmicity in cortisol is thought to ...</td>\n",
       "      <td>7.341338</td>\n",
       "    </tr>\n",
       "    <tr>\n",
       "      <th>72</th>\n",
       "      <td>24932895</td>\n",
       "      <td>Depression-prone smokers may be more vulnerabl...</td>\n",
       "      <td>Depressed smokers are shown to experience even...</td>\n",
       "      <td>16.867311</td>\n",
       "    </tr>\n",
       "    <tr>\n",
       "      <th>73</th>\n",
       "      <td>24819209</td>\n",
       "      <td>In addition, participants in the recovery clas...</td>\n",
       "      <td>In most of the studies (i.e., 62.5% of the stu...</td>\n",
       "      <td>11.080716</td>\n",
       "    </tr>\n",
       "    <tr>\n",
       "      <th>86</th>\n",
       "      <td>23168567</td>\n",
       "      <td>These are relative numbers, but to put it in m...</td>\n",
       "      <td>The reasons for higher phthalate concentration...</td>\n",
       "      <td>9.440113</td>\n",
       "    </tr>\n",
       "    <tr>\n",
       "      <th>87</th>\n",
       "      <td>24687467</td>\n",
       "      <td>The critical question is how these acoustic me...</td>\n",
       "      <td>Similarly synthesized thiolated HA-gelatin hyd...</td>\n",
       "      <td>3.846154</td>\n",
       "    </tr>\n",
       "    <tr>\n",
       "      <th>97</th>\n",
       "      <td>26028573</td>\n",
       "      <td>(Yes, No); 2) \"How often do you feel worried, ...</td>\n",
       "      <td>A more recent evaluation of the National Healt...</td>\n",
       "      <td>2.201097</td>\n",
       "    </tr>\n",
       "  </tbody>\n",
       "</table>\n",
       "</div>"
      ],
      "text/plain": [
       "        pmid                                           sentence  \\\n",
       "10  19428915  Recombinant human lactoferrins glycoengineered...   \n",
       "17  21431378  The HLA-DR15 genotype was determined by genoty...   \n",
       "29  20022538  In addition, the COX-2 inhibitor rofecoxib inh...   \n",
       "52  20106676  Suppression of the immune function (shift from...   \n",
       "72  24932895  Depression-prone smokers may be more vulnerabl...   \n",
       "73  24819209  In addition, participants in the recovery clas...   \n",
       "86  23168567  These are relative numbers, but to put it in m...   \n",
       "87  24687467  The critical question is how these acoustic me...   \n",
       "97  26028573  (Yes, No); 2) \"How often do you feel worried, ...   \n",
       "\n",
       "                                         ref_sentence      score  \n",
       "10  These findings “break new ground in vaccine re...   7.805440  \n",
       "17  [ xref_bibr_R35 ] In other words, there is the...  16.809116  \n",
       "29  The formation of new blood vessels has previou...  18.608058  \n",
       "52  Diurnal rhythmicity in cortisol is thought to ...   7.341338  \n",
       "72  Depressed smokers are shown to experience even...  16.867311  \n",
       "73  In most of the studies (i.e., 62.5% of the stu...  11.080716  \n",
       "86  The reasons for higher phthalate concentration...   9.440113  \n",
       "87  Similarly synthesized thiolated HA-gelatin hyd...   3.846154  \n",
       "97  A more recent evaluation of the National Healt...   2.201097  "
      ]
     },
     "metadata": {},
     "output_type": "display_data"
    }
   ],
   "source": [
    "to_test = final_ref_show_df[final_ref_show_df['pmid'].isin(set(val['pmid'].values))]\n",
    "display(to_test)"
   ]
  },
  {
   "cell_type": "code",
   "execution_count": 78,
   "metadata": {},
   "outputs": [
    {
     "name": "stderr",
     "output_type": "stream",
     "text": [
      "100%|██████████| 9/9 [00:00<00:00, 29.52it/s]\n"
     ]
    }
   ],
   "source": [
    "res = {'pmid':[], 'sentence':[], 'ref_sentences':[], 'score': [], 'res_score':[]}\n",
    "\n",
    "for id in tqdm(set(to_test['pmid'].values)):\n",
    "    ex = to_test[to_test['pmid'] == id]\n",
    "    paper = ex['sentence'].values\n",
    "    article_ids, article_mask, article_segment, n_sents = \\\n",
    "            preprocess_paper_bert(paper, MODEL_SIZE, model_ref.tokenizer)\n",
    "    res_sents = paper[:n_sents]\n",
    "    scores = ex['score'].values[:n_sents] / 100\n",
    "    input_ids = torch.tensor([article_ids]).to(device)\n",
    "    input_mask = torch.tensor([article_mask]).to(device)\n",
    "    input_segment = torch.tensor([article_segment]).to(device)\n",
    "    draft_probs = model(input_ids, input_mask, input_segment,)\n",
    "    for sent, sc, res_sc in zip(res_sents, scores, draft_probs.cpu().detach().numpy()):\n",
    "        res['pmid'].append(id)\n",
    "        res['sentence'].append(sent)\n",
    "        res['ref_sentences'].append(ex['ref_sentence'].values[0])\n",
    "        res['score'].append(sc)\n",
    "        res['res_score'].append(res_sc)\n",
    "res_df = pd.DataFrame(res)"
   ]
  },
  {
   "cell_type": "code",
   "execution_count": 80,
   "metadata": {},
   "outputs": [
    {
     "data": {
      "text/html": [
       "<div>\n",
       "<style scoped>\n",
       "    .dataframe tbody tr th:only-of-type {\n",
       "        vertical-align: middle;\n",
       "    }\n",
       "\n",
       "    .dataframe tbody tr th {\n",
       "        vertical-align: top;\n",
       "    }\n",
       "\n",
       "    .dataframe thead th {\n",
       "        text-align: right;\n",
       "    }\n",
       "</style>\n",
       "<table border=\"1\" class=\"dataframe\">\n",
       "  <thead>\n",
       "    <tr style=\"text-align: right;\">\n",
       "      <th></th>\n",
       "      <th>pmid</th>\n",
       "      <th>sentence</th>\n",
       "      <th>ref_sentences</th>\n",
       "      <th>score</th>\n",
       "      <th>res_score</th>\n",
       "    </tr>\n",
       "  </thead>\n",
       "  <tbody>\n",
       "    <tr>\n",
       "      <th>0</th>\n",
       "      <td>24819209</td>\n",
       "      <td>In addition, participants in the recovery clas...</td>\n",
       "      <td>In most of the studies (i.e., 62.5% of the stu...</td>\n",
       "      <td>0.110807</td>\n",
       "      <td>0.133199</td>\n",
       "    </tr>\n",
       "    <tr>\n",
       "      <th>1</th>\n",
       "      <td>20022538</td>\n",
       "      <td>In addition, the COX-2 inhibitor rofecoxib inh...</td>\n",
       "      <td>The formation of new blood vessels has previou...</td>\n",
       "      <td>0.186081</td>\n",
       "      <td>0.134008</td>\n",
       "    </tr>\n",
       "    <tr>\n",
       "      <th>2</th>\n",
       "      <td>24687467</td>\n",
       "      <td>The critical question is how these acoustic me...</td>\n",
       "      <td>Similarly synthesized thiolated HA-gelatin hyd...</td>\n",
       "      <td>0.038462</td>\n",
       "      <td>0.157435</td>\n",
       "    </tr>\n",
       "    <tr>\n",
       "      <th>3</th>\n",
       "      <td>21431378</td>\n",
       "      <td>The HLA-DR15 genotype was determined by genoty...</td>\n",
       "      <td>[ xref_bibr_R35 ] In other words, there is the...</td>\n",
       "      <td>0.168091</td>\n",
       "      <td>0.161131</td>\n",
       "    </tr>\n",
       "    <tr>\n",
       "      <th>4</th>\n",
       "      <td>19428915</td>\n",
       "      <td>Recombinant human lactoferrins glycoengineered...</td>\n",
       "      <td>These findings “break new ground in vaccine re...</td>\n",
       "      <td>0.078054</td>\n",
       "      <td>0.115625</td>\n",
       "    </tr>\n",
       "    <tr>\n",
       "      <th>5</th>\n",
       "      <td>20106676</td>\n",
       "      <td>Suppression of the immune function (shift from...</td>\n",
       "      <td>Diurnal rhythmicity in cortisol is thought to ...</td>\n",
       "      <td>0.073413</td>\n",
       "      <td>0.122994</td>\n",
       "    </tr>\n",
       "    <tr>\n",
       "      <th>6</th>\n",
       "      <td>23168567</td>\n",
       "      <td>These are relative numbers, but to put it in m...</td>\n",
       "      <td>The reasons for higher phthalate concentration...</td>\n",
       "      <td>0.094401</td>\n",
       "      <td>0.188098</td>\n",
       "    </tr>\n",
       "    <tr>\n",
       "      <th>7</th>\n",
       "      <td>26028573</td>\n",
       "      <td>(Yes, No); 2) \"How often do you feel worried, ...</td>\n",
       "      <td>A more recent evaluation of the National Healt...</td>\n",
       "      <td>0.022011</td>\n",
       "      <td>0.175150</td>\n",
       "    </tr>\n",
       "    <tr>\n",
       "      <th>8</th>\n",
       "      <td>24932895</td>\n",
       "      <td>Depression-prone smokers may be more vulnerabl...</td>\n",
       "      <td>Depressed smokers are shown to experience even...</td>\n",
       "      <td>0.168673</td>\n",
       "      <td>0.147809</td>\n",
       "    </tr>\n",
       "  </tbody>\n",
       "</table>\n",
       "</div>"
      ],
      "text/plain": [
       "       pmid                                           sentence  \\\n",
       "0  24819209  In addition, participants in the recovery clas...   \n",
       "1  20022538  In addition, the COX-2 inhibitor rofecoxib inh...   \n",
       "2  24687467  The critical question is how these acoustic me...   \n",
       "3  21431378  The HLA-DR15 genotype was determined by genoty...   \n",
       "4  19428915  Recombinant human lactoferrins glycoengineered...   \n",
       "5  20106676  Suppression of the immune function (shift from...   \n",
       "6  23168567  These are relative numbers, but to put it in m...   \n",
       "7  26028573  (Yes, No); 2) \"How often do you feel worried, ...   \n",
       "8  24932895  Depression-prone smokers may be more vulnerabl...   \n",
       "\n",
       "                                       ref_sentences     score  res_score  \n",
       "0  In most of the studies (i.e., 62.5% of the stu...  0.110807   0.133199  \n",
       "1  The formation of new blood vessels has previou...  0.186081   0.134008  \n",
       "2  Similarly synthesized thiolated HA-gelatin hyd...  0.038462   0.157435  \n",
       "3  [ xref_bibr_R35 ] In other words, there is the...  0.168091   0.161131  \n",
       "4  These findings “break new ground in vaccine re...  0.078054   0.115625  \n",
       "5  Diurnal rhythmicity in cortisol is thought to ...  0.073413   0.122994  \n",
       "6  The reasons for higher phthalate concentration...  0.094401   0.188098  \n",
       "7  A more recent evaluation of the National Healt...  0.022011   0.175150  \n",
       "8  Depressed smokers are shown to experience even...  0.168673   0.147809  "
      ]
     },
     "execution_count": 80,
     "metadata": {},
     "output_type": "execute_result"
    }
   ],
   "source": [
    "res_df"
   ]
  },
  {
   "cell_type": "code",
   "execution_count": 81,
   "metadata": {},
   "outputs": [],
   "source": [
    "res_df.to_csv(\"saved_example_refs.csv\")"
   ]
  },
  {
   "cell_type": "code",
   "execution_count": 82,
   "metadata": {},
   "outputs": [],
   "source": [
    "diff = ((res_df['score'].values - res_df['res_score'].values)**2).mean()"
   ]
  },
  {
   "cell_type": "code",
   "execution_count": 83,
   "metadata": {},
   "outputs": [
    {
     "data": {
      "text/plain": [
       "0.07742496191976149"
      ]
     },
     "execution_count": 83,
     "metadata": {},
     "output_type": "execute_result"
    }
   ],
   "source": [
    "diff**0.5 #The MSE score!"
   ]
  },
  {
   "cell_type": "markdown",
   "metadata": {},
   "source": [
    "## TODO\n",
    "Cleanup the code below."
   ]
  },
  {
   "cell_type": "markdown",
   "metadata": {},
   "source": [
    "17. Let's see what is the original score distribution to understand the quality of `MSE`. "
   ]
  },
  {
   "cell_type": "code",
   "execution_count": 84,
   "metadata": {},
   "outputs": [
    {
     "data": {
      "image/png": "[encoded data removed]",
      "text/plain": [
       "<Figure size 432x288 with 1 Axes>"
      ]
     },
     "metadata": {
      "needs_background": "light"
     },
     "output_type": "display_data"
    }
   ],
   "source": [
    "import matplotlib.pyplot as plt\n",
    "from collections import Counter\n",
    "\n",
    "res = Counter(list(train_df['score'].values))\n",
    "\n",
    "plt.hist(res.values(), bins=range(2, 20))\n",
    "plt.show()"
   ]
  },
  {
   "cell_type": "code",
   "execution_count": 85,
   "metadata": {},
   "outputs": [
    {
     "data": {
      "text/html": [
       "<div>\n",
       "<style scoped>\n",
       "    .dataframe tbody tr th:only-of-type {\n",
       "        vertical-align: middle;\n",
       "    }\n",
       "\n",
       "    .dataframe tbody tr th {\n",
       "        vertical-align: top;\n",
       "    }\n",
       "\n",
       "    .dataframe thead th {\n",
       "        text-align: right;\n",
       "    }\n",
       "</style>\n",
       "<table border=\"1\" class=\"dataframe\">\n",
       "  <thead>\n",
       "    <tr style=\"text-align: right;\">\n",
       "      <th></th>\n",
       "      <th>pmid</th>\n",
       "      <th>ref_id</th>\n",
       "      <th>pub_type</th>\n",
       "      <th>ref_pmid</th>\n",
       "      <th>sent_type</th>\n",
       "      <th>sent_id</th>\n",
       "      <th>sentence</th>\n",
       "    </tr>\n",
       "  </thead>\n",
       "  <tbody>\n",
       "    <tr>\n",
       "      <th>0</th>\n",
       "      <td>11978898</td>\n",
       "      <td>R2</td>\n",
       "      <td>journal</td>\n",
       "      <td>9657795</td>\n",
       "      <td>general</td>\n",
       "      <td>0</td>\n",
       "      <td>Deliberate self-poisoning has reached epidemic...</td>\n",
       "    </tr>\n",
       "    <tr>\n",
       "      <th>1</th>\n",
       "      <td>11978898</td>\n",
       "      <td>R12</td>\n",
       "      <td>journal</td>\n",
       "      <td>8783813</td>\n",
       "      <td>general</td>\n",
       "      <td>8</td>\n",
       "      <td>In vitro experiments have shown that oximes ar...</td>\n",
       "    </tr>\n",
       "    <tr>\n",
       "      <th>2</th>\n",
       "      <td>11978898</td>\n",
       "      <td>R13</td>\n",
       "      <td>journal</td>\n",
       "      <td>8481105</td>\n",
       "      <td>general</td>\n",
       "      <td>8</td>\n",
       "      <td>In vitro experiments have shown that oximes ar...</td>\n",
       "    </tr>\n",
       "    <tr>\n",
       "      <th>3</th>\n",
       "      <td>11978898</td>\n",
       "      <td>R15</td>\n",
       "      <td>journal</td>\n",
       "      <td>9292288</td>\n",
       "      <td>general</td>\n",
       "      <td>8</td>\n",
       "      <td>In vitro experiments have shown that oximes ar...</td>\n",
       "    </tr>\n",
       "    <tr>\n",
       "      <th>4</th>\n",
       "      <td>11978898</td>\n",
       "      <td>R12</td>\n",
       "      <td>journal</td>\n",
       "      <td>8783813</td>\n",
       "      <td>general</td>\n",
       "      <td>10</td>\n",
       "      <td>It has now become clear, however, that the deg...</td>\n",
       "    </tr>\n",
       "    <tr>\n",
       "      <th>...</th>\n",
       "      <td>...</td>\n",
       "      <td>...</td>\n",
       "      <td>...</td>\n",
       "      <td>...</td>\n",
       "      <td>...</td>\n",
       "      <td>...</td>\n",
       "      <td>...</td>\n",
       "    </tr>\n",
       "    <tr>\n",
       "      <th>462144</th>\n",
       "      <td>31068334</td>\n",
       "      <td>R35</td>\n",
       "      <td>journal</td>\n",
       "      <td>22337868</td>\n",
       "      <td>discussion</td>\n",
       "      <td>8</td>\n",
       "      <td>In-hours staff perceived EPaCCS as a potential...</td>\n",
       "    </tr>\n",
       "    <tr>\n",
       "      <th>462145</th>\n",
       "      <td>31068334</td>\n",
       "      <td>R35</td>\n",
       "      <td>journal</td>\n",
       "      <td>22337868</td>\n",
       "      <td>discussion</td>\n",
       "      <td>10</td>\n",
       "      <td>None of the studies we identified explicitly e...</td>\n",
       "    </tr>\n",
       "    <tr>\n",
       "      <th>462146</th>\n",
       "      <td>31068334</td>\n",
       "      <td>R43</td>\n",
       "      <td>journal</td>\n",
       "      <td>11159625</td>\n",
       "      <td>discussion</td>\n",
       "      <td>31</td>\n",
       "      <td>Logical and well-intentioned policy recommenda...</td>\n",
       "    </tr>\n",
       "    <tr>\n",
       "      <th>462147</th>\n",
       "      <td>31068334</td>\n",
       "      <td>R44</td>\n",
       "      <td>journal</td>\n",
       "      <td>25232681</td>\n",
       "      <td>discussion</td>\n",
       "      <td>32</td>\n",
       "      <td>However, observational studies can overestimat...</td>\n",
       "    </tr>\n",
       "    <tr>\n",
       "      <th>462148</th>\n",
       "      <td>31068334</td>\n",
       "      <td>R46</td>\n",
       "      <td>journal</td>\n",
       "      <td>23322647</td>\n",
       "      <td>discussion</td>\n",
       "      <td>34</td>\n",
       "      <td>Evaluations using experimental or quasi-experi...</td>\n",
       "    </tr>\n",
       "  </tbody>\n",
       "</table>\n",
       "<p>462149 rows × 7 columns</p>\n",
       "</div>"
      ],
      "text/plain": [
       "            pmid ref_id pub_type  ref_pmid   sent_type  sent_id  \\\n",
       "0       11978898     R2  journal   9657795     general        0   \n",
       "1       11978898    R12  journal   8783813     general        8   \n",
       "2       11978898    R13  journal   8481105     general        8   \n",
       "3       11978898    R15  journal   9292288     general        8   \n",
       "4       11978898    R12  journal   8783813     general       10   \n",
       "...          ...    ...      ...       ...         ...      ...   \n",
       "462144  31068334    R35  journal  22337868  discussion        8   \n",
       "462145  31068334    R35  journal  22337868  discussion       10   \n",
       "462146  31068334    R43  journal  11159625  discussion       31   \n",
       "462147  31068334    R44  journal  25232681  discussion       32   \n",
       "462148  31068334    R46  journal  23322647  discussion       34   \n",
       "\n",
       "                                                 sentence  \n",
       "0       Deliberate self-poisoning has reached epidemic...  \n",
       "1       In vitro experiments have shown that oximes ar...  \n",
       "2       In vitro experiments have shown that oximes ar...  \n",
       "3       In vitro experiments have shown that oximes ar...  \n",
       "4       It has now become clear, however, that the deg...  \n",
       "...                                                   ...  \n",
       "462144  In-hours staff perceived EPaCCS as a potential...  \n",
       "462145  None of the studies we identified explicitly e...  \n",
       "462146  Logical and well-intentioned policy recommenda...  \n",
       "462147  However, observational studies can overestimat...  \n",
       "462148  Evaluations using experimental or quasi-experi...  \n",
       "\n",
       "[462149 rows x 7 columns]"
      ]
     },
     "execution_count": 85,
     "metadata": {},
     "output_type": "execute_result"
    }
   ],
   "source": [
    "ref_sents_df"
   ]
  },
  {
   "cell_type": "code",
   "execution_count": 86,
   "metadata": {},
   "outputs": [],
   "source": [
    "paper_ref = sentences_df[sentences_df['pmid']==26194312]['sentence'].values"
   ]
  },
  {
   "cell_type": "code",
   "execution_count": 87,
   "metadata": {},
   "outputs": [],
   "source": [
    "papers_to_check = list(set(ref_sents_df[ref_sents_df['pmid']==26194312]['ref_pmid'].values))"
   ]
  },
  {
   "cell_type": "code",
   "execution_count": 88,
   "metadata": {},
   "outputs": [
    {
     "data": {
      "text/plain": [
       "102"
      ]
     },
     "execution_count": 88,
     "metadata": {},
     "output_type": "execute_result"
    }
   ],
   "source": [
    "len(papers_to_check)"
   ]
  },
  {
   "cell_type": "markdown",
   "metadata": {},
   "source": [
    "18. A test of several paper summarization into review one. "
   ]
  },
  {
   "cell_type": "code",
   "execution_count": 94,
   "metadata": {},
   "outputs": [],
   "source": [
    "# from .model import Summarizer as BertSum"
   ]
  },
  {
   "cell_type": "code",
   "execution_count": 96,
   "metadata": {},
   "outputs": [],
   "source": [
    "model = Summarizer('bert', MODEL_SIZE)\n",
    "# model.load('bert_sum')\n",
    "model.froze_backbone(\"froze_all\")\n",
    "model.unfroze_head()"
   ]
  },
  {
   "cell_type": "code",
   "execution_count": 97,
   "metadata": {},
   "outputs": [
    {
     "name": "stderr",
     "output_type": "stream",
     "text": [
      "2021-01-01 15:56:50,428 INFO: Setup single-device settings...\n"
     ]
    }
   ],
   "source": [
    "model.eval()\n",
    "model, device = setup_single_gpu(model)"
   ]
  },
  {
   "cell_type": "code",
   "execution_count": 98,
   "metadata": {},
   "outputs": [],
   "source": [
    "model_ref = model"
   ]
  },
  {
   "cell_type": "code",
   "execution_count": 102,
   "metadata": {},
   "outputs": [
    {
     "name": "stdout",
     "output_type": "stream",
     "text": [
      "4399\n",
      "20217853 4398"
     ]
    }
   ],
   "source": [
    "# Features-related evaluation is commented right now.\n",
    "test_stat = {'rev_pmid':[], 'sent_num':[], 'true_rouge':[], 'diff_papers': []} #'rouge': [], \n",
    "inter = set(sentences_df['pmid'].values) & set(ref_sents_df['ref_pmid'].values)\n",
    "review_papers = list(set(ref_sents_df[ref_sents_df['ref_pmid'].isin(inter)]['pmid'].values))\n",
    "print(len(review_papers))\n",
    "cnt = 0\n",
    "\n",
    "for rev_id in review_papers:\n",
    "    print(f\"\\r{rev_id} {cnt}\", end=\"\")\n",
    "    cnt += 1\n",
    "    paper_ref = sentences_df[sentences_df['pmid']==rev_id]['sentence'].values\n",
    "    papers_to_check = list(set(ref_sents_df[ref_sents_df['pmid']==rev_id]['ref_pmid'].values))\n",
    "    result = {'pmid':[], 'sentence':[], 'score':[]}\n",
    "    for paper_id in papers_to_check:\n",
    "        ex = test[test['pmid'] == paper_id]\n",
    "        paper = ex['sentence'].values\n",
    "        #features = np.nan_to_num(ex[['sent_id', 'sent_type', 'r_abs',\n",
    "        #                   'num_refs', 'mean_r_fig', 'mean_r_tab', \n",
    "        #                   'min_r_fig', 'min_r_tab',\n",
    "        #                   'max_r_fig', 'max_r_tab']].values.astype(float))\n",
    "        total_sents = 0\n",
    "        while total_sents < len(paper):\n",
    "            magic = max(0, total_sents - 5)\n",
    "            article_ids, article_mask, article_segment, n_setns = \\\n",
    "            preprocess_paper_bert(paper[magic:], MODEL_SIZE, model_ref.tokenizer)\n",
    "            if n_setns <= 5:\n",
    "                total_sents += 1\n",
    "                continue\n",
    "            old_total = total_sents\n",
    "            total_sents = magic + n_setns\n",
    "            input_ids = torch.tensor([article_ids]).to(device)\n",
    "            input_mask = torch.tensor([article_mask]).to(device)\n",
    "            input_segment = torch.tensor([article_segment]).to(device)\n",
    "            #input_features = [torch.tensor(e, dtype=torch.float) for e in features[magic:total_sents]]\n",
    "            #input_features = torch.stack(input_features).to(device)\n",
    "            #print(input_features)\n",
    "            draft_probs = model(\n",
    "                        input_ids, input_mask, input_segment, #input_features,\n",
    "                    )\n",
    "            result['pmid'].extend([paper_id] * (total_sents - old_total))\n",
    "            result['sentence'].extend(list(paper[old_total:total_sents]))\n",
    "            result['score'].extend(list(draft_probs.cpu().detach().numpy())[old_total - magic:])\n",
    "    res_df = pd.DataFrame(result)\n",
    "    sorted_arr = sorted(list(res_df['score'].values))\n",
    "    for i in range(5, 103, 5):\n",
    "        if len(sorted_arr) < i:\n",
    "            break\n",
    "        treshold = sorted_arr[-i]\n",
    "        final_text = res_df[res_df['score'] >= treshold][['pmid', 'sentence']]\n",
    "        #mean_score = 0\n",
    "        #num = 0\n",
    "        #for sent in final_text['sentence'].values:\n",
    "        #    for ref_sent in paper_ref:\n",
    "        #        try:\n",
    "        #            mean_score += get_rouge(sent, ref_sent)\n",
    "        #            num += 1\n",
    "        #        except Exception:\n",
    "        #            continue\n",
    "        #mean_score /= num\n",
    "        real_score = get_rouge(\" \".join(final_text['sentence'].values), \" \".join(paper_ref))\n",
    "        test_stat['rev_pmid'].append(rev_id)\n",
    "        test_stat['sent_num'].append(i)\n",
    "        #print(len(\" \".join(final_text['sentence'].values)), len(\" \".join(paper_ref)))\n",
    "        \n",
    "        \n",
    "        #test_stat['rouge'].append(mean_score)\n",
    "        test_stat['true_rouge'].append(real_score)\n",
    "        test_stat['diff_papers'].append(len(set(final_text['pmid'])))\n",
    "            "
   ]
  },
  {
   "cell_type": "code",
   "execution_count": null,
   "metadata": {},
   "outputs": [],
   "source": [
    "print(*[len(arr) for key, arr in test_stat.items()])"
   ]
  },
  {
   "cell_type": "code",
   "execution_count": null,
   "metadata": {},
   "outputs": [],
   "source": [
    "test_stat_df = pd.DataFrame(test_stat)"
   ]
  },
  {
   "cell_type": "code",
   "execution_count": 127,
   "metadata": {},
   "outputs": [
    {
     "data": {
      "text/html": [
       "<div>\n",
       "<style scoped>\n",
       "    .dataframe tbody tr th:only-of-type {\n",
       "        vertical-align: middle;\n",
       "    }\n",
       "\n",
       "    .dataframe tbody tr th {\n",
       "        vertical-align: top;\n",
       "    }\n",
       "\n",
       "    .dataframe thead th {\n",
       "        text-align: right;\n",
       "    }\n",
       "</style>\n",
       "<table border=\"1\" class=\"dataframe\">\n",
       "  <thead>\n",
       "    <tr style=\"text-align: right;\">\n",
       "      <th></th>\n",
       "      <th>rev_pmid</th>\n",
       "      <th>sent_num</th>\n",
       "      <th>true_rouge</th>\n",
       "      <th>diff_papers</th>\n",
       "    </tr>\n",
       "  </thead>\n",
       "  <tbody>\n",
       "    <tr>\n",
       "      <th>0</th>\n",
       "      <td>29679617</td>\n",
       "      <td>5</td>\n",
       "      <td>1.959071</td>\n",
       "      <td>1</td>\n",
       "    </tr>\n",
       "    <tr>\n",
       "      <th>1</th>\n",
       "      <td>29679617</td>\n",
       "      <td>10</td>\n",
       "      <td>3.232967</td>\n",
       "      <td>1</td>\n",
       "    </tr>\n",
       "    <tr>\n",
       "      <th>2</th>\n",
       "      <td>29679617</td>\n",
       "      <td>15</td>\n",
       "      <td>5.723856</td>\n",
       "      <td>1</td>\n",
       "    </tr>\n",
       "    <tr>\n",
       "      <th>3</th>\n",
       "      <td>29679617</td>\n",
       "      <td>20</td>\n",
       "      <td>7.487041</td>\n",
       "      <td>1</td>\n",
       "    </tr>\n",
       "    <tr>\n",
       "      <th>4</th>\n",
       "      <td>29679617</td>\n",
       "      <td>25</td>\n",
       "      <td>8.548273</td>\n",
       "      <td>1</td>\n",
       "    </tr>\n",
       "    <tr>\n",
       "      <th>...</th>\n",
       "      <td>...</td>\n",
       "      <td>...</td>\n",
       "      <td>...</td>\n",
       "      <td>...</td>\n",
       "    </tr>\n",
       "    <tr>\n",
       "      <th>37400</th>\n",
       "      <td>20217853</td>\n",
       "      <td>80</td>\n",
       "      <td>14.901693</td>\n",
       "      <td>1</td>\n",
       "    </tr>\n",
       "    <tr>\n",
       "      <th>37401</th>\n",
       "      <td>20217853</td>\n",
       "      <td>85</td>\n",
       "      <td>15.699245</td>\n",
       "      <td>1</td>\n",
       "    </tr>\n",
       "    <tr>\n",
       "      <th>37402</th>\n",
       "      <td>20217853</td>\n",
       "      <td>90</td>\n",
       "      <td>16.687216</td>\n",
       "      <td>1</td>\n",
       "    </tr>\n",
       "    <tr>\n",
       "      <th>37403</th>\n",
       "      <td>20217853</td>\n",
       "      <td>95</td>\n",
       "      <td>17.158034</td>\n",
       "      <td>1</td>\n",
       "    </tr>\n",
       "    <tr>\n",
       "      <th>37404</th>\n",
       "      <td>20217853</td>\n",
       "      <td>100</td>\n",
       "      <td>17.961779</td>\n",
       "      <td>1</td>\n",
       "    </tr>\n",
       "  </tbody>\n",
       "</table>\n",
       "<p>37405 rows × 4 columns</p>\n",
       "</div>"
      ],
      "text/plain": [
       "       rev_pmid  sent_num  true_rouge  diff_papers\n",
       "0      29679617         5    1.959071            1\n",
       "1      29679617        10    3.232967            1\n",
       "2      29679617        15    5.723856            1\n",
       "3      29679617        20    7.487041            1\n",
       "4      29679617        25    8.548273            1\n",
       "...         ...       ...         ...          ...\n",
       "37400  20217853        80   14.901693            1\n",
       "37401  20217853        85   15.699245            1\n",
       "37402  20217853        90   16.687216            1\n",
       "37403  20217853        95   17.158034            1\n",
       "37404  20217853       100   17.961779            1\n",
       "\n",
       "[37405 rows x 4 columns]"
      ]
     },
     "execution_count": 127,
     "metadata": {},
     "output_type": "execute_result"
    }
   ],
   "source": [
    "test_stat_df"
   ]
  },
  {
   "cell_type": "code",
   "execution_count": 128,
   "metadata": {},
   "outputs": [],
   "source": [
    "test_stat_df = test_stat_df[test_stat_df['rev_pmid'] != 29574033]"
   ]
  },
  {
   "cell_type": "code",
   "execution_count": 129,
   "metadata": {},
   "outputs": [],
   "source": [
    "test_stat_df.to_csv(\"~/simple_right_test_on_review.csv\", index=False)"
   ]
  },
  {
   "cell_type": "code",
   "execution_count": 130,
   "metadata": {},
   "outputs": [
    {
     "data": {
      "text/plain": [
       "100"
      ]
     },
     "execution_count": 130,
     "metadata": {},
     "output_type": "execute_result"
    }
   ],
   "source": [
    "len(result['sentence'])"
   ]
  },
  {
   "cell_type": "code",
   "execution_count": 131,
   "metadata": {},
   "outputs": [
    {
     "data": {
      "text/plain": [
       "100"
      ]
     },
     "execution_count": 131,
     "metadata": {},
     "output_type": "execute_result"
    }
   ],
   "source": [
    "len(result['score'])"
   ]
  },
  {
   "cell_type": "code",
   "execution_count": 132,
   "metadata": {},
   "outputs": [],
   "source": [
    "res_df = pd.DataFrame(result)"
   ]
  },
  {
   "cell_type": "code",
   "execution_count": 133,
   "metadata": {},
   "outputs": [
    {
     "data": {
      "text/html": [
       "<div>\n",
       "<style scoped>\n",
       "    .dataframe tbody tr th:only-of-type {\n",
       "        vertical-align: middle;\n",
       "    }\n",
       "\n",
       "    .dataframe tbody tr th {\n",
       "        vertical-align: top;\n",
       "    }\n",
       "\n",
       "    .dataframe thead th {\n",
       "        text-align: right;\n",
       "    }\n",
       "</style>\n",
       "<table border=\"1\" class=\"dataframe\">\n",
       "  <thead>\n",
       "    <tr style=\"text-align: right;\">\n",
       "      <th></th>\n",
       "      <th>pmid</th>\n",
       "      <th>sentence</th>\n",
       "      <th>score</th>\n",
       "    </tr>\n",
       "  </thead>\n",
       "  <tbody>\n",
       "    <tr>\n",
       "      <th>0</th>\n",
       "      <td>18827717</td>\n",
       "      <td>Newer, non-invasive brain imaging approaches o...</td>\n",
       "      <td>0.457018</td>\n",
       "    </tr>\n",
       "    <tr>\n",
       "      <th>1</th>\n",
       "      <td>18827717</td>\n",
       "      <td>These techniques permit unprecedented in vivo ...</td>\n",
       "      <td>0.457672</td>\n",
       "    </tr>\n",
       "    <tr>\n",
       "      <th>2</th>\n",
       "      <td>18827717</td>\n",
       "      <td>Here, we present research aimed at generating ...</td>\n",
       "      <td>0.460970</td>\n",
       "    </tr>\n",
       "    <tr>\n",
       "      <th>3</th>\n",
       "      <td>18827717</td>\n",
       "      <td>With as many as 80% of all cases beginning dur...</td>\n",
       "      <td>0.457992</td>\n",
       "    </tr>\n",
       "    <tr>\n",
       "      <th>4</th>\n",
       "      <td>18827717</td>\n",
       "      <td>In this review we discuss the neurobiology of ...</td>\n",
       "      <td>0.460524</td>\n",
       "    </tr>\n",
       "    <tr>\n",
       "      <th>...</th>\n",
       "      <td>...</td>\n",
       "      <td>...</td>\n",
       "      <td>...</td>\n",
       "    </tr>\n",
       "    <tr>\n",
       "      <th>95</th>\n",
       "      <td>18827717</td>\n",
       "      <td>Further work is needed to validate VBM and to ...</td>\n",
       "      <td>0.442604</td>\n",
       "    </tr>\n",
       "    <tr>\n",
       "      <th>96</th>\n",
       "      <td>18827717</td>\n",
       "      <td>Given that the clinical phenomenology and noso...</td>\n",
       "      <td>0.455438</td>\n",
       "    </tr>\n",
       "    <tr>\n",
       "      <th>97</th>\n",
       "      <td>18827717</td>\n",
       "      <td>Such studies may provide further support for t...</td>\n",
       "      <td>0.455634</td>\n",
       "    </tr>\n",
       "    <tr>\n",
       "      <th>98</th>\n",
       "      <td>18827717</td>\n",
       "      <td>The combined study of biological, genetic and ...</td>\n",
       "      <td>0.456030</td>\n",
       "    </tr>\n",
       "    <tr>\n",
       "      <th>99</th>\n",
       "      <td>18827717</td>\n",
       "      <td>Such approaches may lead to better understandi...</td>\n",
       "      <td>0.455509</td>\n",
       "    </tr>\n",
       "  </tbody>\n",
       "</table>\n",
       "<p>100 rows × 3 columns</p>\n",
       "</div>"
      ],
      "text/plain": [
       "        pmid                                           sentence     score\n",
       "0   18827717  Newer, non-invasive brain imaging approaches o...  0.457018\n",
       "1   18827717  These techniques permit unprecedented in vivo ...  0.457672\n",
       "2   18827717  Here, we present research aimed at generating ...  0.460970\n",
       "3   18827717  With as many as 80% of all cases beginning dur...  0.457992\n",
       "4   18827717  In this review we discuss the neurobiology of ...  0.460524\n",
       "..       ...                                                ...       ...\n",
       "95  18827717  Further work is needed to validate VBM and to ...  0.442604\n",
       "96  18827717  Given that the clinical phenomenology and noso...  0.455438\n",
       "97  18827717  Such studies may provide further support for t...  0.455634\n",
       "98  18827717  The combined study of biological, genetic and ...  0.456030\n",
       "99  18827717  Such approaches may lead to better understandi...  0.455509\n",
       "\n",
       "[100 rows x 3 columns]"
      ]
     },
     "execution_count": 133,
     "metadata": {},
     "output_type": "execute_result"
    }
   ],
   "source": [
    "res_df"
   ]
  },
  {
   "cell_type": "code",
   "execution_count": 134,
   "metadata": {},
   "outputs": [],
   "source": [
    "treshold = sorted(list(res_df['score'].values))[-5]"
   ]
  },
  {
   "cell_type": "code",
   "execution_count": 135,
   "metadata": {},
   "outputs": [],
   "source": [
    "final_text = res_df[res_df['score'] >= treshold][['pmid', 'sentence']]"
   ]
  },
  {
   "cell_type": "code",
   "execution_count": 136,
   "metadata": {},
   "outputs": [
    {
     "data": {
      "text/plain": [
       "1"
      ]
     },
     "execution_count": 136,
     "metadata": {},
     "output_type": "execute_result"
    }
   ],
   "source": [
    "len(set(final_text['pmid']))"
   ]
  },
  {
   "cell_type": "code",
   "execution_count": 137,
   "metadata": {},
   "outputs": [
    {
     "data": {
      "text/plain": [
       "\"No significant differences between patients with OCD and controls were observed on other prefrontal cortical functions, such as the delayed-response task. Woolley et al xref_bibr_R8 , using functional magnetic resonance imaging (fMRI) found that during the 'stop' task, OCD patients showed reduced activation in right orbitofrontal cortex, thalamus and basal ganglia compared to controls. These disturbances of inhibition in OCD may underlie the repetitive behavior that characterizes the illness and indicate abnormalities in orbital prefrontal ventral striatal circuits xref_bibr_R6 , xref_bibr_R7 . Furthermore, among patients, gray matter density in right lateral orbital frontal cortex correlated significantly with OCD symptom severity, but not with anxiety or depression xref_bibr_R9 . Gray matter volume of the anterior cingulate is greater in pediatric OCD patients compared to age- and sex-matched controls xref_bibr_R2 , xref_bibr_R10 .\""
      ]
     },
     "execution_count": 137,
     "metadata": {},
     "output_type": "execute_result"
    }
   ],
   "source": [
    "\" \".join(final_text['sentence'].values)"
   ]
  },
  {
   "cell_type": "code",
   "execution_count": 138,
   "metadata": {},
   "outputs": [],
   "source": [
    "mean_score = 0\n",
    "num = 0\n",
    "for sent in final_text['sentence'].values:\n",
    "    for ref_sent in paper_ref:\n",
    "        mean_score += get_rouge(sent, ref_sent)\n",
    "        num += 1\n",
    "mean_score /= num"
   ]
  },
  {
   "cell_type": "code",
   "execution_count": 139,
   "metadata": {},
   "outputs": [
    {
     "data": {
      "text/plain": [
       "9.759656406303767"
      ]
     },
     "execution_count": 139,
     "metadata": {},
     "output_type": "execute_result"
    }
   ],
   "source": [
    "mean_score"
   ]
  },
  {
   "cell_type": "code",
   "execution_count": 140,
   "metadata": {},
   "outputs": [
    {
     "data": {
      "text/plain": [
       "'pmid sentence'"
      ]
     },
     "execution_count": 140,
     "metadata": {},
     "output_type": "execute_result"
    }
   ],
   "source": [
    "\" \".join(final_text)"
   ]
  },
  {
   "cell_type": "code",
   "execution_count": 141,
   "metadata": {},
   "outputs": [],
   "source": [
    "inter = list(set(sentences_df['pmid'].values) & set(ref_sents_df['ref_pmid'].values))"
   ]
  },
  {
   "cell_type": "code",
   "execution_count": 142,
   "metadata": {},
   "outputs": [
    {
     "data": {
      "text/plain": [
       "False"
      ]
     },
     "execution_count": 142,
     "metadata": {},
     "output_type": "execute_result"
    }
   ],
   "source": [
    "26194312 in inter"
   ]
  },
  {
   "cell_type": "code",
   "execution_count": 143,
   "metadata": {},
   "outputs": [
    {
     "data": {
      "text/html": [
       "<div>\n",
       "<style scoped>\n",
       "    .dataframe tbody tr th:only-of-type {\n",
       "        vertical-align: middle;\n",
       "    }\n",
       "\n",
       "    .dataframe tbody tr th {\n",
       "        vertical-align: top;\n",
       "    }\n",
       "\n",
       "    .dataframe thead th {\n",
       "        text-align: right;\n",
       "    }\n",
       "</style>\n",
       "<table border=\"1\" class=\"dataframe\">\n",
       "  <thead>\n",
       "    <tr style=\"text-align: right;\">\n",
       "      <th></th>\n",
       "      <th>pmid</th>\n",
       "      <th>ref_id</th>\n",
       "      <th>pub_type</th>\n",
       "      <th>ref_pmid</th>\n",
       "      <th>sent_type</th>\n",
       "      <th>sent_id</th>\n",
       "      <th>sentence</th>\n",
       "    </tr>\n",
       "  </thead>\n",
       "  <tbody>\n",
       "    <tr>\n",
       "      <th>327976</th>\n",
       "      <td>26194312</td>\n",
       "      <td>R118</td>\n",
       "      <td>journal</td>\n",
       "      <td>25559091</td>\n",
       "      <td>general</td>\n",
       "      <td>224</td>\n",
       "      <td>Some specific single nucleotide variants in no...</td>\n",
       "    </tr>\n",
       "  </tbody>\n",
       "</table>\n",
       "</div>"
      ],
      "text/plain": [
       "            pmid ref_id pub_type  ref_pmid sent_type  sent_id  \\\n",
       "327976  26194312   R118  journal  25559091   general      224   \n",
       "\n",
       "                                                 sentence  \n",
       "327976  Some specific single nucleotide variants in no...  "
      ]
     },
     "execution_count": 143,
     "metadata": {},
     "output_type": "execute_result"
    }
   ],
   "source": [
    "ref_sents_df[ref_sents_df['ref_pmid']==25559091]"
   ]
  },
  {
   "cell_type": "code",
   "execution_count": 144,
   "metadata": {},
   "outputs": [],
   "source": [
    "import pandas as pd\n",
    "\n",
    "test_stat_df = pd.read_csv(\"~/simple_right_test_on_review.csv\")\n",
    "ft_test_stat_df = pd.read_csv(\"~/bertsum_test_on_review.csv\")"
   ]
  },
  {
   "cell_type": "code",
   "execution_count": 151,
   "metadata": {},
   "outputs": [
    {
     "data": {
      "text/html": [
       "<div>\n",
       "<style scoped>\n",
       "    .dataframe tbody tr th:only-of-type {\n",
       "        vertical-align: middle;\n",
       "    }\n",
       "\n",
       "    .dataframe tbody tr th {\n",
       "        vertical-align: top;\n",
       "    }\n",
       "\n",
       "    .dataframe thead th {\n",
       "        text-align: right;\n",
       "    }\n",
       "</style>\n",
       "<table border=\"1\" class=\"dataframe\">\n",
       "  <thead>\n",
       "    <tr style=\"text-align: right;\">\n",
       "      <th></th>\n",
       "      <th>rev_pmid</th>\n",
       "      <th>sent_num</th>\n",
       "      <th>true_rouge</th>\n",
       "      <th>diff_papers</th>\n",
       "    </tr>\n",
       "  </thead>\n",
       "  <tbody>\n",
       "    <tr>\n",
       "      <th>0</th>\n",
       "      <td>29679617</td>\n",
       "      <td>5</td>\n",
       "      <td>1.959071</td>\n",
       "      <td>1</td>\n",
       "    </tr>\n",
       "    <tr>\n",
       "      <th>1</th>\n",
       "      <td>29679617</td>\n",
       "      <td>10</td>\n",
       "      <td>3.232967</td>\n",
       "      <td>1</td>\n",
       "    </tr>\n",
       "    <tr>\n",
       "      <th>2</th>\n",
       "      <td>29679617</td>\n",
       "      <td>15</td>\n",
       "      <td>5.723856</td>\n",
       "      <td>1</td>\n",
       "    </tr>\n",
       "    <tr>\n",
       "      <th>3</th>\n",
       "      <td>29679617</td>\n",
       "      <td>20</td>\n",
       "      <td>7.487041</td>\n",
       "      <td>1</td>\n",
       "    </tr>\n",
       "    <tr>\n",
       "      <th>4</th>\n",
       "      <td>29679617</td>\n",
       "      <td>25</td>\n",
       "      <td>8.548273</td>\n",
       "      <td>1</td>\n",
       "    </tr>\n",
       "    <tr>\n",
       "      <th>...</th>\n",
       "      <td>...</td>\n",
       "      <td>...</td>\n",
       "      <td>...</td>\n",
       "      <td>...</td>\n",
       "    </tr>\n",
       "    <tr>\n",
       "      <th>37400</th>\n",
       "      <td>20217853</td>\n",
       "      <td>80</td>\n",
       "      <td>14.901693</td>\n",
       "      <td>1</td>\n",
       "    </tr>\n",
       "    <tr>\n",
       "      <th>37401</th>\n",
       "      <td>20217853</td>\n",
       "      <td>85</td>\n",
       "      <td>15.699245</td>\n",
       "      <td>1</td>\n",
       "    </tr>\n",
       "    <tr>\n",
       "      <th>37402</th>\n",
       "      <td>20217853</td>\n",
       "      <td>90</td>\n",
       "      <td>16.687216</td>\n",
       "      <td>1</td>\n",
       "    </tr>\n",
       "    <tr>\n",
       "      <th>37403</th>\n",
       "      <td>20217853</td>\n",
       "      <td>95</td>\n",
       "      <td>17.158034</td>\n",
       "      <td>1</td>\n",
       "    </tr>\n",
       "    <tr>\n",
       "      <th>37404</th>\n",
       "      <td>20217853</td>\n",
       "      <td>100</td>\n",
       "      <td>17.961779</td>\n",
       "      <td>1</td>\n",
       "    </tr>\n",
       "  </tbody>\n",
       "</table>\n",
       "<p>37405 rows × 4 columns</p>\n",
       "</div>"
      ],
      "text/plain": [
       "       rev_pmid  sent_num  true_rouge  diff_papers\n",
       "0      29679617         5    1.959071            1\n",
       "1      29679617        10    3.232967            1\n",
       "2      29679617        15    5.723856            1\n",
       "3      29679617        20    7.487041            1\n",
       "4      29679617        25    8.548273            1\n",
       "...         ...       ...         ...          ...\n",
       "37400  20217853        80   14.901693            1\n",
       "37401  20217853        85   15.699245            1\n",
       "37402  20217853        90   16.687216            1\n",
       "37403  20217853        95   17.158034            1\n",
       "37404  20217853       100   17.961779            1\n",
       "\n",
       "[37405 rows x 4 columns]"
      ]
     },
     "execution_count": 151,
     "metadata": {},
     "output_type": "execute_result"
    }
   ],
   "source": [
    "test_stat_df"
   ]
  },
  {
   "cell_type": "code",
   "execution_count": 152,
   "metadata": {},
   "outputs": [
    {
     "data": {
      "text/html": [
       "<div>\n",
       "<style scoped>\n",
       "    .dataframe tbody tr th:only-of-type {\n",
       "        vertical-align: middle;\n",
       "    }\n",
       "\n",
       "    .dataframe tbody tr th {\n",
       "        vertical-align: top;\n",
       "    }\n",
       "\n",
       "    .dataframe thead th {\n",
       "        text-align: right;\n",
       "    }\n",
       "</style>\n",
       "<table border=\"1\" class=\"dataframe\">\n",
       "  <thead>\n",
       "    <tr style=\"text-align: right;\">\n",
       "      <th></th>\n",
       "      <th>rev_pmid</th>\n",
       "      <th>sent_num</th>\n",
       "      <th>rouge</th>\n",
       "      <th>true_rouge</th>\n",
       "      <th>diff_papers</th>\n",
       "    </tr>\n",
       "  </thead>\n",
       "  <tbody>\n",
       "    <tr>\n",
       "      <th>0</th>\n",
       "      <td>29679617</td>\n",
       "      <td>5</td>\n",
       "      <td>6.553551</td>\n",
       "      <td>3.276015</td>\n",
       "      <td>2</td>\n",
       "    </tr>\n",
       "    <tr>\n",
       "      <th>1</th>\n",
       "      <td>29679617</td>\n",
       "      <td>10</td>\n",
       "      <td>6.846631</td>\n",
       "      <td>5.778370</td>\n",
       "      <td>2</td>\n",
       "    </tr>\n",
       "    <tr>\n",
       "      <th>2</th>\n",
       "      <td>29679617</td>\n",
       "      <td>15</td>\n",
       "      <td>6.616444</td>\n",
       "      <td>8.862244</td>\n",
       "      <td>2</td>\n",
       "    </tr>\n",
       "    <tr>\n",
       "      <th>3</th>\n",
       "      <td>29679617</td>\n",
       "      <td>20</td>\n",
       "      <td>6.364486</td>\n",
       "      <td>10.578432</td>\n",
       "      <td>2</td>\n",
       "    </tr>\n",
       "    <tr>\n",
       "      <th>4</th>\n",
       "      <td>29679617</td>\n",
       "      <td>25</td>\n",
       "      <td>6.609094</td>\n",
       "      <td>12.461123</td>\n",
       "      <td>2</td>\n",
       "    </tr>\n",
       "    <tr>\n",
       "      <th>...</th>\n",
       "      <td>...</td>\n",
       "      <td>...</td>\n",
       "      <td>...</td>\n",
       "      <td>...</td>\n",
       "      <td>...</td>\n",
       "    </tr>\n",
       "    <tr>\n",
       "      <th>4684</th>\n",
       "      <td>29975497</td>\n",
       "      <td>80</td>\n",
       "      <td>6.728084</td>\n",
       "      <td>31.691496</td>\n",
       "      <td>2</td>\n",
       "    </tr>\n",
       "    <tr>\n",
       "      <th>4685</th>\n",
       "      <td>29975497</td>\n",
       "      <td>85</td>\n",
       "      <td>6.736424</td>\n",
       "      <td>32.479650</td>\n",
       "      <td>2</td>\n",
       "    </tr>\n",
       "    <tr>\n",
       "      <th>4686</th>\n",
       "      <td>29975497</td>\n",
       "      <td>90</td>\n",
       "      <td>6.715395</td>\n",
       "      <td>33.044975</td>\n",
       "      <td>2</td>\n",
       "    </tr>\n",
       "    <tr>\n",
       "      <th>4687</th>\n",
       "      <td>29975497</td>\n",
       "      <td>95</td>\n",
       "      <td>6.746981</td>\n",
       "      <td>33.419319</td>\n",
       "      <td>2</td>\n",
       "    </tr>\n",
       "    <tr>\n",
       "      <th>4688</th>\n",
       "      <td>29975497</td>\n",
       "      <td>100</td>\n",
       "      <td>6.822282</td>\n",
       "      <td>33.871644</td>\n",
       "      <td>2</td>\n",
       "    </tr>\n",
       "  </tbody>\n",
       "</table>\n",
       "<p>4689 rows × 5 columns</p>\n",
       "</div>"
      ],
      "text/plain": [
       "      rev_pmid  sent_num     rouge  true_rouge  diff_papers\n",
       "0     29679617         5  6.553551    3.276015            2\n",
       "1     29679617        10  6.846631    5.778370            2\n",
       "2     29679617        15  6.616444    8.862244            2\n",
       "3     29679617        20  6.364486   10.578432            2\n",
       "4     29679617        25  6.609094   12.461123            2\n",
       "...        ...       ...       ...         ...          ...\n",
       "4684  29975497        80  6.728084   31.691496            2\n",
       "4685  29975497        85  6.736424   32.479650            2\n",
       "4686  29975497        90  6.715395   33.044975            2\n",
       "4687  29975497        95  6.746981   33.419319            2\n",
       "4688  29975497       100  6.822282   33.871644            2\n",
       "\n",
       "[4689 rows x 5 columns]"
      ]
     },
     "execution_count": 152,
     "metadata": {},
     "output_type": "execute_result"
    }
   ],
   "source": [
    "ft_test_stat_df"
   ]
  },
  {
   "cell_type": "code",
   "execution_count": 145,
   "metadata": {},
   "outputs": [],
   "source": [
    "df_1 = test_stat_df.assign(model = ['Основная модель']*len(test_stat_df))"
   ]
  },
  {
   "cell_type": "code",
   "execution_count": 146,
   "metadata": {},
   "outputs": [],
   "source": [
    "df_2 = ft_test_stat_df.assign(model = ['BERTSUM']*len(ft_test_stat_df))"
   ]
  },
  {
   "cell_type": "code",
   "execution_count": 150,
   "metadata": {},
   "outputs": [
    {
     "data": {
      "text/html": [
       "<div>\n",
       "<style scoped>\n",
       "    .dataframe tbody tr th:only-of-type {\n",
       "        vertical-align: middle;\n",
       "    }\n",
       "\n",
       "    .dataframe tbody tr th {\n",
       "        vertical-align: top;\n",
       "    }\n",
       "\n",
       "    .dataframe thead th {\n",
       "        text-align: right;\n",
       "    }\n",
       "</style>\n",
       "<table border=\"1\" class=\"dataframe\">\n",
       "  <thead>\n",
       "    <tr style=\"text-align: right;\">\n",
       "      <th></th>\n",
       "      <th>rev_pmid</th>\n",
       "      <th>sent_num</th>\n",
       "      <th>true_rouge</th>\n",
       "      <th>diff_papers</th>\n",
       "      <th>model</th>\n",
       "      <th>rouge</th>\n",
       "    </tr>\n",
       "  </thead>\n",
       "  <tbody>\n",
       "    <tr>\n",
       "      <th>0</th>\n",
       "      <td>29679617</td>\n",
       "      <td>5</td>\n",
       "      <td>1.959071</td>\n",
       "      <td>1</td>\n",
       "      <td>Основная модель</td>\n",
       "      <td>NaN</td>\n",
       "    </tr>\n",
       "    <tr>\n",
       "      <th>1</th>\n",
       "      <td>29679617</td>\n",
       "      <td>10</td>\n",
       "      <td>3.232967</td>\n",
       "      <td>1</td>\n",
       "      <td>Основная модель</td>\n",
       "      <td>NaN</td>\n",
       "    </tr>\n",
       "    <tr>\n",
       "      <th>2</th>\n",
       "      <td>29679617</td>\n",
       "      <td>15</td>\n",
       "      <td>5.723856</td>\n",
       "      <td>1</td>\n",
       "      <td>Основная модель</td>\n",
       "      <td>NaN</td>\n",
       "    </tr>\n",
       "    <tr>\n",
       "      <th>3</th>\n",
       "      <td>29679617</td>\n",
       "      <td>20</td>\n",
       "      <td>7.487041</td>\n",
       "      <td>1</td>\n",
       "      <td>Основная модель</td>\n",
       "      <td>NaN</td>\n",
       "    </tr>\n",
       "    <tr>\n",
       "      <th>4</th>\n",
       "      <td>29679617</td>\n",
       "      <td>25</td>\n",
       "      <td>8.548273</td>\n",
       "      <td>1</td>\n",
       "      <td>Основная модель</td>\n",
       "      <td>NaN</td>\n",
       "    </tr>\n",
       "  </tbody>\n",
       "</table>\n",
       "</div>"
      ],
      "text/plain": [
       "   rev_pmid  sent_num  true_rouge  diff_papers            model  rouge\n",
       "0  29679617         5    1.959071            1  Основная модель    NaN\n",
       "1  29679617        10    3.232967            1  Основная модель    NaN\n",
       "2  29679617        15    5.723856            1  Основная модель    NaN\n",
       "3  29679617        20    7.487041            1  Основная модель    NaN\n",
       "4  29679617        25    8.548273            1  Основная модель    NaN"
      ]
     },
     "execution_count": 150,
     "metadata": {},
     "output_type": "execute_result"
    }
   ],
   "source": [
    "draw_df = pd.concat([df_1, df_2])\n",
    "draw_df.head()"
   ]
  },
  {
   "cell_type": "code",
   "execution_count": null,
   "metadata": {},
   "outputs": [],
   "source": [
    "rouge_means = []\n",
    "rouge_err = []\n",
    "papers_means = []\n",
    "papers_err = []\n",
    "\n",
    "for i in range(5, 103, 5):\n",
    "    tmp = test_stat_df.groupby(['sent_num']).get_group(i)\n",
    "    rouge_means.append(tmp['rouge'].mean())\n",
    "    rouge_err.append(tmp['rouge'].std())\n",
    "    papers_means.append(tmp['diff_papers'].mean())\n",
    "    papers_err.append(tmp['diff_papers'].std())\n",
    "    "
   ]
  },
  {
   "cell_type": "code",
   "execution_count": null,
   "metadata": {},
   "outputs": [],
   "source": [
    "import matplotlib.pyplot as plt"
   ]
  },
  {
   "cell_type": "code",
   "execution_count": null,
   "metadata": {},
   "outputs": [],
   "source": [
    "plt.errorbar(list(range(5, 103, 5)), rouge_means, yerr=rouge_err, fmt='-o')"
   ]
  },
  {
   "cell_type": "code",
   "execution_count": null,
   "metadata": {},
   "outputs": [],
   "source": [
    "plt.errorbar(list(range(5, 103, 5)), papers_means, yerr=papers_err, fmt='-o')"
   ]
  },
  {
   "cell_type": "code",
   "execution_count": null,
   "metadata": {},
   "outputs": [],
   "source": [
    "import seaborn as sns"
   ]
  },
  {
   "cell_type": "code",
   "execution_count": null,
   "metadata": {},
   "outputs": [],
   "source": [
    "sns.catplot(x=\"sent_num\", y=\"rouge\", kind=\"box\", hue='model', aspect=1.7, color='lightblue', data=draw_df).set_axis_labels(\"ЧИСЛО ПРЕДЛОЖЕНИЙ\", \"ROUGE, %\")"
   ]
  },
  {
   "cell_type": "code",
   "execution_count": null,
   "metadata": {},
   "outputs": [],
   "source": [
    "sns.catplot(x=\"sent_num\", y=\"diff_papers\", kind=\"box\", aspect=1.5, color = 'lightblue', data=test_stat_df).set_axis_labels(\"ЧИСЛО ПРЕДЛОЖЕНИЙ\", \"ЧИСЛО СТАТЕЙ В РЕЗЮМЕ\")"
   ]
  },
  {
   "cell_type": "code",
   "execution_count": null,
   "metadata": {},
   "outputs": [],
   "source": [
    "sns.catplot(x=\"sent_num\", y=\"true_rouge\", kind=\"box\", aspect=1.7, hue='model', color='lightblue', data=draw_df).set_axis_labels(\"ЧИСЛО ПРЕДЛОЖЕНИЙ\", \"ROUGE, %\")"
   ]
  },
  {
   "cell_type": "code",
   "execution_count": null,
   "metadata": {},
   "outputs": [],
   "source": []
  }
 ],
 "metadata": {
  "kernelspec": {
   "display_name": "Python 3",
   "language": "python",
   "name": "python3"
  },
  "language_info": {
   "codemirror_mode": {
    "name": "ipython",
    "version": 3
   },
   "file_extension": ".py",
   "mimetype": "text/x-python",
   "name": "python",
   "nbconvert_exporter": "python",
   "pygments_lexer": "ipython3",
   "version": "3.8.2"
  }
 },
 "nbformat": 4,
 "nbformat_minor": 4
}