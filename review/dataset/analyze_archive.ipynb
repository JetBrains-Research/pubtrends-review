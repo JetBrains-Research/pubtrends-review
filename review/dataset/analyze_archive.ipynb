{
 "cells": [
  {
   "cell_type": "markdown",
   "metadata": {
    "pycharm": {
     "name": "#%% md\n"
    }
   },
   "source": [
    "# Analyze archive\n",
    "\n",
    "This notebook contains the code to analyse content of the PubMedCentral Author Manuscript Collection. \\\n",
    "See: https://www.ncbi.nlm.nih.gov/pmc/about/mscollection/\n",
    "\n",
    "Files can be downloaded here: https://ftp.ncbi.nlm.nih.gov/pub/pmc/manuscript/xml/ \\\n",
    "**Please ensure** that files are downloaded into `~/pmc_dataset` folder to proceed."
   ]
  },
  {
   "cell_type": "markdown",
   "metadata": {
    "pycharm": {
     "name": "#%% md\n"
    }
   },
   "source": [
    "## Collecting files"
   ]
  },
  {
   "cell_type": "code",
   "execution_count": null,
   "metadata": {
    "pycharm": {
     "name": "#%%\n"
    }
   },
   "outputs": [],
   "source": [
    "% matplotlib inline\n",
    "% config InlineBackend.figure_format='retina'\n",
    "\n",
    "import functools\n",
    "import os\n",
    "from collections import Counter\n",
    "from glob import glob\n",
    "\n",
    "import matplotlib.pyplot as plt\n",
    "from lxml import etree\n",
    "from tqdm.auto import tqdm\n",
    "\n",
    "dict_articles = {}\n",
    "pmc_dataset_root = os.path.expanduser('~/pmc_dataset')\n",
    "\n",
    "\n",
    "for filelist in tqdm(glob(os.path.join(pmc_dataset_root, '*filelist.txt'))):\n",
    "    with open(filelist, 'r') as f:\n",
    "        for line in f:\n",
    "            if 'LastUpdated' in line:\n",
    "                continue\n",
    "            filename, pmcid, pmid, mid, date, time = line.split()\n",
    "            dict_articles[pmid] = filename"
   ]
  },
  {
   "cell_type": "code",
   "execution_count": null,
   "metadata": {
    "pycharm": {
     "name": "#%%\n"
    }
   },
   "outputs": [],
   "source": [
    "print('Total papers', len(dict_articles))"
   ]
  },
  {
   "cell_type": "code",
   "execution_count": null,
   "metadata": {
    "pycharm": {
     "name": "#%%\n"
    }
   },
   "outputs": [],
   "source": [
    "list(dict_articles.values())[:10]"
   ]
  },
  {
   "cell_type": "code",
   "execution_count": null,
   "metadata": {
    "pycharm": {
     "name": "#%%\n"
    }
   },
   "outputs": [],
   "source": [
    "def count_tags(node):\n",
    "    stat = Counter()\n",
    "\n",
    "    def dfs(root):\n",
    "        stat[root.tag] += 1\n",
    "        for child in root.getchildren():\n",
    "            dfs(child)\n",
    "\n",
    "    dfs(node)\n",
    "    return stat"
   ]
  },
  {
   "cell_type": "code",
   "execution_count": null,
   "metadata": {
    "pycharm": {
     "name": "#%%\n"
    }
   },
   "outputs": [],
   "source": [
    "def get_title(tree):\n",
    "    return etree.tostring(tree.getroot().find(\"front\").find(\"article-meta\").find(\"title-group\").find(\"article-title\"))"
   ]
  },
  {
   "cell_type": "markdown",
   "metadata": {
    "pycharm": {
     "name": "#%% md\n"
    }
   },
   "source": [
    "## Collecting review papers"
   ]
  },
  {
   "cell_type": "code",
   "execution_count": null,
   "metadata": {
    "pycharm": {
     "name": "#%%\n"
    }
   },
   "outputs": [],
   "source": [
    "review_filenames = set()\n",
    "for filename in tqdm(dict_articles.values()):\n",
    "    tree = etree.parse(os.path.join(pmc_dataset_root, filename))\n",
    "    title = str(get_title(tree))\n",
    "    if not title:\n",
    "        print(f\"\\r{filename}\")\n",
    "    if \"review\" in title.lower():\n",
    "        review_filenames.add(filename)"
   ]
  },
  {
   "cell_type": "code",
   "execution_count": null,
   "metadata": {
    "pycharm": {
     "name": "#%%\n"
    }
   },
   "outputs": [],
   "source": [
    "print('Review papers', len(review_filenames))"
   ]
  },
  {
   "cell_type": "markdown",
   "metadata": {
    "pycharm": {
     "name": "#%% md\n"
    }
   },
   "source": [
    "## Collecting tag statistics"
   ]
  },
  {
   "cell_type": "code",
   "execution_count": null,
   "metadata": {
    "pycharm": {
     "name": "#%%\n"
    }
   },
   "outputs": [],
   "source": [
    "tag_stat = {}\n",
    "tag_stat['review'] = Counter()\n",
    "tag_stat['ordinary'] = Counter()\n",
    "for filename in tqdm(dict_articles.values()):\n",
    "    tree = etree.parse(os.path.join(pmc_dataset_root, filename))\n",
    "    cur_stat = count_tags(tree.getroot())\n",
    "    if filename in review_filenames:\n",
    "        tag_stat['review'] += cur_stat\n",
    "    else:\n",
    "        tag_stat['ordinary'] += cur_stat"
   ]
  },
  {
   "cell_type": "code",
   "execution_count": null,
   "metadata": {
    "pycharm": {
     "name": "#%%\n"
    }
   },
   "outputs": [],
   "source": [
    "for s, cnt in zip(['ordinary', 'review'], [len(dict_articles) - len(review_filenames), len(review_filenames)]):\n",
    "    with open(f'{s}_tag_stat.txt', 'w') as f:\n",
    "        srt = sorted(tag_stat[s].items(), key=lambda x: x[1])\n",
    "        srt = list(map(lambda x: (x[0], x[1] / cnt), srt))\n",
    "        print(f'Number: {cnt}', file=f)\n",
    "        for val, count in srt:\n",
    "            print(f'{val} {count}', file=f)"
   ]
  },
  {
   "cell_type": "code",
   "execution_count": null,
   "metadata": {
    "pycharm": {
     "name": "#%%\n"
    }
   },
   "outputs": [],
   "source": [
    "def tag_depth(node):\n",
    "    def dfs(root):\n",
    "        d = 1\n",
    "        for child in root.getchildren():\n",
    "            d = max(d, dfs(child) + 1)\n",
    "        return d\n",
    "\n",
    "    return dfs(node)"
   ]
  },
  {
   "cell_type": "code",
   "execution_count": null,
   "metadata": {
    "pycharm": {
     "name": "#%%\n"
    }
   },
   "outputs": [],
   "source": [
    "d_stat = {}\n",
    "d_stat['review'] = {}\n",
    "d_stat['ordinary'] = {}\n",
    "for filename in tqdm(dict_articles.values()):\n",
    "    tree = etree.parse(os.path.join(pmc_dataset_root, filename))\n",
    "    cur_stat = tag_depth(tree.getroot())\n",
    "    if filename in review_filenames:\n",
    "        d_stat['review'][filename] = cur_stat\n",
    "    else:\n",
    "        d_stat['ordinary'][filename] = cur_stat"
   ]
  },
  {
   "cell_type": "code",
   "execution_count": null,
   "metadata": {
    "pycharm": {
     "name": "#%%\n"
    }
   },
   "outputs": [],
   "source": [
    "print(list(d_stat['review'].items())[:10])"
   ]
  },
  {
   "cell_type": "code",
   "execution_count": null,
   "metadata": {
    "pycharm": {
     "name": "#%%\n"
    }
   },
   "outputs": [],
   "source": [
    "for s in ['ordinary', 'review']:\n",
    "    with open(f'{s}_tag_depth.txt', 'w') as f:\n",
    "        srt = sorted(d_stat[s].items(), key=lambda x: x[1])\n",
    "        for val, count in srt:\n",
    "            print(f'{val} {count}', file=f)"
   ]
  },
  {
   "cell_type": "code",
   "execution_count": null,
   "metadata": {
    "pycharm": {
     "name": "#%%\n"
    }
   },
   "outputs": [],
   "source": [
    "plt.title('Tag depths review papers')\n",
    "plt.hist(d_stat['review'].values(), bins=range(5, 20))\n",
    "plt.show()"
   ]
  },
  {
   "cell_type": "code",
   "execution_count": null,
   "metadata": {
    "pycharm": {
     "name": "#%%\n"
    }
   },
   "outputs": [],
   "source": [
    "plt.title('Tag depth ordinary papers')\n",
    "plt.hist(d_stat['ordinary'].values(), bins=range(5, 20))\n",
    "plt.show()"
   ]
  },
  {
   "cell_type": "code",
   "execution_count": null,
   "metadata": {
    "pycharm": {
     "name": "#%%\n"
    }
   },
   "outputs": [],
   "source": [
    "tree = etree.parse(os.path.join(pmc_dataset_root, list(dict_articles.values())[0]))"
   ]
  },
  {
   "cell_type": "markdown",
   "metadata": {
    "pycharm": {
     "name": "#%% md\n"
    }
   },
   "source": [
    "### Collecting paragraphs statistics"
   ]
  },
  {
   "cell_type": "code",
   "execution_count": null,
   "metadata": {
    "pycharm": {
     "name": "#%%\n"
    }
   },
   "outputs": [],
   "source": [
    "def get_paragraph_info(root):\n",
    "    num = 0\n",
    "    sum_pos = -1\n",
    "    disc_pos = -1\n",
    "    lens = Counter()\n",
    "    for ch in root.find('body').getchildren():\n",
    "        if ch.tag == 'sec':\n",
    "            num += 1\n",
    "            try:\n",
    "                lens[num] = len(etree.tostring(ch))\n",
    "            except Exception:\n",
    "                lens[num] = 0\n",
    "                print(\"\\n!\")\n",
    "            str_title = str(etree.tostring(ch.find('title'))).lower()\n",
    "            if 'summary' in str_title:\n",
    "                sum_pos = num\n",
    "            if 'discussion' in str_title:\n",
    "                disc_pos = num\n",
    "    return num, sum_pos, disc_pos, lens"
   ]
  },
  {
   "cell_type": "code",
   "execution_count": null,
   "metadata": {
    "pycharm": {
     "name": "#%%\n"
    }
   },
   "outputs": [],
   "source": [
    "review_filenames = set()\n",
    "\n",
    "with open('review_tag_depth.txt', 'r') as f:\n",
    "    for line in f:\n",
    "        filename, _ = line.split()\n",
    "        review_filenames.add(filename)"
   ]
  },
  {
   "cell_type": "code",
   "execution_count": null,
   "metadata": {
    "scrolled": true,
    "pycharm": {
     "name": "#%%\n"
    }
   },
   "outputs": [],
   "source": [
    "para_stats = {}\n",
    "para_stats['review'] = {}\n",
    "para_stats['ordinary'] = {}\n",
    "\n",
    "for filename in tqdm(dict_articles.values()):\n",
    "    tree = etree.parse(os.path.join(pmc_dataset_root, filename))\n",
    "    try:\n",
    "        cur_stat = get_paragraph_info(tree.getroot())\n",
    "    except Exception:\n",
    "        print(f\"\\n{filename}\")\n",
    "        continue\n",
    "    if filename in review_filenames:\n",
    "        para_stats['review'][filename] = cur_stat\n",
    "    else:\n",
    "        para_stats['ordinary'][filename] = cur_stat"
   ]
  },
  {
   "cell_type": "code",
   "execution_count": null,
   "metadata": {
    "pycharm": {
     "name": "#%%\n"
    }
   },
   "outputs": [],
   "source": [
    "list(para_stats['review'].items())[:10]"
   ]
  },
  {
   "cell_type": "markdown",
   "metadata": {
    "pycharm": {
     "name": "#%% md\n"
    }
   },
   "source": [
    "#### Number of sections"
   ]
  },
  {
   "cell_type": "code",
   "execution_count": null,
   "metadata": {
    "pycharm": {
     "name": "#%%\n"
    }
   },
   "outputs": [],
   "source": [
    "para_nums = list(map(lambda x: x[1][0], para_stats['review'].items()))\n",
    "print(para_nums[:10])\n",
    "plt.title('Number of sections in review papers')\n",
    "plt.hist(para_nums, bins=range(1, 20))\n",
    "plt.show()"
   ]
  },
  {
   "cell_type": "code",
   "execution_count": null,
   "metadata": {
    "pycharm": {
     "name": "#%%\n"
    }
   },
   "outputs": [],
   "source": [
    "para_nums = list(map(lambda x: x[1][0], para_stats['ordinary'].items()))\n",
    "print(para_nums[:10])\n",
    "plt.title('Number of sections in ordinary papers')\n",
    "plt.hist(para_nums, bins=range(1, 20))\n",
    "plt.show()"
   ]
  },
  {
   "cell_type": "markdown",
   "metadata": {
    "pycharm": {
     "name": "#%% md\n"
    }
   },
   "source": [
    "### Discussion section position"
   ]
  },
  {
   "cell_type": "code",
   "execution_count": null,
   "metadata": {
    "pycharm": {
     "name": "#%%\n"
    }
   },
   "outputs": [],
   "source": [
    "sum_stat = list(map(lambda x: x[1][1], para_stats['review'].items()))\n",
    "print(sum_stat[:10])\n",
    "plt.title('Position of discussion section in review papers')\n",
    "plt.hist(sum_stat, bins=range(1, 20))\n",
    "plt.show()"
   ]
  },
  {
   "cell_type": "code",
   "execution_count": null,
   "metadata": {
    "pycharm": {
     "name": "#%%\n"
    }
   },
   "outputs": [],
   "source": [
    "sum_stat = list(map(lambda x: x[1][1], para_stats['ordinary'].items()))\n",
    "print(sum_stat[:10])\n",
    "plt.title('Position of discussion section in ordinary papers')\n",
    "plt.hist(sum_stat, bins=range(1, 20))\n",
    "plt.show()"
   ]
  },
  {
   "cell_type": "markdown",
   "metadata": {
    "pycharm": {
     "name": "#%% md\n"
    }
   },
   "source": [
    "### Position of discussion papers"
   ]
  },
  {
   "cell_type": "code",
   "execution_count": null,
   "metadata": {
    "pycharm": {
     "name": "#%%\n"
    }
   },
   "outputs": [],
   "source": [
    "sum_stat = list(map(lambda x: x[1][2], para_stats['review'].items()))\n",
    "print(sum_stat[:10])\n",
    "plt.title('Position of discussion section in review papers')\n",
    "plt.hist(sum_stat, bins=range(-1, 20))\n",
    "plt.show()"
   ]
  },
  {
   "cell_type": "code",
   "execution_count": null,
   "metadata": {
    "pycharm": {
     "name": "#%%\n"
    }
   },
   "outputs": [],
   "source": [
    "sum_stat = list(map(lambda x: x[1][2], para_stats['ordinary'].items()))\n",
    "print(sum_stat[:10])\n",
    "plt.title('Position of discussion section in ordinary papers')\n",
    "plt.hist(sum_stat, bins=range(-1, 20))\n",
    "plt.show()"
   ]
  },
  {
   "cell_type": "markdown",
   "metadata": {
    "pycharm": {
     "name": "#%% md\n"
    }
   },
   "source": [
    "### Average number of sections"
   ]
  },
  {
   "cell_type": "code",
   "execution_count": null,
   "metadata": {
    "pycharm": {
     "name": "#%%\n"
    }
   },
   "outputs": [],
   "source": [
    "len_stat = functools.reduce(lambda x, y: x + y, map(lambda x: x[1][3], para_stats['review'].items()))\n",
    "plt.title('Average number of sections in review papers')\n",
    "plt.bar(len_stat.keys(), list(map(lambda x: x / len(para_stats['review'].items()), len_stat.values())))\n",
    "plt.show()"
   ]
  },
  {
   "cell_type": "code",
   "execution_count": null,
   "metadata": {
    "pycharm": {
     "name": "#%%\n"
    }
   },
   "outputs": [],
   "source": [
    "len_stat = functools.reduce(lambda x, y: x + y, map(lambda x: x[1][3], para_stats['ordinary'].items()))\n",
    "plt.title('Average number of sections in ordinary papers')\n",
    "plt.bar(list(map(lambda x: min(35, x), len_stat.keys())),\n",
    "        list(map(lambda x: x / len(para_stats['ordinary'].items()), len_stat.values())))\n",
    "plt.show()"
   ]
  },
  {
   "cell_type": "markdown",
   "metadata": {
    "pycharm": {
     "name": "#%% md\n"
    }
   },
   "source": [
    "### Position of conclusion section"
   ]
  },
  {
   "cell_type": "code",
   "execution_count": null,
   "metadata": {
    "pycharm": {
     "name": "#%%\n"
    }
   },
   "outputs": [],
   "source": [
    "xml = '<tag>Some <a>example</a> text</tag>'\n",
    "tree = etree.fromstring(xml)\n",
    "print(''.join(tree.itertext()))"
   ]
  },
  {
   "cell_type": "code",
   "execution_count": null,
   "metadata": {
    "pycharm": {
     "name": "#%%\n"
    }
   },
   "outputs": [],
   "source": [
    "list(filter(lambda x: x[1][0] == 1, para_stats['ordinary'].items()))[:10]"
   ]
  },
  {
   "cell_type": "code",
   "execution_count": null,
   "metadata": {
    "pycharm": {
     "name": "#%%\n"
    }
   },
   "outputs": [],
   "source": [
    "def get_conc_info(root):\n",
    "    conc_pos = -1\n",
    "    num = 0\n",
    "    for ch in root.find('body').getchildren():\n",
    "        if ch.tag == 'sec':\n",
    "            num += 1\n",
    "            str_title = str(etree.tostring(ch.find('title'))).lower()\n",
    "            if 'conclusion' in str_title:\n",
    "                conc_pos = num\n",
    "    return conc_pos"
   ]
  },
  {
   "cell_type": "code",
   "execution_count": null,
   "metadata": {
    "pycharm": {
     "name": "#%%\n"
    }
   },
   "outputs": [],
   "source": [
    "conc_stats = {}\n",
    "conc_stats['review'] = {}\n",
    "conc_stats['ordinary'] = {}\n",
    "\n",
    "for filename in tqdm(dict_articles.values()):\n",
    "    tree = etree.parse(os.path.join(pmc_dataset_root, filename))\n",
    "    try:\n",
    "        cur_stat = get_conc_info(tree.getroot())\n",
    "    except Exception:\n",
    "        print(f\"\\n{filename}\")\n",
    "        continue\n",
    "    if filename in review_filenames:\n",
    "        conc_stats['review'][filename] = cur_stat\n",
    "    else:\n",
    "        conc_stats['ordinary'][filename] = cur_stat"
   ]
  },
  {
   "cell_type": "code",
   "execution_count": null,
   "metadata": {
    "pycharm": {
     "name": "#%%\n"
    }
   },
   "outputs": [],
   "source": [
    "conc_stat = list(map(lambda x: x[1], conc_stats['review'].items()))\n",
    "print(conc_stat[:10])\n",
    "plt.title('Position of conclusion section in review papers')\n",
    "plt.hist(conc_stat, bins=range(-1, 20))\n",
    "plt.show()"
   ]
  },
  {
   "cell_type": "code",
   "execution_count": null,
   "metadata": {
    "pycharm": {
     "name": "#%%\n"
    }
   },
   "outputs": [],
   "source": [
    "conc_stat = list(map(lambda x: x[1], conc_stats['ordinary'].items()))\n",
    "print(conc_stat[:10])\n",
    "plt.title('Position of conclusion section in ordinary papers')\n",
    "plt.hist(conc_stat, bins=range(-1, 20))\n",
    "plt.show()"
   ]
  }
 ],
 "metadata": {
  "kernelspec": {
   "display_name": "Python 3 (ipykernel)",
   "language": "python",
   "name": "python3"
  },
  "language_info": {
   "codemirror_mode": {
    "name": "ipython",
    "version": 3
   },
   "file_extension": ".py",
   "mimetype": "text/x-python",
   "name": "python",
   "nbconvert_exporter": "python",
   "pygments_lexer": "ipython3",
   "version": "3.10.4"
  }
 },
 "nbformat": 4,
 "nbformat_minor": 4
}